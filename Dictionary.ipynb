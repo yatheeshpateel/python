{
 "cells": [
  {
   "cell_type": "code",
   "execution_count": 1,
   "id": "c786e61a",
   "metadata": {},
   "outputs": [
    {
     "name": "stdout",
     "output_type": "stream",
     "text": [
      "{1: 11, 2: 22, 3: 33, 4: 44}\n"
     ]
    }
   ],
   "source": [
    "d = {1:11,2:22,3:33,4:44}\n",
    "print(d)"
   ]
  },
  {
   "cell_type": "code",
   "execution_count": 2,
   "id": "696c3847",
   "metadata": {},
   "outputs": [
    {
     "name": "stdout",
     "output_type": "stream",
     "text": [
      "<class 'dict'>\n"
     ]
    }
   ],
   "source": [
    "print(type(d))\n"
   ]
  },
  {
   "cell_type": "code",
   "execution_count": 3,
   "id": "545c6a1e",
   "metadata": {},
   "outputs": [
    {
     "name": "stdout",
     "output_type": "stream",
     "text": [
      "22\n"
     ]
    }
   ],
   "source": [
    "d1 = d\n",
    "d2 = d.copy()# deep copy\n",
    "print(d[2])"
   ]
  },
  {
   "cell_type": "code",
   "execution_count": 4,
   "id": "edc5d259",
   "metadata": {},
   "outputs": [
    {
     "name": "stdout",
     "output_type": "stream",
     "text": [
      "222\n"
     ]
    }
   ],
   "source": [
    "d[2]= 222\n",
    "print(d[2])"
   ]
  },
  {
   "cell_type": "code",
   "execution_count": 6,
   "id": "31e14cf3",
   "metadata": {},
   "outputs": [
    {
     "name": "stdout",
     "output_type": "stream",
     "text": [
      "222\n"
     ]
    }
   ],
   "source": [
    "print(d1[2])"
   ]
  },
  {
   "cell_type": "code",
   "execution_count": 7,
   "id": "4cca702f",
   "metadata": {},
   "outputs": [
    {
     "name": "stdout",
     "output_type": "stream",
     "text": [
      "22\n"
     ]
    }
   ],
   "source": [
    "print(d2[2])"
   ]
  },
  {
   "cell_type": "code",
   "execution_count": 8,
   "id": "c3c872b4",
   "metadata": {},
   "outputs": [],
   "source": [
    "del d[2]"
   ]
  },
  {
   "cell_type": "code",
   "execution_count": 9,
   "id": "7d38425a",
   "metadata": {},
   "outputs": [
    {
     "name": "stdout",
     "output_type": "stream",
     "text": [
      "{1: 11, 3: 33, 4: 44}\n"
     ]
    }
   ],
   "source": [
    "print(d)"
   ]
  },
  {
   "cell_type": "code",
   "execution_count": 10,
   "id": "098490ee",
   "metadata": {},
   "outputs": [
    {
     "name": "stdout",
     "output_type": "stream",
     "text": [
      "{1: 11, 3: 33, 4: 44}\n"
     ]
    }
   ],
   "source": [
    "print(d1)"
   ]
  },
  {
   "cell_type": "code",
   "execution_count": 11,
   "id": "59d26f18",
   "metadata": {},
   "outputs": [
    {
     "name": "stdout",
     "output_type": "stream",
     "text": [
      "{1: 11, 2: 22, 3: 33, 4: 44}\n"
     ]
    }
   ],
   "source": [
    "print(d2)"
   ]
  },
  {
   "cell_type": "code",
   "execution_count": 13,
   "id": "095b0f6c",
   "metadata": {},
   "outputs": [
    {
     "name": "stdout",
     "output_type": "stream",
     "text": [
      "{'name': 'rama', 'age': 23, 'height': 5.9, 'phnum': {'mob': 9988, 'land': 18172}, 'place': {'resd': 'Banglore', 'perm': 'Hassan'}, 'marks': {'10th': 95.6, 'puc': 70, 'be': 55}}\n",
      "rama\n",
      "Hassan\n",
      "55\n",
      "55\n",
      "55\n"
     ]
    }
   ],
   "source": [
    "student={\"name\":\"rama\",\n",
    "        \"age\":23,\n",
    "         \"height\":5.9,\n",
    "         \"phnum\":{\"mob\":9988,\n",
    "                  \"land\":18172\n",
    "                 },\n",
    "         \"place\":{\"resd\":\"Banglore\",\n",
    "                  \"perm\":\"Hassan\"\n",
    "                 },\n",
    "         \"marks\":{\"10th\":95.6,\n",
    "                  \"puc\":70,\n",
    "                  \"be\":55\n",
    "                 },}\n",
    "print(student)\n",
    "print(student[\"name\"])\n",
    "print(student[\"place\"][\"perm\"])\n",
    "s1=student\n",
    "s2=student.copy()\n",
    "student[\"marks\"][\"be\"]\n",
    "print(s1[\"marks\"][\"be\"])\n",
    "print(s2[\"marks\"][\"be\"])\n",
    "print(student[\"marks\"][\"be\"])"
   ]
  },
  {
   "cell_type": "code",
   "execution_count": 14,
   "id": "77deeabf",
   "metadata": {},
   "outputs": [
    {
     "name": "stdout",
     "output_type": "stream",
     "text": [
      "{'name': 'rama', 'age': 23, 'height': 5.9, 'phnum': {'mob': 9988, 'land': 18172}, 'place': {'resd': 'Banglore', 'perm': 'Hassan'}, 'marks': {'10th': 95.6, 'puc': 70, 'be': 55}}\n",
      "rama\n",
      "Hassan\n",
      "55\n",
      "55\n",
      "55\n"
     ]
    }
   ],
   "source": [
    "import copy\n",
    "student={\"name\":\"rama\",\n",
    "        \"age\":23,\n",
    "         \"height\":5.9,\n",
    "         \"phnum\":{\"mob\":9988,\n",
    "                  \"land\":18172\n",
    "                 },\n",
    "         \"place\":{\"resd\":\"Banglore\",\n",
    "                  \"perm\":\"Hassan\"\n",
    "                 },\n",
    "         \"marks\":{\"10th\":95.6,\n",
    "                  \"puc\":70,\n",
    "                  \"be\":55\n",
    "                 },}\n",
    "print(student)\n",
    "print(student[\"name\"])\n",
    "print(student[\"place\"][\"perm\"])\n",
    "s1=student\n",
    "s2=student.copy()\n",
    "student[\"marks\"][\"be\"]\n",
    "print(s1[\"marks\"][\"be\"])\n",
    "print(s2[\"marks\"][\"be\"])\n",
    "print(student[\"marks\"][\"be\"])"
   ]
  },
  {
   "cell_type": "code",
   "execution_count": null,
   "id": "061ab7e2",
   "metadata": {},
   "outputs": [],
   "source": []
  }
 ],
 "metadata": {
  "kernelspec": {
   "display_name": "Python 3 (ipykernel)",
   "language": "python",
   "name": "python3"
  },
  "language_info": {
   "codemirror_mode": {
    "name": "ipython",
    "version": 3
   },
   "file_extension": ".py",
   "mimetype": "text/x-python",
   "name": "python",
   "nbconvert_exporter": "python",
   "pygments_lexer": "ipython3",
   "version": "3.9.12"
  }
 },
 "nbformat": 4,
 "nbformat_minor": 5
}
