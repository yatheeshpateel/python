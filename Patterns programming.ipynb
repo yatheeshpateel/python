{
 "cells": [
  {
   "cell_type": "markdown",
   "id": "9531dd2a",
   "metadata": {},
   "source": [
    "# Patterns Programing"
   ]
  },
  {
   "cell_type": "code",
   "execution_count": null,
   "id": "63147932",
   "metadata": {},
   "outputs": [],
   "source": []
  },
  {
   "cell_type": "code",
   "execution_count": 5,
   "id": "27cf8a27",
   "metadata": {},
   "outputs": [
    {
     "name": "stdout",
     "output_type": "stream",
     "text": [
      "* * * * * \n",
      "* * * * * \n",
      "* * * * * \n",
      "* * * * * \n",
      "* * * * * \n"
     ]
    }
   ],
   "source": [
    "for i in range(5):\n",
    "    for k in range(5):\n",
    "        print(\"*\" , end = \" \")\n",
    "    print()"
   ]
  },
  {
   "cell_type": "code",
   "execution_count": 6,
   "id": "55560bb3",
   "metadata": {},
   "outputs": [
    {
     "name": "stdout",
     "output_type": "stream",
     "text": [
      "0 0 0 0 0 \n",
      "1 1 1 1 1 \n",
      "2 2 2 2 2 \n",
      "3 3 3 3 3 \n",
      "4 4 4 4 4 \n"
     ]
    }
   ],
   "source": [
    "for i in range(5):\n",
    "    for j in range(5):\n",
    "        print(i,end = ' ')\n",
    "    print()"
   ]
  },
  {
   "cell_type": "code",
   "execution_count": 7,
   "id": "08793067",
   "metadata": {},
   "outputs": [
    {
     "name": "stdout",
     "output_type": "stream",
     "text": [
      "1 1 1 1 1 \n",
      "2 2 2 2 2 \n",
      "3 3 3 3 3 \n",
      "4 4 4 4 4 \n",
      "5 5 5 5 5 \n"
     ]
    }
   ],
   "source": [
    "for i in range(1,6):\n",
    "    for j in range(1,6):\n",
    "        print(i,end = ' ')\n",
    "    print()"
   ]
  },
  {
   "cell_type": "code",
   "execution_count": 8,
   "id": "1eca4dff",
   "metadata": {},
   "outputs": [
    {
     "name": "stdout",
     "output_type": "stream",
     "text": [
      "1 2 3 4 5 \n",
      "1 2 3 4 5 \n",
      "1 2 3 4 5 \n",
      "1 2 3 4 5 \n",
      "1 2 3 4 5 \n"
     ]
    }
   ],
   "source": [
    "for i in range(1,6):\n",
    "    for j in range(1,6):\n",
    "        print(j,end = ' ')\n",
    "    print()"
   ]
  },
  {
   "cell_type": "code",
   "execution_count": 10,
   "id": "5a40d686",
   "metadata": {},
   "outputs": [
    {
     "name": "stdout",
     "output_type": "stream",
     "text": [
      "0 1 2 3 4 \n",
      "0 1 2 3 4 \n",
      "0 1 2 3 4 \n",
      "0 1 2 3 4 \n",
      "0 1 2 3 4 \n"
     ]
    }
   ],
   "source": [
    "for i in range(5):\n",
    "    for j in range(5):\n",
    "        print(j,end = ' ')\n",
    "    print()"
   ]
  },
  {
   "cell_type": "markdown",
   "id": "7ecf7850",
   "metadata": {},
   "source": [
    "# user define input\n"
   ]
  },
  {
   "cell_type": "code",
   "execution_count": 12,
   "id": "1793c4ac",
   "metadata": {},
   "outputs": [
    {
     "name": "stdout",
     "output_type": "stream",
     "text": [
      "enter the number of rows3\n",
      "1 2 3 \n",
      "1 2 3 \n",
      "1 2 3 \n"
     ]
    }
   ],
   "source": [
    "rows = int(input(\"enter the number of rows\"))\n",
    "for i in range(1,rows+1):\n",
    "    for j in range(1,rows+1):\n",
    "        print(j,end = ' ')\n",
    "    print()"
   ]
  },
  {
   "cell_type": "code",
   "execution_count": 7,
   "id": "84dfa1a6",
   "metadata": {},
   "outputs": [
    {
     "name": "stdout",
     "output_type": "stream",
     "text": [
      "enter the number of rows5\n",
      "        0 \n",
      "      0 1 \n",
      "    0 1 2 \n",
      "  0 1 2 3 \n"
     ]
    }
   ],
   "source": [
    "rows = int(input(\"enter the number of rows\"))\n",
    "for i in range(1,rows):\n",
    "\n",
    "    for j in range(rows-i):\n",
    "        print(\" \", end = ' ')\n",
    "    for j in range(i):\n",
    "        print(j,end = ' ')\n",
    "    print()"
   ]
  },
  {
   "cell_type": "code",
   "execution_count": 14,
   "id": "6a814b93",
   "metadata": {},
   "outputs": [
    {
     "name": "stdout",
     "output_type": "stream",
     "text": [
      "enter the number of rows5\n",
      "* * * * \n",
      "* * * \n",
      "* * \n",
      "* \n"
     ]
    }
   ],
   "source": [
    "rows = int(input(\"enter the number of rows\"))\n",
    "for i in range(1,rows):\n",
    "    for j in range(j):\n",
    "        print(\"*\", end = ' ')\n",
    "    print()"
   ]
  },
  {
   "cell_type": "code",
   "execution_count": 20,
   "id": "86555d55",
   "metadata": {},
   "outputs": [
    {
     "name": "stdout",
     "output_type": "stream",
     "text": [
      "1      1\n",
      "12    21\n",
      "123  321\n",
      "12344321\n"
     ]
    }
   ],
   "source": [
    "n=4\n",
    "for i in range(n):\n",
    "    for j in range(i+1):\n",
    "        print(j+1,end=\"\")\n",
    "    for j in range(2*(n-i-1)):\n",
    "        print(\" \",end=\"\")\n",
    "    for j in range(i+1,0,-1):\n",
    "        print(j,end=\"\")\n",
    "    print()\n",
    "    "
   ]
  },
  {
   "cell_type": "code",
   "execution_count": 1,
   "id": "11fce665",
   "metadata": {},
   "outputs": [
    {
     "name": "stdout",
     "output_type": "stream",
     "text": [
      "enter the number of rows6\n",
      "1 \n",
      "1 2 \n",
      "1 2 3 \n",
      "1 2 3 4 \n",
      "1 2 3 4 5 \n"
     ]
    }
   ],
   "source": [
    "rows = int(input(\"enter the number of rows\"))\n",
    "for i in range(1,rows):\n",
    "    for j in range(1,i+1):\n",
    "        print(j, end = ' ')\n",
    "    print()"
   ]
  },
  {
   "cell_type": "code",
   "execution_count": 9,
   "id": "41ce7a81",
   "metadata": {},
   "outputs": [
    {
     "name": "stdout",
     "output_type": "stream",
     "text": [
      "enter the number of rows5\n",
      "1 \n",
      "0 1 \n",
      "0 1 0 \n",
      "1 0 1 0 \n",
      "1 0 1 0 1 \n"
     ]
    }
   ],
   "source": [
    "k =1\n",
    "rows = int(input(\"enter the number of rows\"))\n",
    "for i in range(1,rows+1):\n",
    "    for j in range(1,i+1):\n",
    "        print(k%2, end = ' ')\n",
    "        k = k+1\n",
    "    print()"
   ]
  },
  {
   "cell_type": "code",
   "execution_count": 9,
   "id": "b2b36f5b",
   "metadata": {},
   "outputs": [
    {
     "name": "stdout",
     "output_type": "stream",
     "text": [
      "enter the number of rows5\n",
      "1 \n",
      "2 3 \n",
      "4 5 6 \n",
      "7 8 9 10 \n",
      "11 12 13 14 15 \n"
     ]
    }
   ],
   "source": [
    "k =1\n",
    "rows = int(input(\"enter the number of rows\"))\n",
    "for i in range(1,rows+1):\n",
    "    for j in range(1,i+1):\n",
    "        print(k, end = ' ')\n",
    "        k =k+1\n",
    "        \n",
    "    print()"
   ]
  },
  {
   "cell_type": "code",
   "execution_count": 10,
   "id": "a87fe092",
   "metadata": {},
   "outputs": [
    {
     "name": "stdout",
     "output_type": "stream",
     "text": [
      "enter the number of rows5\n",
      "1 \n",
      "0 1 \n",
      "1 0 1 \n",
      "0 1 0 1 \n",
      "1 0 1 0 1 \n"
     ]
    }
   ],
   "source": [
    "\n",
    "rows = int(input(\"enter the number of rows\"))\n",
    "for i in range(1,rows+1):\n",
    "    for j in range(1,i+1):\n",
    "        print((i+j+1)%2, end = ' ')\n",
    "        \n",
    "    print()"
   ]
  },
  {
   "cell_type": "code",
   "execution_count": 21,
   "id": "fb34af3a",
   "metadata": {},
   "outputs": [
    {
     "name": "stdout",
     "output_type": "stream",
     "text": [
      "A \n",
      "C B \n",
      "F E D \n",
      "J I H G \n",
      "O N M L K \n"
     ]
    }
   ],
   "source": [
    "sum = 0\n",
    "rows = 5\n",
    "for i in range(1,rows+1):\n",
    "    sum = sum+i\n",
    "    temp = sum\n",
    "    for j in range(1,i+1):\n",
    "        print(chr(temp+64), end = ' ')\n",
    "        temp = temp-1\n",
    "    print()"
   ]
  },
  {
   "cell_type": "markdown",
   "id": "f118d881",
   "metadata": {},
   "source": [
    "###### "
   ]
  },
  {
   "cell_type": "code",
   "execution_count": 3,
   "id": "cbe33cc7",
   "metadata": {},
   "outputs": [
    {
     "name": "stdout",
     "output_type": "stream",
     "text": [
      "        * \n",
      "      * * \n",
      "    * * * \n",
      "  * * * * \n",
      "* * * * * \n"
     ]
    }
   ],
   "source": [
    "row = 5\n",
    "for i in range(1,row + 1):\n",
    "    for j in range(row - i):\n",
    "        print(\" \",end =\" \")\n",
    "    for j in range(i):\n",
    "        print(\"*\",end = \" \")\n",
    "    print()"
   ]
  },
  {
   "cell_type": "code",
   "execution_count": 12,
   "id": "08d6fd27",
   "metadata": {},
   "outputs": [
    {
     "name": "stdout",
     "output_type": "stream",
     "text": [
      "        * \n",
      "      * * * \n",
      "    * * * * * \n",
      "  * * * * * * * \n",
      "* * * * * * * * * \n",
      "* * * * * * * * * * * \n",
      "  * * * * * * * * * \n",
      "    * * * * * * * \n",
      "      * * * * * \n",
      "        * * * \n"
     ]
    }
   ],
   "source": [
    "row = 5\n",
    "for i in range(row ):\n",
    "    for j in range(row - i-1):\n",
    "        print(\" \",end =\" \")\n",
    "    for j in range(2*i+1):\n",
    "        print(\"*\",end = \" \")\n",
    "    print()\n",
    "for i in range(row ):\n",
    "    for j in range(i):\n",
    "        print(\" \",end =\" \")\n",
    "    for j in range(2*(row+row)-2*row-(row+row)+1):\n",
    "        print(\"*\",end = \" \")\n",
    "        \n",
    "\n",
    "    print()\n"
   ]
  },
  {
   "cell_type": "code",
   "execution_count": 18,
   "id": "2f30846d",
   "metadata": {},
   "outputs": [
    {
     "name": "stdout",
     "output_type": "stream",
     "text": [
      "        1 \n",
      "      1 2 0 \n",
      "    1 2 3 0 1 \n",
      "  1 2 3 4 0 1 2 \n",
      "1 2 3 4 5 0 1 2 3 \n"
     ]
    }
   ],
   "source": [
    "row = 5\n",
    "for i in range(1,row + 1):\n",
    "    for j in range(row - i):\n",
    "        print(\" \",end =\" \")\n",
    "    for j in range(1,i+1):\n",
    "        print(j,end = \" \")\n",
    "    for j in range(0,i-1):\n",
    "        print(j,end = \" \")\n",
    "    print()\n"
   ]
  },
  {
   "cell_type": "code",
   "execution_count": 22,
   "id": "3af62362",
   "metadata": {},
   "outputs": [
    {
     "name": "stdout",
     "output_type": "stream",
     "text": [
      "        1 \n",
      "      1 2 1 \n",
      "    1 2 3 2 1 \n",
      "  1 2 3 4 3 2 1 \n",
      "1 2 3 4 5 4 3 2 1 \n"
     ]
    }
   ],
   "source": [
    "row = 5\n",
    "for i in range(1,row + 1):\n",
    "    for j in range(row - i):\n",
    "        print(\" \",end =\" \")\n",
    "    for j in range(1,i+1):\n",
    "        print(j,end = \" \")\n",
    "    for j in range(i-1,0,-1):\n",
    "        print(j,end = \" \")\n",
    "    print()\n"
   ]
  },
  {
   "cell_type": "code",
   "execution_count": 62,
   "id": "e3db9ad0",
   "metadata": {},
   "outputs": [
    {
     "name": "stdout",
     "output_type": "stream",
     "text": [
      "        5 \n",
      "      5 4 5 \n",
      "    5 4 3 4 5 \n",
      "  5 4 3 2 3 4 5 \n",
      "5 4 3 2 1 2 3 4 5 \n"
     ]
    }
   ],
   "source": [
    "row = 5\n",
    "for i in range(1,row + 1):\n",
    "    for j in range(row - i):\n",
    "        print(\" \",end =\" \")\n",
    "    for j in range(row,row-i,-1):\n",
    "        print(j,end = \" \")\n",
    "    for j in range(row+2-i,row+1,1):\n",
    "        print(j,end = \" \")\n",
    "    print()\n"
   ]
  },
  {
   "cell_type": "code",
   "execution_count": 71,
   "id": "fb7cea7d",
   "metadata": {},
   "outputs": [
    {
     "name": "stdout",
     "output_type": "stream",
     "text": [
      "        1 \n",
      "      2 1 2 \n",
      "    3 2 1 2 3 \n",
      "  4 3 2 1 2 3 4 \n",
      "5 4 3 2 1 2 3 4 5 \n"
     ]
    }
   ],
   "source": [
    "row = 5\n",
    "for i in range(1,row + 1):\n",
    "    for j in range(row - i):\n",
    "        print(\" \",end =\" \")\n",
    "    for j in range(i,0,-1):\n",
    "        print(j,end = \" \")\n",
    "    for j in range(2,i+1,1):\n",
    "        print(j,end = \" \")\n",
    "    print()"
   ]
  },
  {
   "cell_type": "code",
   "execution_count": 13,
   "id": "a3986406",
   "metadata": {},
   "outputs": [
    {
     "name": "stdout",
     "output_type": "stream",
     "text": [
      "        \n",
      "      \n",
      "    \n",
      "  \n",
      "\n"
     ]
    }
   ],
   "source": [
    "row = 5\n",
    "for i in range(1,row + 1):\n",
    "    for j in range(row - i):\n",
    "        print(\" \",end =\" \")\n",
    "    for j in range(i,0,1):\n",
    "        print(i,end = \" \")\n",
    "    print()"
   ]
  },
  {
   "cell_type": "code",
   "execution_count": 9,
   "id": "52a12da6",
   "metadata": {},
   "outputs": [
    {
     "name": "stdout",
     "output_type": "stream",
     "text": [
      "        1 \n",
      "      2 6 \n",
      "    3 7 10 \n",
      "  4 8 11 13 \n",
      "5 9 12 14 15 \n"
     ]
    }
   ],
   "source": [
    "n = 5\n",
    "for i in range(1,n + 1):\n",
    "    for j in range(row - i):\n",
    "        print(\" \",end =\" \")\n",
    "    for k in range(1,i+1):\n",
    "        print(i,end= \" \")\n",
    "        i = (i+n-k)\n",
    "    print()"
   ]
  },
  {
   "cell_type": "code",
   "execution_count": 12,
   "id": "c639c031",
   "metadata": {},
   "outputs": [
    {
     "name": "stdout",
     "output_type": "stream",
     "text": [
      "        1 \n",
      "      2 6 \n",
      "    3 7 10 \n",
      "  4 8 11 13 \n",
      "5 9 12 14 15 \n"
     ]
    }
   ],
   "source": [
    "row = 5\n",
    "for i in range(1,row + 1):\n",
    "    k =i\n",
    "    for j in range(row - i):\n",
    "        print(\" \",end =\" \")\n",
    "    for j in range(i):\n",
    "        print(k,end = \" \")\n",
    "        k =k+row-1-j\n",
    "    print()"
   ]
  },
  {
   "cell_type": "code",
   "execution_count": 4,
   "id": "c7969ef7",
   "metadata": {},
   "outputs": [
    {
     "name": "stdout",
     "output_type": "stream",
     "text": [
      "        * \n",
      "      * * * \n",
      "    * * * * * \n",
      "  * * * * * * * \n",
      "* * * * * * * * * \n",
      "  * * * * * * * \n",
      "    * * * * * \n",
      "      * * * \n",
      "        * \n"
     ]
    }
   ],
   "source": [
    "row = 5\n",
    "for i in range(1,row + 1):\n",
    "    for j in range(row - i):\n",
    "        print(\" \",end =\" \")\n",
    "    for j in range(i):\n",
    "        print(\"*\",end = \" \")\n",
    "    for j in range(i-1):\n",
    "        print(\"*\",end = \" \")\n",
    "    print()\n",
    "for i in range(1,row):\n",
    "    for j in range(i):\n",
    "        print(\" \",end = \" \")\n",
    "    for j in range(row-i):\n",
    "        print(\"*\",end =\" \")\n",
    "    for j in range(row-i-1):\n",
    "        print(\"*\",end= \" \")\n",
    "    \n",
    "    print()"
   ]
  },
  {
   "cell_type": "code",
   "execution_count": 36,
   "id": "acdd0500",
   "metadata": {
    "scrolled": true
   },
   "outputs": [
    {
     "name": "stdout",
     "output_type": "stream",
     "text": [
      "        1 \n",
      "      1 2 1 \n",
      "    1 2 3 2 1 \n",
      "  1 2 3 4 3 2 1 \n",
      "1 2 3 4 5 4 3 2 1 \n",
      "  1 2 3 4 3 2 1 \n",
      "    1 2 3 2 1 \n",
      "      1 2 1 \n",
      "        1 \n"
     ]
    }
   ],
   "source": [
    "row = 5\n",
    "for i in range(1,row + 1):\n",
    "    for j in range(row - i):\n",
    "        print(\" \",end =\" \")\n",
    "    for j in range(1,i+1):\n",
    "        print(j,end = \" \")\n",
    "    for j in range(i-1,0,-1):\n",
    "        print(j,end = \" \")\n",
    "    print()\n",
    "for i in range(1,row):\n",
    "    for j in range(i):\n",
    "        print(\" \",end=\" \")\n",
    "    for j in range(1,row-i+1):\n",
    "        print(j,end =\" \")\n",
    "    for j in range(row-i-1,0,-1):\n",
    "        print(j,end= \" \")\n",
    "    print()"
   ]
  },
  {
   "cell_type": "code",
   "execution_count": 50,
   "id": "e27e0534",
   "metadata": {},
   "outputs": [
    {
     "name": "stdout",
     "output_type": "stream",
     "text": [
      "        5 \n",
      "      5 4 5 \n",
      "    5 4 3 4 5 \n",
      "  5 4 3 2 3 4 5 \n",
      "5 4 3 2 1 2 3 4 5 \n",
      "  5 4 3 2 3 4 5 \n",
      "    5 4 3 4 5 \n",
      "      5 4 5 \n",
      "        5 \n"
     ]
    }
   ],
   "source": [
    "row = 5\n",
    "for i in range(1,row + 1):\n",
    "    for j in range(row - i):\n",
    "        print(\" \",end =\" \")\n",
    "    for j in range(1,i+1):\n",
    "        print(6-j,end = \" \")\n",
    "    for j in range(i-1,0,-1):\n",
    "        print(6-j,end = \" \")\n",
    "    print()\n",
    "for i in range(1,row):\n",
    "    for j in range(i):\n",
    "        print(\" \",end=\" \")\n",
    "    for j in range(1,row-i+1):\n",
    "        print(6-j,end =\" \")\n",
    "    for j in range(row-i-1,0,-1):\n",
    "        print(6-j,end= \" \")\n",
    "    print()"
   ]
  },
  {
   "cell_type": "code",
   "execution_count": 14,
   "id": "918b4008",
   "metadata": {},
   "outputs": [
    {
     "name": "stdout",
     "output_type": "stream",
     "text": [
      "  * *   * *   \n",
      "*     *     * \n",
      "*   R C B   * \n",
      "  *       *   \n",
      "    *   *     \n",
      "      *       \n"
     ]
    }
   ],
   "source": [
    "row = 6\n",
    "col = 7\n",
    "for i in range (row):\n",
    "    for j in range (col):\n",
    "        if((i == 1 and j%3==0)or(i==0 and j%3!=0)or(i-j==2)or(i+j==8)):\n",
    "            print(\"*\",end=' ')\n",
    "        elif(i==2 and j == 2):\n",
    "            print(\"R\",end = \" \")\n",
    "        \n",
    "        elif(i==2 and j == 3):\n",
    "            print(\"C\",end = \" \")\n",
    "    \n",
    "        elif(i==2 and j == 4):\n",
    "            print(\"B\",end = \" \")    \n",
    "        \n",
    "        else:\n",
    "            print(' ',end=' ')\n",
    "            \n",
    "    print()"
   ]
  },
  {
   "cell_type": "code",
   "execution_count": 26,
   "id": "898d25e2",
   "metadata": {},
   "outputs": [
    {
     "name": "stdout",
     "output_type": "stream",
     "text": [
      "      *       \n",
      "    *   *     \n",
      "  *       *   \n",
      "*   R C B   * \n",
      "*     *     * \n",
      "  * *   * *   \n"
     ]
    }
   ],
   "source": [
    "row = 6\n",
    "col = 7\n",
    "for i in range (row):\n",
    "    for j in range (col):\n",
    "        if((i == 4 and j%3==0)or(i==5 and j%3!=0)or(i+j==3)or(j-i==3)):\n",
    "            print(\"*\",end=' ')\n",
    "            \n",
    "        elif(i==3 and j == 2):\n",
    "            print(\"R\",end = \" \")\n",
    "        \n",
    "        elif(i==3 and j == 3):\n",
    "            print(\"C\",end = \" \")\n",
    "    \n",
    "        elif(i==3 and j == 4):\n",
    "            print(\"B\",end = \" \")\n",
    "       \n",
    "        else:\n",
    "            print(' ',end=' ')\n",
    "            \n",
    "    print()"
   ]
  },
  {
   "cell_type": "code",
   "execution_count": 28,
   "id": "b36c424b",
   "metadata": {},
   "outputs": [
    {
     "name": "stdout",
     "output_type": "stream",
     "text": [
      "  * *   * *   \n",
      "*     *     * \n",
      "*   R C B   * \n",
      "  *       *   \n",
      "    *   *     \n",
      "      *       \n",
      "    *   *     \n",
      "  *       *   \n",
      "*   R C B   * \n",
      "*     *     * \n",
      "  * *   * *   \n"
     ]
    }
   ],
   "source": [
    "row = 6\n",
    "col = 7\n",
    "for i in range (row):\n",
    "    for j in range (col):\n",
    "        if((i == 1 and j%3==0)or(i==0 and j%3!=0)or(i-j==2)or(i+j==8)):\n",
    "            print(\"*\",end=' ')\n",
    "        elif(i==2 and j == 2):\n",
    "            print(\"R\",end = \" \")\n",
    "        \n",
    "        elif(i==2 and j == 3):\n",
    "            print(\"C\",end = \" \")\n",
    "    \n",
    "        elif(i==2 and j == 4):\n",
    "            print(\"B\",end = \" \")    \n",
    "        \n",
    "        else:\n",
    "            print(' ',end=' ')\n",
    "            \n",
    "    print()\n",
    "row = 6\n",
    "col = 7\n",
    "for i in range (1,row):\n",
    "    for j in range (col):\n",
    "        if((i == 4 and j%3==0)or(i==5 and j%3!=0)or(i+j==3)or(j-i==3)):\n",
    "            print(\"*\",end=' ')\n",
    "            \n",
    "        elif(i==3 and j == 2):\n",
    "            print(\"R\",end = \" \")\n",
    "        \n",
    "        elif(i==3 and j == 3):\n",
    "            print(\"C\",end = \" \")\n",
    "    \n",
    "        elif(i==3 and j == 4):\n",
    "            print(\"B\",end = \" \")\n",
    "       \n",
    "        else:\n",
    "            print(' ',end=' ')\n",
    "            \n",
    "    print()"
   ]
  },
  {
   "cell_type": "code",
   "execution_count": 29,
   "id": "b517c0a1",
   "metadata": {},
   "outputs": [
    {
     "name": "stdout",
     "output_type": "stream",
     "text": [
      "* * * * * * \n",
      "*         * \n",
      "*         * \n",
      "*         * \n",
      "*         * \n",
      "* * * * * * \n"
     ]
    }
   ],
   "source": [
    "row = 6\n",
    "col = 6\n",
    "for i in range (row):\n",
    "    for j in range (col):\n",
    "        if((i == 0 or j==0 or j==row-1 or i==row-1)):\n",
    "            print(\"*\",end=' ')\n",
    "        else:\n",
    "            print(\" \",end=\" \")\n",
    "            \n",
    "    print()"
   ]
  },
  {
   "cell_type": "code",
   "execution_count": 35,
   "id": "07749201",
   "metadata": {},
   "outputs": [
    {
     "name": "stdout",
     "output_type": "stream",
     "text": [
      "*           \n",
      "* *         \n",
      "*   *       \n",
      "*     *     \n",
      "*       *   \n",
      "* * * * * * \n"
     ]
    }
   ],
   "source": [
    "row = 6\n",
    "col = 6\n",
    "for i in range (row):\n",
    "    for j in range (col):\n",
    "        if((j == 0 or i==j or i==row-1  )):\n",
    "            print(\"*\",end=' ')\n",
    "        else:\n",
    "            print(\" \",end=\" \")\n",
    "            \n",
    "    print()"
   ]
  },
  {
   "cell_type": "code",
   "execution_count": 40,
   "id": "389316cc",
   "metadata": {},
   "outputs": [
    {
     "name": "stdout",
     "output_type": "stream",
     "text": [
      "* * * * * * * * * \n",
      "* *     *     * * \n",
      "*   *   *   *   * \n",
      "*     * * *     * \n",
      "* * * * * * * * * \n",
      "*     * * *     * \n",
      "*   *   *   *   * \n",
      "* *     *     * * \n",
      "* * * * * * * * * \n"
     ]
    }
   ],
   "source": [
    "row = 9\n",
    "col = 9\n",
    "for i in range (row):\n",
    "    for j in range (col):\n",
    "        if((i == 0 )or (j==0) or (i == row//2) or (j== row//2) or (i==j) or (i+j == row-1) or (j==row-1) or (i==row-1)):\n",
    "            print(\"*\",end=' ')\n",
    "        else:\n",
    "            print(\" \",end=\" \")\n",
    "            \n",
    "    print()"
   ]
  },
  {
   "cell_type": "code",
   "execution_count": 5,
   "id": "3706e4fa",
   "metadata": {},
   "outputs": [
    {
     "name": "stdout",
     "output_type": "stream",
     "text": [
      "  * * * * \n",
      "    * * * \n",
      "      * * \n",
      "        * \n"
     ]
    }
   ],
   "source": [
    "row = 5\n",
    "for i in range(1,row):\n",
    "    for j in range(i):\n",
    "        print(\" \",end = \" \")\n",
    "    for j in range(row-i):\n",
    "        print(\"*\",end =\" \")\n",
    "    print()\n",
    "    +3."
   ]
  },
  {
   "cell_type": "code",
   "execution_count": 26,
   "id": "4376788a",
   "metadata": {},
   "outputs": [
    {
     "name": "stdout",
     "output_type": "stream",
     "text": [
      "1 \n",
      "3 2 \n",
      "6 5 4 \n",
      "10 9 8 7 \n",
      "15 14 13 12 11 \n"
     ]
    }
   ],
   "source": [
    "sum = 0\n",
    "rows = 5\n",
    "for i in range(1,rows+1):\n",
    "    sum = sum+i\n",
    "    temp = sum\n",
    "    for j in range(1,i+1):\n",
    "        print(temp, end = ' ')\n",
    "        temp = temp-1\n",
    "    print()"
   ]
  },
  {
   "cell_type": "code",
   "execution_count": 24,
   "id": "def967fb",
   "metadata": {},
   "outputs": [
    {
     "name": "stdout",
     "output_type": "stream",
     "text": [
      "        * \n",
      "      * * * \n",
      "    * * * * * \n",
      "  * * * * * * * \n",
      "* * * * * * * * * \n",
      "  * * * * * * * * * \n",
      "    * * * * * * * \n",
      "      * * * * * \n",
      "        * * * \n"
     ]
    }
   ],
   "source": [
    "row = 5\n",
    "for i in range(1,row+1):\n",
    "    for j in range(row-i):\n",
    "        print(\" \",end = \" \")\n",
    "    for j in range(i):\n",
    "        print(\"*\",end = \" \")\n",
    "    for j in range(i-1):\n",
    "        print(\"*\",end = \" \")\n",
    "    print()\n",
    "for i in range(1,row):\n",
    "    for i in range(i):\n",
    "        print(\" \",end= \" \")\n",
    "    for j in range(row-i):\n",
    "        print(\"*\",end = \" \")\n",
    "    for j in range(row-i-1):\n",
    "        print(\"*\",end = \" \")\n",
    "    \n",
    "    print()\n",
    "    "
   ]
  },
  {
   "cell_type": "code",
   "execution_count": null,
   "id": "ea6942ba",
   "metadata": {},
   "outputs": [],
   "source": [
    "for j  in ra"
   ]
  },
  {
   "cell_type": "code",
   "execution_count": 34,
   "id": "ebd2d32e",
   "metadata": {},
   "outputs": [
    {
     "name": "stdout",
     "output_type": "stream",
     "text": [
      "        * \n",
      "      * * * \n",
      "    * * * * * \n",
      "  * * * * * * * \n",
      "* * * * * * * * * \n",
      "  * * * * * * * \n",
      "    * * * * * \n",
      "      * * * \n",
      "        * \n"
     ]
    }
   ],
   "source": [
    "row = 5\n",
    "for i in range(1,row + 1):\n",
    "    for j in range(row - i):\n",
    "        print(\" \",end =\" \")\n",
    "    for j in range(i):\n",
    "        print(\"*\",end = \" \")\n",
    "    for j in range(i-1):\n",
    "        print(\"*\",end = \" \")\n",
    "    print()\n",
    "for i in range(1,row):\n",
    "    for j in range(i):\n",
    "        print(\" \",end = \" \")\n",
    "    for j in range(row-i):\n",
    "        print(\"*\",end =\" \")\n",
    "    for j in range(row-i-1):\n",
    "        print(\"*\",end= \" \")\n",
    "    \n",
    "    print()\n"
   ]
  },
  {
   "cell_type": "code",
   "execution_count": 32,
   "id": "627e0374",
   "metadata": {},
   "outputs": [
    {
     "name": "stdout",
     "output_type": "stream",
     "text": [
      "        * \n",
      "      * * * \n",
      "    * * * * * \n",
      "  * * * * * * * \n",
      "* * * * * * * * * \n",
      "| * * * * * \n",
      "| | * * * * \n",
      "| | | * * * \n",
      "| | | | * * \n"
     ]
    }
   ],
   "source": [
    "    \n",
    "row = 5\n",
    "for i in range(1,row+1):\n",
    "    for j in range(row-i):\n",
    "        print(\" \",end = \" \")\n",
    "    for j in range(i):\n",
    "        print(\"*\",end = \" \")\n",
    "    for j in range(i-1):\n",
    "        print(\"*\",end = \" \")\n",
    "    print()\n",
    "for i in range(1,row):\n",
    "    for i in range(i):\n",
    "        print(\"|\",end= \" \")\n",
    "    for j in range(row-i):\n",
    "        print(\"*\",end = \" \")\n",
    "\n",
    "    print()\n",
    "    "
   ]
  },
  {
   "cell_type": "code",
   "execution_count": 52,
   "id": "6325b003",
   "metadata": {},
   "outputs": [
    {
     "name": "stdout",
     "output_type": "stream",
     "text": [
      "          * \n",
      "        * * * \n",
      "      * * * * * \n",
      "    * * * * * * * \n",
      "  * * * * * * * * * \n",
      "    * * * * * * * \n",
      "      * * * * * \n",
      "        * * * \n",
      "          * \n",
      "            \n"
     ]
    }
   ],
   "source": [
    "n=5\n",
    "for i in range(2*n):\n",
    "    if i<n:\n",
    "        for j in range(n-i):\n",
    "            print(\" \n",
    "                  \n",
    "                  \n",
    "                  \n",
    "                  \n",
    "                  \n",
    "                  \",end = \" \")\n",
    "        for k in range(2*i+1):\n",
    "            print(\"*\",end = \" \")\n",
    "        print()\n",
    "    else:\n",
    "        for j in range(i-n+2):\n",
    "            print(\" \",end = \" \")        \n",
    "        for j in range(2*(n+n)-2*i-3):\n",
    "            print(\"*\",end = \" \")\n",
    "        print()\n",
    "        \n",
    "        "
   ]
  },
  {
   "cell_type": "code",
   "execution_count": 49,
   "id": "765618c0",
   "metadata": {},
   "outputs": [
    {
     "data": {
      "text/plain": [
       "7"
      ]
     },
     "execution_count": 49,
     "metadata": {},
     "output_type": "execute_result"
    }
   ],
   "source": [
    "i=5\n",
    "n=5\n",
    "(2*(n+n)-2*i-3)"
   ]
  },
  {
   "cell_type": "code",
   "execution_count": 41,
   "id": "afd2478f",
   "metadata": {},
   "outputs": [
    {
     "name": "stdout",
     "output_type": "stream",
     "text": [
      "* \n",
      "* * \n",
      "* * * \n",
      "* * * * \n",
      "* * * * * \n",
      "* * * * \n",
      "* * * \n",
      "* * \n",
      "* \n",
      "\n"
     ]
    }
   ],
   "source": [
    "n = 5\n",
    "for i in range(2*n):\n",
    "    if i<n:\n",
    "        for j in range(i+1):\n",
    "            print(\"*\",end = \" \")\n",
    "    else:\n",
    "          for j in range(i,2*n-1):\n",
    "            print(\"*\", end = \" \")\n",
    "    print()"
   ]
  },
  {
   "cell_type": "markdown",
   "id": "dc94683d",
   "metadata": {},
   "source": []
  },
  {
   "cell_type": "code",
   "execution_count": null,
   "id": "206ae8e6",
   "metadata": {},
   "outputs": [],
   "source": []
  }
 ],
 "metadata": {
  "kernelspec": {
   "display_name": "Python 3 (ipykernel)",
   "language": "python",
   "name": "python3"
  },
  "language_info": {
   "codemirror_mode": {
    "name": "ipython",
    "version": 3
   },
   "file_extension": ".py",
   "mimetype": "text/x-python",
   "name": "python",
   "nbconvert_exporter": "python",
   "pygments_lexer": "ipython3",
   "version": "3.9.19"
  }
 },
 "nbformat": 4,
 "nbformat_minor": 5
}
