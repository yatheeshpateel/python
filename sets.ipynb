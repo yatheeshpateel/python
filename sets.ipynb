{
 "cells": [
  {
   "cell_type": "code",
   "execution_count": 3,
   "id": "88002a85",
   "metadata": {},
   "outputs": [
    {
     "name": "stdout",
     "output_type": "stream",
     "text": [
      "{20, 55, 10, 45, 30}\n",
      "<class 'set'>\n"
     ]
    }
   ],
   "source": [
    "s = {10,30,10,55,20,45}\n",
    "print(s)\n",
    "print(type(s))\n"
   ]
  },
  {
   "cell_type": "code",
   "execution_count": 6,
   "id": "2735c718",
   "metadata": {},
   "outputs": [
    {
     "name": "stdout",
     "output_type": "stream",
     "text": [
      "{5, 70, 10, 45, 15, 25, 60, 30}\n"
     ]
    },
    {
     "ename": "TypeError",
     "evalue": "'set' object is not subscriptable",
     "output_type": "error",
     "traceback": [
      "\u001b[1;31m---------------------------------------------------------------------------\u001b[0m",
      "\u001b[1;31mTypeError\u001b[0m                                 Traceback (most recent call last)",
      "Cell \u001b[1;32mIn[6], line 3\u001b[0m\n\u001b[0;32m      1\u001b[0m s \u001b[38;5;241m=\u001b[39m {\u001b[38;5;241m10\u001b[39m,\u001b[38;5;241m5\u001b[39m,\u001b[38;5;241m15\u001b[39m,\u001b[38;5;241m25\u001b[39m,\u001b[38;5;241m30\u001b[39m,\u001b[38;5;241m45\u001b[39m,\u001b[38;5;241m60\u001b[39m,\u001b[38;5;241m70\u001b[39m}\n\u001b[0;32m      2\u001b[0m \u001b[38;5;28mprint\u001b[39m(s)\n\u001b[1;32m----> 3\u001b[0m \u001b[38;5;28mprint\u001b[39m(\u001b[43ms\u001b[49m\u001b[43m[\u001b[49m\u001b[38;5;241;43m1\u001b[39;49m\u001b[43m]\u001b[49m)\n\u001b[0;32m      4\u001b[0m \u001b[38;5;28;01mfor\u001b[39;00m i \u001b[38;5;129;01min\u001b[39;00m s:\n\u001b[0;32m      5\u001b[0m     \u001b[38;5;28mprint\u001b[39m(i)\n",
      "\u001b[1;31mTypeError\u001b[0m: 'set' object is not subscriptable"
     ]
    }
   ],
   "source": [
    "s = {10,5,15,25,30,45,60,70}\n",
    "print(s)\n",
    "print(s[1])\n",
    "for i in s:\n",
    "    print(i)"
   ]
  },
  {
   "cell_type": "code",
   "execution_count": 7,
   "id": "f7fd8224",
   "metadata": {},
   "outputs": [
    {
     "name": "stdout",
     "output_type": "stream",
     "text": [
      "5\n",
      "70\n",
      "10\n",
      "45\n",
      "15\n",
      "25\n",
      "60\n",
      "30\n"
     ]
    }
   ],
   "source": [
    "s = {10,5,15,25,30,45,60,70}\n",
    "for i in s:\n",
    "    print(i)"
   ]
  },
  {
   "cell_type": "code",
   "execution_count": 9,
   "id": "3b1cb9f1",
   "metadata": {},
   "outputs": [
    {
     "name": "stdout",
     "output_type": "stream",
     "text": [
      "0   5\n",
      "1   70\n",
      "2   10\n",
      "3   45\n",
      "4   15\n",
      "5   25\n",
      "6   60\n",
      "7   30\n"
     ]
    }
   ],
   "source": [
    "s = {10,5,15,25,30,45,60,70}\n",
    "for index,value in enumerate(s):\n",
    "    print(index,' ',value)"
   ]
  },
  {
   "cell_type": "code",
   "execution_count": 10,
   "id": "778e8050",
   "metadata": {},
   "outputs": [
    {
     "name": "stdout",
     "output_type": "stream",
     "text": [
      "enter a value\n",
      "1\n",
      "enter a value\n",
      "2\n",
      "enter a value\n",
      "3\n",
      "enter a value\n",
      "4\n",
      "enter a value\n",
      "5\n",
      "{1, 2, 3, 4, 5}\n"
     ]
    }
   ],
   "source": [
    "# how to add and remove the value in a set\n",
    "a = set()\n",
    "for i in range(5):\n",
    "    print(\"enter a value\")\n",
    "    data = int(input())\n",
    "    a.add(data)\n",
    "print(a)\n"
   ]
  },
  {
   "cell_type": "code",
   "execution_count": 11,
   "id": "61842f57",
   "metadata": {},
   "outputs": [
    {
     "name": "stdout",
     "output_type": "stream",
     "text": [
      "enter a value\n",
      "1\n",
      "enter a value\n",
      "2\n",
      "enter a value\n",
      "3\n",
      "enter a value\n",
      "4\n",
      "enter a value\n",
      "5\n",
      "{1, 2, 3, 4, 5}\n",
      "{1, 2, 3, 4, 5, 7, 8, 9}\n"
     ]
    }
   ],
   "source": [
    "a = set()\n",
    "for i in range(5):\n",
    "    print(\"enter a value\")\n",
    "    data = int(input())\n",
    "    a.add(data)\n",
    "print(a)\n",
    "a.update([7,8,9])\n",
    "print(a)"
   ]
  },
  {
   "cell_type": "code",
   "execution_count": 14,
   "id": "f1f87b09",
   "metadata": {},
   "outputs": [
    {
     "name": "stdout",
     "output_type": "stream",
     "text": [
      "enter a value\n",
      "1\n",
      "enter a value\n",
      "2\n",
      "enter a value\n",
      "3\n",
      "enter a value\n",
      "4\n",
      "enter a value\n",
      "5\n",
      "{1, 2, 3, 4, 5}\n",
      "{1, 2, 3, 4, 5, 7, 8, 9}\n",
      "enter a values to delete\n",
      "7\n",
      "{1, 2, 3, 4, 5, 8, 9}\n",
      "{1, 2, 3, 4, 5, 8}\n"
     ]
    }
   ],
   "source": [
    "a = set()\n",
    "for i in range(5):\n",
    "    print(\"enter a value\")\n",
    "    data = int(input())\n",
    "    a.add(data)\n",
    "print(a)\n",
    "a.update([7,8,9])\n",
    "print(a)\n",
    "print(\"enter a values to delete\")\n",
    "data1= int(input())\n",
    "a.discard(data1)\n",
    "print(a)\n",
    "a.remove(9)\n",
    "print(a)"
   ]
  },
  {
   "cell_type": "code",
   "execution_count": null,
   "id": "e8d07571",
   "metadata": {},
   "outputs": [],
   "source": [
    "041\n",
    "\\"
   ]
  }
 ],
 "metadata": {
  "kernelspec": {
   "display_name": "Python 3 (ipykernel)",
   "language": "python",
   "name": "python3"
  },
  "language_info": {
   "codemirror_mode": {
    "name": "ipython",
    "version": 3
   },
   "file_extension": ".py",
   "mimetype": "text/x-python",
   "name": "python",
   "nbconvert_exporter": "python",
   "pygments_lexer": "ipython3",
   "version": "3.9.12"
  }
 },
 "nbformat": 4,
 "nbformat_minor": 5
}
