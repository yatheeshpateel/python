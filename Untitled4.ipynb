{
 "cells": [
  {
   "cell_type": "markdown",
   "id": "baefa548",
   "metadata": {},
   "source": [
    "# fibonoccie series "
   ]
  },
  {
   "cell_type": "code",
   "execution_count": 3,
   "id": "29c3fdfe",
   "metadata": {},
   "outputs": [
    {
     "name": "stdout",
     "output_type": "stream",
     "text": [
      "enter the fibonacci series 5\n",
      "0\n",
      "1\n",
      "1\n",
      "2\n",
      "3\n"
     ]
    }
   ],
   "source": [
    "n = int(input(\"enter the fibonacci series \"))\n",
    "n1 = 0\n",
    "n2 = 1\n",
    "count = 2\n",
    "\n",
    "if n<0:\n",
    "    print(\"please print the positive number \")\n",
    "elif n == 1:\n",
    "    print(n1)\n",
    "else:\n",
    "    print(n1)\n",
    "    print(n2)\n",
    "    while count<n:\n",
    "        n3 = n1+n2\n",
    "        print(n3)\n",
    "        count += 1\n",
    "        n1 = n2\n",
    "        n2 = n3"
   ]
  },
  {
   "cell_type": "code",
   "execution_count": 4,
   "id": "901cd113",
   "metadata": {},
   "outputs": [
    {
     "name": "stdout",
     "output_type": "stream",
     "text": [
      "enter the fibonacci series 5\n",
      "fibonaccies series 0 1 1 2 3 "
     ]
    }
   ],
   "source": [
    "n = int(input(\"enter the fibonacci series \"))\n",
    "n1 = 0\n",
    "n2 = 1\n",
    "print(\"fibonaccies series\",n1 ,n2,end = ' ')\n",
    "\n",
    "for i in range(2,n):\n",
    "    n3 = n1+n2\n",
    "    n1 = n2\n",
    "    n2 = n3\n",
    "    print(n3,end = ' ')"
   ]
  },
  {
   "cell_type": "code",
   "execution_count": null,
   "id": "50cd097c",
   "metadata": {},
   "outputs": [],
   "source": []
  }
 ],
 "metadata": {
  "kernelspec": {
   "display_name": "Python 3 (ipykernel)",
   "language": "python",
   "name": "python3"
  },
  "language_info": {
   "codemirror_mode": {
    "name": "ipython",
    "version": 3
   },
   "file_extension": ".py",
   "mimetype": "text/x-python",
   "name": "python",
   "nbconvert_exporter": "python",
   "pygments_lexer": "ipython3",
   "version": "3.9.12"
  }
 },
 "nbformat": 4,
 "nbformat_minor": 5
}
