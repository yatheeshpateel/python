{
 "cells": [
  {
   "cell_type": "markdown",
   "id": "0d62ad2c",
   "metadata": {},
   "source": [
    "# string slicing"
   ]
  },
  {
   "cell_type": "code",
   "execution_count": 1,
   "id": "935612a9",
   "metadata": {},
   "outputs": [
    {
     "name": "stdout",
     "output_type": "stream",
     "text": [
      "RajaRamMohanRoy\n"
     ]
    }
   ],
   "source": [
    "str = \"RajaRamMohanRoy\"\n",
    "print(str)"
   ]
  },
  {
   "cell_type": "code",
   "execution_count": 2,
   "id": "eee05723",
   "metadata": {},
   "outputs": [
    {
     "name": "stdout",
     "output_type": "stream",
     "text": [
      "R\n"
     ]
    }
   ],
   "source": [
    "print(str[0])"
   ]
  },
  {
   "cell_type": "code",
   "execution_count": 3,
   "id": "3531258b",
   "metadata": {},
   "outputs": [
    {
     "name": "stdout",
     "output_type": "stream",
     "text": [
      "y\n"
     ]
    }
   ],
   "source": [
    "print(str[-1])"
   ]
  },
  {
   "cell_type": "code",
   "execution_count": 4,
   "id": "396075fd",
   "metadata": {},
   "outputs": [
    {
     "name": "stdout",
     "output_type": "stream",
     "text": [
      "R\n"
     ]
    }
   ],
   "source": [
    "print(str[-15])"
   ]
  },
  {
   "cell_type": "code",
   "execution_count": 5,
   "id": "e96431ce",
   "metadata": {},
   "outputs": [
    {
     "name": "stdout",
     "output_type": "stream",
     "text": [
      "Raja\n"
     ]
    }
   ],
   "source": [
    "print(str[0:4])"
   ]
  },
  {
   "cell_type": "code",
   "execution_count": 6,
   "id": "c48747e8",
   "metadata": {},
   "outputs": [
    {
     "name": "stdout",
     "output_type": "stream",
     "text": [
      "Ram\n"
     ]
    }
   ],
   "source": [
    "print(str[4:7])"
   ]
  },
  {
   "cell_type": "code",
   "execution_count": 7,
   "id": "c4b6dcb5",
   "metadata": {},
   "outputs": [
    {
     "name": "stdout",
     "output_type": "stream",
     "text": [
      "Mohan\n"
     ]
    }
   ],
   "source": [
    "print(str[7:12])"
   ]
  },
  {
   "cell_type": "code",
   "execution_count": 8,
   "id": "bc1cd3d2",
   "metadata": {},
   "outputs": [
    {
     "name": "stdout",
     "output_type": "stream",
     "text": [
      "Roy\n"
     ]
    }
   ],
   "source": [
    "print(str[12:])"
   ]
  },
  {
   "cell_type": "code",
   "execution_count": 9,
   "id": "206a2924",
   "metadata": {},
   "outputs": [
    {
     "name": "stdout",
     "output_type": "stream",
     "text": [
      "RajaRamM\n"
     ]
    }
   ],
   "source": [
    "print(str[ :8])"
   ]
  },
  {
   "cell_type": "code",
   "execution_count": 10,
   "id": "09d2f66a",
   "metadata": {},
   "outputs": [
    {
     "name": "stdout",
     "output_type": "stream",
     "text": [
      "RajaRamMohanRoy\n"
     ]
    }
   ],
   "source": [
    "print(str[ : ])"
   ]
  },
  {
   "cell_type": "code",
   "execution_count": 11,
   "id": "83be9f64",
   "metadata": {},
   "outputs": [
    {
     "name": "stdout",
     "output_type": "stream",
     "text": [
      "yoRnahoMmaRajaR\n"
     ]
    }
   ],
   "source": [
    "print(str[ : :-1])"
   ]
  },
  {
   "cell_type": "code",
   "execution_count": 12,
   "id": "acb913e7",
   "metadata": {},
   "outputs": [
    {
     "name": "stdout",
     "output_type": "stream",
     "text": [
      "\n"
     ]
    }
   ],
   "source": [
    "print(str[9:2])"
   ]
  },
  {
   "cell_type": "code",
   "execution_count": 13,
   "id": "71996f6b",
   "metadata": {},
   "outputs": [
    {
     "name": "stdout",
     "output_type": "stream",
     "text": [
      "\n"
     ]
    }
   ],
   "source": [
    "print(str[-4:-9])"
   ]
  },
  {
   "cell_type": "code",
   "execution_count": 14,
   "id": "cc9e45fb",
   "metadata": {},
   "outputs": [
    {
     "name": "stdout",
     "output_type": "stream",
     "text": [
      "nahoM\n"
     ]
    }
   ],
   "source": [
    "print(str[-4:-9:-1])"
   ]
  },
  {
   "cell_type": "code",
   "execution_count": 15,
   "id": "e2fbace4",
   "metadata": {},
   "outputs": [
    {
     "name": "stdout",
     "output_type": "stream",
     "text": [
      "ahoMmaRajaR\n"
     ]
    }
   ],
   "source": [
    "print(str[-5: :-1])"
   ]
  },
  {
   "cell_type": "code",
   "execution_count": 16,
   "id": "5ec06f17",
   "metadata": {},
   "outputs": [
    {
     "name": "stdout",
     "output_type": "stream",
     "text": [
      "RamhR\n"
     ]
    }
   ],
   "source": [
    "print(str[ : :3])"
   ]
  },
  {
   "cell_type": "code",
   "execution_count": 17,
   "id": "349251ec",
   "metadata": {},
   "outputs": [
    {
     "name": "stdout",
     "output_type": "stream",
     "text": [
      "RnahoM\n"
     ]
    }
   ],
   "source": [
    "print(str[12:6:-1])"
   ]
  },
  {
   "cell_type": "code",
   "execution_count": 18,
   "id": "7006efc8",
   "metadata": {},
   "outputs": [
    {
     "name": "stdout",
     "output_type": "stream",
     "text": [
      "maRajaR\n"
     ]
    }
   ],
   "source": [
    "print(str[6: :-1])"
   ]
  },
  {
   "cell_type": "code",
   "execution_count": 19,
   "id": "d6d0d3bf",
   "metadata": {},
   "outputs": [
    {
     "name": "stdout",
     "output_type": "stream",
     "text": [
      "Raj\n"
     ]
    }
   ],
   "source": [
    "print(str[:-12])"
   ]
  },
  {
   "cell_type": "code",
   "execution_count": 20,
   "id": "da1f1683",
   "metadata": {},
   "outputs": [
    {
     "name": "stdout",
     "output_type": "stream",
     "text": [
      "yoRnah\n"
     ]
    }
   ],
   "source": [
    "print(str[ :8:-1])"
   ]
  },
  {
   "cell_type": "code",
   "execution_count": 21,
   "id": "a096dbdc",
   "metadata": {},
   "outputs": [
    {
     "ename": "ValueError",
     "evalue": "slice step cannot be zero",
     "output_type": "error",
     "traceback": [
      "\u001b[1;31m---------------------------------------------------------------------------\u001b[0m",
      "\u001b[1;31mValueError\u001b[0m                                Traceback (most recent call last)",
      "Cell \u001b[1;32mIn[21], line 1\u001b[0m\n\u001b[1;32m----> 1\u001b[0m \u001b[38;5;28mprint\u001b[39m(\u001b[38;5;28;43mstr\u001b[39;49m\u001b[43m[\u001b[49m\u001b[38;5;241;43m7\u001b[39;49m\u001b[43m:\u001b[49m\u001b[38;5;241;43m13\u001b[39;49m\u001b[43m:\u001b[49m\u001b[38;5;241;43m0\u001b[39;49m\u001b[43m]\u001b[49m)\n",
      "\u001b[1;31mValueError\u001b[0m: slice step cannot be zero"
     ]
    }
   ],
   "source": [
    "print(str[7:13:0])"
   ]
  },
  {
   "cell_type": "code",
   "execution_count": 22,
   "id": "cf2dac01",
   "metadata": {},
   "outputs": [
    {
     "name": "stdout",
     "output_type": "stream",
     "text": [
      "ramasita\n"
     ]
    }
   ],
   "source": [
    "str1 = \"rama\"\n",
    "str2 = \"sita\"\n",
    "str3 = str1 + str2\n",
    "print(str3)"
   ]
  },
  {
   "cell_type": "code",
   "execution_count": 23,
   "id": "b225c263",
   "metadata": {},
   "outputs": [
    {
     "ename": "TypeError",
     "evalue": "unsupported operand type(s) for -: 'str' and 'str'",
     "output_type": "error",
     "traceback": [
      "\u001b[1;31m---------------------------------------------------------------------------\u001b[0m",
      "\u001b[1;31mTypeError\u001b[0m                                 Traceback (most recent call last)",
      "Cell \u001b[1;32mIn[23], line 1\u001b[0m\n\u001b[1;32m----> 1\u001b[0m str4 \u001b[38;5;241m=\u001b[39m \u001b[43mstr1\u001b[49m\u001b[43m \u001b[49m\u001b[38;5;241;43m-\u001b[39;49m\u001b[43m \u001b[49m\u001b[43mstr2\u001b[49m\n\u001b[0;32m      2\u001b[0m \u001b[38;5;28mprint\u001b[39m(str4)\n",
      "\u001b[1;31mTypeError\u001b[0m: unsupported operand type(s) for -: 'str' and 'str'"
     ]
    }
   ],
   "source": [
    "str4 = str1 - str2\n",
    "print(str4)"
   ]
  },
  {
   "cell_type": "code",
   "execution_count": 24,
   "id": "6343fa34",
   "metadata": {},
   "outputs": [
    {
     "ename": "TypeError",
     "evalue": "can't multiply sequence by non-int of type 'str'",
     "output_type": "error",
     "traceback": [
      "\u001b[1;31m---------------------------------------------------------------------------\u001b[0m",
      "\u001b[1;31mTypeError\u001b[0m                                 Traceback (most recent call last)",
      "Cell \u001b[1;32mIn[24], line 1\u001b[0m\n\u001b[1;32m----> 1\u001b[0m str5 \u001b[38;5;241m=\u001b[39m \u001b[43mstr1\u001b[49m\u001b[43m \u001b[49m\u001b[38;5;241;43m*\u001b[39;49m\u001b[43m \u001b[49m\u001b[43mstr2\u001b[49m\n\u001b[0;32m      2\u001b[0m \u001b[38;5;28mprint\u001b[39m(str5)\n",
      "\u001b[1;31mTypeError\u001b[0m: can't multiply sequence by non-int of type 'str'"
     ]
    }
   ],
   "source": [
    "str5 = str1 * str2\n",
    "print(str5)"
   ]
  },
  {
   "cell_type": "code",
   "execution_count": 26,
   "id": "c33997dc",
   "metadata": {},
   "outputs": [
    {
     "name": "stdout",
     "output_type": "stream",
     "text": [
      "ramaramarama\n"
     ]
    }
   ],
   "source": [
    "str6 = str1 * 3\n",
    "print(str6)"
   ]
  },
  {
   "cell_type": "markdown",
   "id": "f471280e",
   "metadata": {},
   "source": [
    "str7 = str1/str2\n",
    "print(str7)"
   ]
  },
  {
   "cell_type": "code",
   "execution_count": 27,
   "id": "ef64f94c",
   "metadata": {},
   "outputs": [
    {
     "ename": "TypeError",
     "evalue": "unsupported operand type(s) for /: 'str' and 'str'",
     "output_type": "error",
     "traceback": [
      "\u001b[1;31m---------------------------------------------------------------------------\u001b[0m",
      "\u001b[1;31mTypeError\u001b[0m                                 Traceback (most recent call last)",
      "Cell \u001b[1;32mIn[27], line 1\u001b[0m\n\u001b[1;32m----> 1\u001b[0m str7 \u001b[38;5;241m=\u001b[39m \u001b[43mstr1\u001b[49m\u001b[38;5;241;43m/\u001b[39;49m\u001b[43mstr2\u001b[49m \n\u001b[0;32m      2\u001b[0m \u001b[38;5;28mprint\u001b[39m(str7)\n",
      "\u001b[1;31mTypeError\u001b[0m: unsupported operand type(s) for /: 'str' and 'str'"
     ]
    }
   ],
   "source": [
    "str7 = str1/str2 \n",
    "print(str7)"
   ]
  },
  {
   "cell_type": "code",
   "execution_count": 16,
   "id": "8418a579",
   "metadata": {},
   "outputs": [
    {
     "name": "stdout",
     "output_type": "stream",
     "text": [
      "not pallindrome\n"
     ]
    }
   ],
   "source": [
    "def pallindrome(num):\n",
    "    res = 0\n",
    "    while (num != 0):\n",
    "        rem = num%10\n",
    "        res = (res*10)+rem\n",
    "        num = num//10\n",
    "    return res\n",
    "num = 1234\n",
    "p = pallindrome(num)\n",
    "if(p == num):\n",
    "    print(\"pallindrome\")\n",
    "else:\n",
    "    print(\"not pallindrome\")"
   ]
  },
  {
   "cell_type": "code",
   "execution_count": 17,
   "id": "110e1d8d",
   "metadata": {},
   "outputs": [
    {
     "data": {
      "text/plain": [
       "4"
      ]
     },
     "execution_count": 17,
     "metadata": {},
     "output_type": "execute_result"
    }
   ],
   "source": [
    "1234%10"
   ]
  },
  {
   "cell_type": "code",
   "execution_count": 18,
   "id": "e2181fc4",
   "metadata": {},
   "outputs": [
    {
     "data": {
      "text/plain": [
       "123"
      ]
     },
     "execution_count": 18,
     "metadata": {},
     "output_type": "execute_result"
    }
   ],
   "source": [
    "1234//10\n"
   ]
  },
  {
   "cell_type": "code",
   "execution_count": 12,
   "id": "5c8f1fd9",
   "metadata": {},
   "outputs": [
    {
     "name": "stdout",
     "output_type": "stream",
     "text": [
      "enter a charcter hello\n",
      "helo\n"
     ]
    }
   ],
   "source": [
    "s = str(input(\"enter a charcter \"))\n",
    "rev = str()\n",
    "\n",
    "for i in s:\n",
    "    if i not in rev:\n",
    "        rev = rev+i\n",
    "print(rev)\n",
    "\n",
    "\n",
    "\n"
   ]
  },
  {
   "cell_type": "code",
   "execution_count": null,
   "id": "035ff964",
   "metadata": {},
   "outputs": [],
   "source": []
  }
 ],
 "metadata": {
  "kernelspec": {
   "display_name": "Python 3 (ipykernel)",
   "language": "python",
   "name": "python3"
  },
  "language_info": {
   "codemirror_mode": {
    "name": "ipython",
    "version": 3
   },
   "file_extension": ".py",
   "mimetype": "text/x-python",
   "name": "python",
   "nbconvert_exporter": "python",
   "pygments_lexer": "ipython3",
   "version": "3.9.12"
  }
 },
 "nbformat": 4,
 "nbformat_minor": 5
}
