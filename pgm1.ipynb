{
 "cells": [
  {
   "cell_type": "markdown",
   "id": "c9556b16",
   "metadata": {},
   "source": [
    "# Prime Number  \n"
   ]
  },
  {
   "cell_type": "code",
   "execution_count": 2,
   "id": "14509a65",
   "metadata": {},
   "outputs": [
    {
     "name": "stdout",
     "output_type": "stream",
     "text": [
      "enter a number5\n",
      "prime\n"
     ]
    }
   ],
   "source": [
    "def prime(num):\n",
    "    for i in range(2,num):\n",
    "        if num%i == 0:\n",
    "            return False\n",
    "        return True\n",
    "num = int(input(\"enter a number\"))\n",
    "res = prime(num)\n",
    "if res == True:\n",
    "    print(\"prime\")\n",
    "else:\n",
    "    print(\"not prime\")"
   ]
  },
  {
   "cell_type": "code",
   "execution_count": 7,
   "id": "05580b76",
   "metadata": {
    "collapsed": true
   },
   "outputs": [
    {
     "name": "stdout",
     "output_type": "stream",
     "text": [
      "1\n",
      "2\n",
      "3\n",
      "5\n",
      "7\n",
      "11\n",
      "13\n",
      "17\n",
      "19\n",
      "23\n",
      "29\n",
      "31\n",
      "37\n",
      "41\n",
      "43\n",
      "47\n",
      "53\n",
      "59\n",
      "61\n",
      "67\n",
      "71\n",
      "73\n",
      "79\n",
      "83\n",
      "89\n",
      "97\n"
     ]
    }
   ],
   "source": [
    "def prime(num):\n",
    "    for i in range(2,num):\n",
    "        if num%i == 0:\n",
    "            return False\n",
    "    return True\n",
    "for k in range(1,100):\n",
    "    num = k\n",
    "    res = prime(num)\n",
    "    if res == True:\n",
    "        print((num))"
   ]
  },
  {
   "cell_type": "markdown",
   "id": "47932a1a",
   "metadata": {},
   "source": [
    "# Perfect"
   ]
  },
  {
   "cell_type": "code",
   "execution_count": 9,
   "id": "5ca91901",
   "metadata": {},
   "outputs": [
    {
     "name": "stdout",
     "output_type": "stream",
     "text": [
      "6\n",
      "28\n"
     ]
    }
   ],
   "source": [
    "def perfect(num):\n",
    "    sum = 0\n",
    "    for i in range(1,num):\n",
    "        if num%i == 0:\n",
    "            sum = i+sum\n",
    "    return sum\n",
    "for k in range(1,100):\n",
    "    num = k\n",
    "    res = perfect(num)\n",
    "    if (res == num):\n",
    "        print(num)\n",
    "  "
   ]
  },
  {
   "cell_type": "markdown",
   "id": "96edaf3e",
   "metadata": {},
   "source": [
    "# Reverse a Number "
   ]
  },
  {
   "cell_type": "code",
   "execution_count": 11,
   "id": "7939ad45",
   "metadata": {},
   "outputs": [
    {
     "name": "stdout",
     "output_type": "stream",
     "text": [
      "111111\n",
      "pallindrome\n"
     ]
    }
   ],
   "source": [
    "def reverse(num):\n",
    "    res = 0\n",
    "    while(num!= 0):\n",
    "        rem = num%10 \n",
    "        res = (res*10)+rem\n",
    "        num = num//10\n",
    "    return res\n",
    "num = 111111\n",
    "res = reverse(num)\n",
    "print(res)\n",
    "if res == num:\n",
    "    print(\"pallindrome\")\n",
    "else:\n",
    "    print(\"not\")\n"
   ]
  },
  {
   "cell_type": "code",
   "execution_count": 13,
   "id": "3a8331d0",
   "metadata": {},
   "outputs": [
    {
     "name": "stdout",
     "output_type": "stream",
     "text": [
      "8\n"
     ]
    }
   ],
   "source": [
    "def count(digit):\n",
    "    count = 0\n",
    "    while(digit != 0):\n",
    "        digit = digit//10\n",
    "        count += 1\n",
    "    return count\n",
    "digit = 12343323\n",
    "res = count(digit)\n",
    "print(res)"
   ]
  },
  {
   "cell_type": "code",
   "execution_count": 6,
   "id": "067fa2d7",
   "metadata": {},
   "outputs": [
    {
     "name": "stdout",
     "output_type": "stream",
     "text": [
      "1\n",
      "2\n",
      "3\n",
      "4\n",
      "5\n",
      "6\n",
      "7\n",
      "8\n",
      "9\n",
      "153\n"
     ]
    }
   ],
   "source": [
    "def count(num):\n",
    "    count = 0\n",
    "    while(num!= 0):\n",
    "        num = num//10\n",
    "        count += 1\n",
    "    return count\n",
    "\n",
    "def armstrong(num):\n",
    "    digit = count(num)\n",
    "    res = 0\n",
    "    while(num != 0):\n",
    "        rem = num%10\n",
    "        res = rem**digit+res\n",
    "        num = num//10\n",
    "    return res\n",
    "for k in range(1 ,200):\n",
    "    num = k\n",
    "    res = armstrong(num)\n",
    "    if res == num:\n",
    "        print(num)\n",
    "\n"
   ]
  },
  {
   "cell_type": "code",
   "execution_count": 8,
   "id": "cf7a1ccc",
   "metadata": {},
   "outputs": [
    {
     "name": "stdout",
     "output_type": "stream",
     "text": [
      "10\n"
     ]
    }
   ],
   "source": [
    "a = 10\n",
    "b = 20\n",
    "if a<b:\n",
    "    smaller = a\n",
    "else:\n",
    "    smaller = b\n",
    "for i in range(1,smaller+1):\n",
    "    if (a%i ==0 and a%i == 0):\n",
    "        cf = i\n",
    "        \n",
    "print(cf)"
   ]
  },
  {
   "cell_type": "code",
   "execution_count": 10,
   "id": "9fd3e475",
   "metadata": {},
   "outputs": [
    {
     "name": "stdout",
     "output_type": "stream",
     "text": [
      "20\n"
     ]
    }
   ],
   "source": [
    "a = 10\n",
    "b = 20\n",
    "if a<b:\n",
    "    greater = b\n",
    "else:\n",
    "    greater = a\n",
    "for i in range(greater,(a*b)+1):\n",
    "    if (i%a ==0 and i%a == 0):\n",
    "        cf = i\n",
    "        break\n",
    "        \n",
    "print(cf)"
   ]
  },
  {
   "cell_type": "code",
   "execution_count": 11,
   "id": "266db15e",
   "metadata": {},
   "outputs": [
    {
     "name": "stdout",
     "output_type": "stream",
     "text": [
      "120\n"
     ]
    }
   ],
   "source": [
    "def fact(n):\n",
    "    res = 1\n",
    "    for i in range(1,n+1):\n",
    "        res = res * i\n",
    "    return res\n",
    "n = 5\n",
    "res = fact(n)\n",
    "print(res)"
   ]
  },
  {
   "cell_type": "code",
   "execution_count": null,
   "id": "d0b21a25",
   "metadata": {},
   "outputs": [],
   "source": []
  }
 ],
 "metadata": {
  "kernelspec": {
   "display_name": "Python 3 (ipykernel)",
   "language": "python",
   "name": "python3"
  },
  "language_info": {
   "codemirror_mode": {
    "name": "ipython",
    "version": 3
   },
   "file_extension": ".py",
   "mimetype": "text/x-python",
   "name": "python",
   "nbconvert_exporter": "python",
   "pygments_lexer": "ipython3",
   "version": "3.9.12"
  }
 },
 "nbformat": 4,
 "nbformat_minor": 5
}
