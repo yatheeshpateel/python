{
 "cells": [
  {
   "cell_type": "code",
   "execution_count": 4,
   "id": "54fad632",
   "metadata": {
    "editable": true,
    "slideshow": {
     "slide_type": ""
    },
    "tags": []
   },
   "outputs": [
    {
     "name": "stdout",
     "output_type": "stream",
     "text": [
      "0\n",
      "1\n",
      "2\n",
      "3\n",
      "4\n",
      "5\n",
      "6\n",
      "None\n"
     ]
    }
   ],
   "source": [
    "def print_num(num):\n",
    "    if num == 0:\n",
    "        print(num)\n",
    "        return\n",
    "    print_num(num-1)\n",
    "    print(num)\n",
    "    \n",
    "num = 6\n",
    "res = print_num(num)\n",
    "print(res)"
   ]
  },
  {
   "cell_type": "code",
   "execution_count": 5,
   "id": "5958aea8",
   "metadata": {},
   "outputs": [
    {
     "name": "stdout",
     "output_type": "stream",
     "text": [
      "enter the number10\n",
      "1\n",
      "2\n",
      "3\n",
      "4\n",
      "5\n",
      "6\n",
      "7\n",
      "8\n",
      "9\n",
      "10\n"
     ]
    }
   ],
   "source": [
    "n = int(input(\"enter the number\"))\n",
    "for i in range(1,n+1):\n",
    "    print(i)"
   ]
  },
  {
   "cell_type": "code",
   "execution_count": 8,
   "id": "4d3e4688",
   "metadata": {
    "collapsed": true,
    "jupyter": {
     "outputs_hidden": true
    }
   },
   "outputs": [
    {
     "name": "stdout",
     "output_type": "stream",
     "text": [
      "enter the number10\n",
      "2\n",
      "4\n",
      "6\n",
      "8\n",
      "10\n"
     ]
    }
   ],
   "source": [
    "n = int(input(\"enter the number \"))\n",
    "for i in range(1,n+1):\n",
    "    if i %2 == 0:\n",
    "        print(i)"
   ]
  },
  {
   "cell_type": "code",
   "execution_count": 17,
   "id": "50a5f99e",
   "metadata": {},
   "outputs": [
    {
     "name": "stdout",
     "output_type": "stream",
     "text": [
      "enter the number 20\n",
      "1 2\n",
      "3 4\n",
      "5 6\n",
      "7 8\n",
      "9 10\n",
      "11 12\n",
      "13 14\n",
      "15 16\n",
      "17 18\n",
      "19 20\n"
     ]
    }
   ],
   "source": [
    "n = int(input(\"enter the number \"))\n",
    "\n",
    "\n",
    "for i in range(1,n+1):\n",
    "    if i%2 != 0:\n",
    "        print(i,end = \" \")\n",
    "    else:\n",
    "        print(i)\n",
    "        \n",
    "\n",
    "    "
   ]
  },
  {
   "cell_type": "markdown",
   "id": "20e2822c",
   "metadata": {},
   "source": [
    "# prime number \n"
   ]
  },
  {
   "cell_type": "code",
   "execution_count": 7,
   "id": "ba811248",
   "metadata": {},
   "outputs": [
    {
     "name": "stdout",
     "output_type": "stream",
     "text": [
      "1\n",
      "2\n",
      "3\n",
      "5\n",
      "7\n",
      "11\n",
      "13\n",
      "17\n",
      "19\n",
      "23\n",
      "29\n",
      "31\n",
      "37\n",
      "41\n",
      "43\n",
      "47\n",
      "53\n",
      "59\n",
      "61\n",
      "67\n",
      "71\n",
      "73\n",
      "79\n",
      "83\n",
      "89\n",
      "97\n"
     ]
    }
   ],
   "source": [
    "def prime(num):\n",
    "    for i in range(2,num):\n",
    "        if num%i == 0:\n",
    "            return False\n",
    "    return True\n",
    "\n",
    "for k in range(1,100):\n",
    "    num = k\n",
    "    res = prime(num)\n",
    "    if res == True:\n",
    "        print((num))\n",
    "    "
   ]
  },
  {
   "cell_type": "code",
   "execution_count": 1,
   "id": "430b547b",
   "metadata": {},
   "outputs": [
    {
     "name": "stdout",
     "output_type": "stream",
     "text": [
      "enter the number-2\n",
      "it's not\n"
     ]
    }
   ],
   "source": [
    "def check_prime(num):\n",
    "    if(num<=1):\n",
    "        return False\n",
    "    for i in range(2,num):\n",
    "        if(num%i == 0):\n",
    "            return False\n",
    "    return True\n",
    "\n",
    "num = int(input(\"enter the number\"))\n",
    "res = check_prime(num)\n",
    "if(res == True):\n",
    "    print(\"it's prime\")\n",
    "else:\n",
    "    print(\"it's not\")"
   ]
  },
  {
   "cell_type": "code",
   "execution_count": 8,
   "id": "68e6f8a2",
   "metadata": {},
   "outputs": [
    {
     "data": {
      "text/plain": [
       "17"
      ]
     },
     "execution_count": 8,
     "metadata": {},
     "output_type": "execute_result"
    }
   ],
   "source": [
    "35//2"
   ]
  },
  {
   "cell_type": "code",
   "execution_count": 29,
   "id": "7342f16b",
   "metadata": {
    "scrolled": true
   },
   "outputs": [
    {
     "name": "stdout",
     "output_type": "stream",
     "text": [
      "1\n",
      "2\n",
      "3\n",
      "5\n",
      "7\n",
      "11\n",
      "13\n",
      "17\n",
      "19\n",
      "23\n",
      "29\n",
      "31\n",
      "37\n",
      "41\n",
      "43\n",
      "47\n"
     ]
    }
   ],
   "source": [
    "def check_prime(num):\n",
    "    for i in range(2,num):\n",
    "        if(num%i == 0):\n",
    "            return False\n",
    "    return True\n",
    "for k in range(1,50):\n",
    "    num = k\n",
    "    res = check_prime(num)\n",
    "    if res == True:\n",
    "        print(num)\n"
   ]
  },
  {
   "cell_type": "markdown",
   "id": "9fd403b5",
   "metadata": {},
   "source": [
    "# Perfect or not"
   ]
  },
  {
   "cell_type": "code",
   "execution_count": 13,
   "id": "a11d33db",
   "metadata": {},
   "outputs": [
    {
     "name": "stdout",
     "output_type": "stream",
     "text": [
      "6\n",
      "28\n",
      "496\n"
     ]
    }
   ],
   "source": [
    "def check_perfect(num):\n",
    "    sum = 0\n",
    "    for i in range(1,num):\n",
    "        if(num%i == 0):\n",
    "            sum = i+sum\n",
    "    return sum\n",
    "for k in range(1,1000):\n",
    "    num = k\n",
    "  \n",
    "    res = check_perfect(num)\n",
    "    if(res== num):\n",
    "        print(num)\n",
    "  \n",
    "\n"
   ]
  },
  {
   "cell_type": "code",
   "execution_count": 2,
   "id": "c821c4a1",
   "metadata": {},
   "outputs": [
    {
     "name": "stdout",
     "output_type": "stream",
     "text": [
      "perfect\n"
     ]
    }
   ],
   "source": [
    "def check_perfect(num):\n",
    "    sum = 0\n",
    "    for i in range(1,num):\n",
    "        if(num%i == 0):\n",
    "            sum = i+sum\n",
    "    return sum\n",
    "    \n",
    "num = 6\n",
    "res = check_perfect(num)\n",
    "if(res== num):\n",
    "    print('perfect')"
   ]
  },
  {
   "cell_type": "code",
   "execution_count": 14,
   "id": "ad8e6233",
   "metadata": {},
   "outputs": [
    {
     "data": {
      "text/plain": [
       "5"
      ]
     },
     "execution_count": 14,
     "metadata": {},
     "output_type": "execute_result"
    }
   ],
   "source": [
    "12345%10"
   ]
  },
  {
   "cell_type": "markdown",
   "id": "71dce0f8",
   "metadata": {},
   "source": [
    "#  reverse a number"
   ]
  },
  {
   "cell_type": "code",
   "execution_count": 49,
   "id": "0fd9fb09",
   "metadata": {},
   "outputs": [
    {
     "name": "stdout",
     "output_type": "stream",
     "text": [
      "54321\n"
     ]
    }
   ],
   "source": [
    "def reverse(num):\n",
    "    res = 0\n",
    "    while(num != 0):\n",
    "        rem = num%10\n",
    "        res = (res*10)+rem\n",
    "        num = num//10\n",
    "    return res\n",
    "num = 12345\n",
    "res = reverse(num)\n",
    "print(res)"
   ]
  },
  {
   "cell_type": "markdown",
   "id": "0f02c692",
   "metadata": {},
   "source": [
    "# Pallindrome"
   ]
  },
  {
   "cell_type": "code",
   "execution_count": 11,
   "id": "ac42dab7",
   "metadata": {},
   "outputs": [
    {
     "name": "stdout",
     "output_type": "stream",
     "text": [
      "[1, 2, 3, 4, 5, 6, 7, 8, 9, 11, 22, 33, 44, 55, 66, 77, 88, 99]\n",
      "[10, 12, 13, 14, 15, 16, 17, 18, 19, 20, 21, 23, 24, 25, 26, 27, 28, 29, 30, 31, 32, 34, 35, 36, 37, 38, 39, 40, 41, 42, 43, 45, 46, 47, 48, 49, 50, 51, 52, 53, 54, 56, 57, 58, 59, 60, 61, 62, 63, 64, 65, 67, 68, 69, 70, 71, 72, 73, 74, 75, 76, 78, 79, 80, 81, 82, 83, 84, 85, 86, 87, 89, 90, 91, 92, 93, 94, 95, 96, 97, 98]\n"
     ]
    }
   ],
   "source": [
    "def pallindrom(num):\n",
    "    \n",
    "    res = 0\n",
    "    while(num != 0):\n",
    "        rem = num%10\n",
    "        res = (res*10)+rem\n",
    "        num = num//10\n",
    "    return res\n",
    "p = []\n",
    "np = []\n",
    "for k in range(1,100):\n",
    "    num = k\n",
    "    res = pallindrom(num)\n",
    "    if res == num:\n",
    "        p.append(num)\n",
    "        \n",
    "    else:\n",
    "        np.append(num)\n",
    "print(p)\n",
    "print(np)"
   ]
  },
  {
   "cell_type": "code",
   "execution_count": 19,
   "id": "f4544da0",
   "metadata": {},
   "outputs": [
    {
     "name": "stdout",
     "output_type": "stream",
     "text": [
      "1 \n",
      "2 3 \n",
      "4 5 6 \n",
      "7 8 9 11 \n",
      "22 33 44 55 66 \n",
      "77 88 99 101 111 121 \n",
      "131 141 151 161 171 181 191 \n"
     ]
    }
   ],
   "source": [
    "def reverse(num):\n",
    "    res = 0\n",
    "    while(num != 0):\n",
    "        rem = num%10\n",
    "        res = (res*10)+rem\n",
    "        num = num//10\n",
    "    return res\n",
    "\n",
    "rows = 7\n",
    "k=1\n",
    "for i in range(1,rows+1):\n",
    "    for j in range(i):\n",
    "        while(True):\n",
    "            if(reverse(k)==k):\n",
    "                print(k,end=\" \")\n",
    "                k+=1\n",
    "                break\n",
    "            else:\n",
    "                k+=1\n",
    "    print()\n",
    "                      \n",
    "        \n",
    "        \n",
    "    "
   ]
  },
  {
   "cell_type": "markdown",
   "id": "6ad87aeb",
   "metadata": {},
   "source": [
    "#  count digit"
   ]
  },
  {
   "cell_type": "code",
   "execution_count": 19,
   "id": "b27fa20a",
   "metadata": {},
   "outputs": [
    {
     "name": "stdout",
     "output_type": "stream",
     "text": [
      "8\n"
     ]
    }
   ],
   "source": [
    "def find_digit(num):\n",
    "    count = 0\n",
    "    while (num!=0):\n",
    "        num = num//10\n",
    "        count += 1\n",
    "    return count\n",
    "\n",
    "num = 16345686\n",
    "digit = find_digit(num)\n",
    "print(digit)"
   ]
  },
  {
   "cell_type": "markdown",
   "id": "e3213f32",
   "metadata": {},
   "source": [
    "# Armstrong Number "
   ]
  },
  {
   "cell_type": "code",
   "execution_count": 9,
   "id": "4e56d390",
   "metadata": {},
   "outputs": [
    {
     "name": "stdout",
     "output_type": "stream",
     "text": [
      "armstrong\n"
     ]
    }
   ],
   "source": [
    "def count_digit(num):\n",
    "    count = 0\n",
    "    while(num != 0):\n",
    "        num = num//10\n",
    "        count += 1\n",
    "    return count\n",
    "\n",
    "def armstrong(num):\n",
    "    digit = count_digit(num)\n",
    "    res = 0\n",
    "    while(num != 0):\n",
    "        rem = num%10\n",
    "        res = (rem**digit)+res\n",
    "        num = num//10\n",
    "    return res\n",
    "num = 153\n",
    "res = armstrong(num)\n",
    "if res == num:\n",
    "    print(\"armstrong\")\n",
    "else:\n",
    "    print(\"not\")"
   ]
  },
  {
   "cell_type": "code",
   "execution_count": 8,
   "id": "03f5314b",
   "metadata": {},
   "outputs": [
    {
     "name": "stdout",
     "output_type": "stream",
     "text": [
      "1\n",
      "2\n",
      "3\n",
      "4\n",
      "5\n",
      "6\n",
      "7\n",
      "8\n",
      "9\n",
      "153\n",
      "370\n",
      "371\n",
      "407\n",
      "1634\n",
      "8208\n",
      "9474\n"
     ]
    }
   ],
   "source": [
    "#armstrong number \n",
    "\n",
    "def count_digit(num):\n",
    "    count = 0\n",
    "    while num != 0:\n",
    "        num = num//10\n",
    "        count += 1\n",
    "    return count\n",
    "\n",
    "def armstong(num):\n",
    "    digit = count_digit(num)\n",
    "    res = 0\n",
    "    while num != 0:\n",
    "        rem = num % 10\n",
    "        res = rem**digit + res\n",
    "        num = num//10\n",
    "    return res\n",
    "for k in range(1,10001):\n",
    "    num = k\n",
    "    res = armstong(num)\n",
    "    if num == res:\n",
    "        print(num)\n"
   ]
  },
  {
   "cell_type": "markdown",
   "id": "9c4638da",
   "metadata": {},
   "source": [
    "#  Deolitte question"
   ]
  },
  {
   "cell_type": "code",
   "execution_count": 9,
   "id": "70624e1d",
   "metadata": {},
   "outputs": [
    {
     "name": "stdout",
     "output_type": "stream",
     "text": [
      "9999\n"
     ]
    }
   ],
   "source": [
    "def sumofdigit(num):\n",
    "    sum = 0\n",
    "    while(num!=0):\n",
    "        rem = num%10\n",
    "        sum = sum + rem\n",
    "        num = num//10\n",
    "    return sum\n",
    "\n",
    "num = 99\n",
    "num1 = num +1\n",
    "while(sumofdigit(num)*2!= sumofdigit(num1)):\n",
    "    num1 +=1\n",
    "print(num1)\n",
    "    "
   ]
  },
  {
   "cell_type": "markdown",
   "id": "3f1f6156",
   "metadata": {},
   "source": [
    "# Happy number or not"
   ]
  },
  {
   "cell_type": "code",
   "execution_count": 1,
   "id": "0ad47420",
   "metadata": {},
   "outputs": [
    {
     "name": "stdout",
     "output_type": "stream",
     "text": [
      "happy number\n"
     ]
    }
   ],
   "source": [
    "def digitsum(n):\n",
    "    sum =0\n",
    "    while  (n!=0):\n",
    "        sum = ((n%10)**2)+sum\n",
    "        n = n//10\n",
    "    return sum\n",
    "n =7\n",
    "while True:\n",
    "    n = digitsum(n)\n",
    "    if(n == 1): \n",
    "        print(\"happy number\")\n",
    "        break\n",
    "    elif(n == 4):\n",
    "        print(\"not happpy number\")\n",
    "        break\n",
    "    else:\n",
    "        pass"
   ]
  },
  {
   "cell_type": "code",
   "execution_count": 1,
   "id": "07631bce",
   "metadata": {},
   "outputs": [
    {
     "name": "stdout",
     "output_type": "stream",
     "text": [
      "its not happy\n"
     ]
    }
   ],
   "source": [
    "def find_sqr(num):\n",
    "    sum =0\n",
    "    while  (num!=0):\n",
    "        rem = num % 10\n",
    "        sum = sum+(rem*rem)\n",
    "        num = num//10\n",
    "    return sum\n",
    "num =6567\n",
    "res = num\n",
    "while(res != 1 and res != 4):\n",
    "    res = find_sqr(res)\n",
    "    \n",
    "if res == 1:\n",
    "    print(\"its happy\")\n",
    "else:\n",
    "    print(\"its not happy\")"
   ]
  },
  {
   "cell_type": "code",
   "execution_count": 8,
   "id": "f7cc7455",
   "metadata": {},
   "outputs": [
    {
     "name": "stdout",
     "output_type": "stream",
     "text": [
      "1\n",
      "7\n",
      "10\n",
      "13\n",
      "19\n",
      "23\n",
      "28\n",
      "31\n",
      "32\n",
      "44\n",
      "49\n",
      "68\n",
      "70\n",
      "79\n",
      "82\n",
      "86\n",
      "91\n",
      "94\n",
      "97\n",
      "100\n",
      "103\n",
      "109\n",
      "129\n",
      "130\n",
      "133\n",
      "139\n",
      "167\n",
      "176\n",
      "188\n",
      "190\n",
      "192\n",
      "193\n"
     ]
    }
   ],
   "source": [
    "\n",
    "def find_sqr(num):\n",
    "    sum =0\n",
    "    while  (num!=0):\n",
    "        rem = num % 10\n",
    "        sum = sum+(rem*rem)\n",
    "        num = num//10\n",
    "    return sum\n",
    "for k in range (1,200):\n",
    "    num = k\n",
    "    res = num\n",
    "    while(res != 1 and res != 4):\n",
    "        res = find_sqr(res)\n",
    "\n",
    "    if res == 1:\n",
    "        print(num)\n"
   ]
  },
  {
   "cell_type": "markdown",
   "id": "d77620c3",
   "metadata": {},
   "source": [
    "# HCF "
   ]
  },
  {
   "cell_type": "code",
   "execution_count": 2,
   "id": "b984728d",
   "metadata": {},
   "outputs": [
    {
     "name": "stdout",
     "output_type": "stream",
     "text": [
      "10\n",
      "20\n"
     ]
    }
   ],
   "source": [
    "a = 10\n",
    "b = 20\n",
    "if a< b:\n",
    "    smaller = a\n",
    "else:\n",
    "    smaller = b \n",
    "    \n",
    "for i in range(1,smaller+1):\n",
    "    if(a%i == 0 and b%i == 0):\n",
    "        cf = i\n",
    "print(cf)\n",
    "if a>b:\n",
    "    greater = a\n",
    "else:\n",
    "    greater = b\n",
    "for i in range(greater,(a*b)+1):\n",
    "    if(i%a == 0 and i%b == 0):\n",
    "        cf = i\n",
    "        break\n",
    "        \n",
    "print(cf)"
   ]
  },
  {
   "cell_type": "markdown",
   "id": "89b4d992",
   "metadata": {},
   "source": [
    "# LCM"
   ]
  },
  {
   "cell_type": "code",
   "execution_count": 24,
   "id": "48b23477",
   "metadata": {},
   "outputs": [
    {
     "name": "stdout",
     "output_type": "stream",
     "text": [
      "20\n"
     ]
    }
   ],
   "source": [
    "a = 10\n",
    "b = 20\n",
    "if a>b:\n",
    "    greater = a\n",
    "else:\n",
    "    greater = b\n",
    "    \n",
    "for i in range(greater,(a*b)+1):\n",
    "    if(i%a == 0 and i%b == 0):\n",
    "        cf = i\n",
    "        break\n",
    "        \n",
    "print(cf)"
   ]
  },
  {
   "cell_type": "markdown",
   "id": "0872736a",
   "metadata": {},
   "source": [
    "# Factorial"
   ]
  },
  {
   "cell_type": "code",
   "execution_count": 11,
   "id": "b4852ced",
   "metadata": {},
   "outputs": [
    {
     "name": "stdout",
     "output_type": "stream",
     "text": [
      "enter a number5\n"
     ]
    },
    {
     "data": {
      "text/plain": [
       "120"
      ]
     },
     "execution_count": 11,
     "metadata": {},
     "output_type": "execute_result"
    }
   ],
   "source": [
    "def fact(n):\n",
    "    if (n == 0 or n == 1 ):\n",
    "        return 1\n",
    "    else:\n",
    "        return n*fact(n-1)\n",
    "n = int(input(\"enter a number\"))\n",
    "fact(n)"
   ]
  },
  {
   "cell_type": "code",
   "execution_count": 10,
   "id": "7173911e",
   "metadata": {},
   "outputs": [
    {
     "name": "stdout",
     "output_type": "stream",
     "text": [
      "120\n"
     ]
    }
   ],
   "source": [
    "def find_fact(num):\n",
    "    res = 1\n",
    "    for i in range(1,num+1):\n",
    "        res = res*i\n",
    "    return res\n",
    "num = 5\n",
    "res = find_fact(num)\n",
    "print(res)"
   ]
  },
  {
   "cell_type": "markdown",
   "id": "0e0a06b3",
   "metadata": {},
   "source": [
    "# Recursion"
   ]
  },
  {
   "cell_type": "code",
   "execution_count": 15,
   "id": "5402002e",
   "metadata": {},
   "outputs": [
    {
     "name": "stdout",
     "output_type": "stream",
     "text": [
      "54321\n"
     ]
    }
   ],
   "source": [
    "def reverse(num,res):\n",
    "    if num == 0:\n",
    "        return res\n",
    "    return reverse(num//10,(res*10)+(num%10))\n",
    "\n",
    "num = 12345\n",
    "res = reverse(num,0)\n",
    "print(res)"
   ]
  },
  {
   "cell_type": "code",
   "execution_count": 9,
   "id": "51d83261",
   "metadata": {},
   "outputs": [
    {
     "name": "stdout",
     "output_type": "stream",
     "text": [
      "enter a number to check the armstrong12345\n",
      "not\n"
     ]
    }
   ],
   "source": [
    "def find_digit(num,count):\n",
    "    if num == 0:\n",
    "        return count\n",
    "    return find_digit(num//10,count+1)\n",
    "\n",
    "def armstrong(num,res,digit):\n",
    "    if num == 0:\n",
    "        return res\n",
    "    return armstrong(num//10,(num%10)**digit+res,digit)\n",
    "\n",
    "num = int(input(\"enter a number to check the armstrong\"))\n",
    "digit = count_digit(num)\n",
    "res = armstrong(num,0,digit)\n",
    "if res == num:\n",
    "    print(\"armstrong\")\n",
    "else:\n",
    "    print(\"not\")"
   ]
  },
  {
   "cell_type": "code",
   "execution_count": 5,
   "id": "1d6b0e31",
   "metadata": {},
   "outputs": [
    {
     "name": "stdout",
     "output_type": "stream",
     "text": [
      "6\n"
     ]
    }
   ],
   "source": [
    "def find_digit(num,count):\n",
    "    if num == 0:\n",
    "        return count\n",
    "    return find_digit(num//10,count+1)\n",
    "\n",
    "\n",
    "num = 163456\n",
    "res = find_digit(num,0)\n",
    "print(res)\n"
   ]
  },
  {
   "cell_type": "code",
   "execution_count": 12,
   "id": "77b59806",
   "metadata": {},
   "outputs": [
    {
     "name": "stdout",
     "output_type": "stream",
     "text": [
      "4\n"
     ]
    }
   ],
   "source": [
    "def count_digit(num):\n",
    "    if (num == 0):\n",
    "        return 0\n",
    "    return count_digit(num//10)+1\n",
    "num = 1234\n",
    "res = count_digit(num)\n",
    "print(res)"
   ]
  },
  {
   "cell_type": "code",
   "execution_count": 5,
   "id": "7e8e773e",
   "metadata": {},
   "outputs": [
    {
     "name": "stdout",
     "output_type": "stream",
     "text": [
      "enter a size of a element5\n",
      "enter the elemnt1\n",
      "enter the elemnt2\n",
      "enter the elemnt3\n",
      "enter the elemnt4\n",
      "enter the elemnt5\n",
      "[1, 2, 3, 4, 5]\n"
     ]
    }
   ],
   "source": [
    "n = int(input(\"enter a size of a element\"))\n",
    "l = []\n",
    "for i in range(n):\n",
    "    data = int(input(\"enter the elemnt\"))\n",
    "    l.append(data)\n",
    "print(l)"
   ]
  },
  {
   "cell_type": "code",
   "execution_count": 6,
   "id": "c1e7da39",
   "metadata": {},
   "outputs": [
    {
     "name": "stdout",
     "output_type": "stream",
     "text": [
      "12\n",
      "56\n",
      "92\n"
     ]
    }
   ],
   "source": [
    "l =[12,23,45,67,56,92]\n",
    "for i in range(0,len(l)):\n",
    "    data = l[i]\n",
    "    if  data%2 == 0:\n",
    "        print(data)"
   ]
  },
  {
   "cell_type": "markdown",
   "id": "e7430e68",
   "metadata": {},
   "source": [
    "l =[12,23,45,67,56,92]\n",
    "for i in range(0,len(l)):\n",
    "    data = l[i]\n",
    "    if  i%2 == 0:\n",
    "        print(data)"
   ]
  },
  {
   "cell_type": "code",
   "execution_count": 7,
   "id": "8b96bb38",
   "metadata": {},
   "outputs": [
    {
     "name": "stdout",
     "output_type": "stream",
     "text": [
      "12\n",
      "45\n",
      "56\n"
     ]
    }
   ],
   "source": [
    "l =[12,23,45,67,56,92]\n",
    "for i in range(0,len(l)):\n",
    "    data = l[i]\n",
    "    if  i%2 == 0:\n",
    "        print(data)"
   ]
  },
  {
   "cell_type": "code",
   "execution_count": 9,
   "id": "d2ddfdf4",
   "metadata": {},
   "outputs": [
    {
     "name": "stdout",
     "output_type": "stream",
     "text": [
      "49.166666666666664\n"
     ]
    }
   ],
   "source": [
    "l =[12,23,45,67,56,92]\n",
    "sum = 0\n",
    "for i in range(0,\n",
    "               len(l)):\n",
    "    digit = l[i]\n",
    "    sum = digit+sum\n",
    "    \n",
    "avg = sum/len(l)\n",
    "print(avg)\n",
    "\n",
    "+"
   ]
  },
  {
   "cell_type": "code",
   "execution_count": 11,
   "id": "0be4ac1c",
   "metadata": {},
   "outputs": [
    {
     "name": "stdout",
     "output_type": "stream",
     "text": [
      "maximum 8\n"
     ]
    }
   ],
   "source": [
    "def find_max(l):\n",
    "    max = l[0]\n",
    "    \n",
    "    for i in range (0,len(l)):\n",
    "        data = l[i]\n",
    "        if data>max:\n",
    "            max = data\n",
    "    print(\"maximum\",max)\n",
    "    \n",
    "    \n",
    "l = [1,2,3,4,5,6,7,8]\n",
    "find_max(l)\n"
   ]
  },
  {
   "cell_type": "code",
   "execution_count": 2,
   "id": "ec3daaaf",
   "metadata": {},
   "outputs": [
    {
     "name": "stdout",
     "output_type": "stream",
     "text": [
      "8\n"
     ]
    }
   ],
   "source": [
    "l = [1,2,3,4,5,6,7,8]\n",
    "max = l[0]\n",
    "\n",
    "for i in l:\n",
    "    if i > max:\n",
    "        max = i\n",
    "        \n",
    "print(max)"
   ]
  },
  {
   "cell_type": "code",
   "execution_count": 16,
   "id": "a32bfbd1",
   "metadata": {},
   "outputs": [
    {
     "name": "stdout",
     "output_type": "stream",
     "text": [
      "55\n"
     ]
    }
   ],
   "source": [
    "def second(l):\n",
    "    if (l[0]>l[1]):\n",
    "        max1 = l[0]\n",
    "        max2 = l[1]\n",
    "        \n",
    "    else:\n",
    "        max1 = l[1]\n",
    "        max2 = l[0]\n",
    "        \n",
    "    for i in range(2,len(l)):\n",
    "        digit = l[i]\n",
    "        if digit > max1:\n",
    "            max2 = max1\n",
    "            max1 = digit\n",
    "        elif(digit>max2):\n",
    "            max2 = digit\n",
    "            \n",
    "    return max2\n",
    "\n",
    "l = [1,2,3,4,55,6,7,60]\n",
    "res = second(l)\n",
    "print(res)\n",
    "        \n",
    "    \n",
    "        "
   ]
  },
  {
   "cell_type": "code",
   "execution_count": 4,
   "id": "8f5bf9c6",
   "metadata": {},
   "outputs": [
    {
     "name": "stdout",
     "output_type": "stream",
     "text": [
      "1\n"
     ]
    }
   ],
   "source": [
    "def small(l):\n",
    "    max = l[0]\n",
    "    \n",
    "    for i in range(0.len(l)):\n",
    "        digit = l[i]\n",
    "        if digit < max:\n",
    "            max = digit\n",
    "            \n",
    "    return max\n",
    "\n",
    "l = [1,2,3,4,5,6,7,8]\n",
    "small9\n"
   ]
  },
  {
   "cell_type": "markdown",
   "id": "d6993521",
   "metadata": {},
   "source": [
    "# Linear Search\n"
   ]
  },
  {
   "cell_type": "code",
   "execution_count": 8,
   "id": "c8922ec9",
   "metadata": {},
   "outputs": [
    {
     "name": "stdout",
     "output_type": "stream",
     "text": [
      "2\n"
     ]
    }
   ],
   "source": [
    "def lsearch(list,key):\n",
    "    for i in range(0,len(list)):\n",
    "        if list[i] == key:\n",
    "            return i\n",
    "    return -1\n",
    "\n",
    "list = [20,80,7,24,30,12,15]\n",
    "key = 7\n",
    "ind = lsearch(list,key)\n",
    "print(ind)"
   ]
  },
  {
   "cell_type": "code",
   "execution_count": 1,
   "id": "d1559659",
   "metadata": {},
   "outputs": [
    {
     "name": "stdout",
     "output_type": "stream",
     "text": [
      "1\n"
     ]
    }
   ],
   "source": [
    "def bsearch(list,key):\n",
    "    low = 0\n",
    "    high = len(list)-1\n",
    "    \n",
    "    while(low<=high):\n",
    "        mid = (low+high)//2\n",
    "        if(list[mid] == key):\n",
    "            return mid\n",
    "        \n",
    "        elif (key>list[mid]):\n",
    "            low = mid + 1\n",
    "            \n",
    "        else:\n",
    "            high = mid-1\n",
    "    \n",
    "    return -1\n",
    "\n",
    "list = [11,20,30,40,50,60,77,49,22]\n",
    "key = 20\n",
    "ind = bsearch(list,key)\n",
    "print(ind)"
   ]
  },
  {
   "cell_type": "code",
   "execution_count": 2,
   "id": "50250bad",
   "metadata": {},
   "outputs": [
    {
     "name": "stdout",
     "output_type": "stream",
     "text": [
      "[12, 22, 23, 33, 34, 44, 45, 55, 56, 67, 77, 88, 89]\n"
     ]
    }
   ],
   "source": [
    "l1 = [12,23,34,45,56,67,77,88,89]\n",
    "l2 = [22,33,44,55]\n",
    "res =[]\n",
    "i =0\n",
    "j =0\n",
    "while(j<len(l2)and i <len(l1)):\n",
    "    if(l1[i]<l2[j]):\n",
    "        res.append(l1[i])\n",
    "        i += 1\n",
    "        \n",
    "    else:\n",
    "        res.append(l2[j])\n",
    "        j += 1\n",
    "        \n",
    "while(i<len(l1)):\n",
    "    res.append(l1[i])\n",
    "    i += 1\n",
    "        \n",
    "while(j<len(l2)):\n",
    "    res.append(l2[j])\n",
    "    j += 1\n",
    "    \n",
    "print(res)\n",
    "    "
   ]
  },
  {
   "cell_type": "code",
   "execution_count": 9,
   "id": "368e8aaa",
   "metadata": {},
   "outputs": [
    {
     "name": "stdout",
     "output_type": "stream",
     "text": [
      "[1, 2, 3, 4, 5, 60, 65, 70, 80, 90]\n"
     ]
    }
   ],
   "source": [
    "l1 = [90,80,70,60]\n",
    "l2 = [95,65,5,4,3,2,1]\n",
    "res =[]\n",
    "i =len(l1)-1\n",
    "j =len(l2)-1\n",
    "while(j>=0 and i >=0):\n",
    "    if(l1[i]<l2[j]):\n",
    "        res.append(l1[i])\n",
    "        i -= 1\n",
    "        \n",
    "    else:\n",
    "        res.append(l2[j])\n",
    "        j -= 1\n",
    "        \n",
    "while(i>=0):\n",
    "    res.append(l1[i])\n",
    "    i -= 1\n",
    "        \n",
    "while(j>0):\n",
    "    res.append(l2[j])\n",
    "    j -= 1\n",
    "    \n",
    "print(res)\n",
    "    "
   ]
  },
  {
   "cell_type": "code",
   "execution_count": 7,
   "id": "b4522b88",
   "metadata": {},
   "outputs": [
    {
     "name": "stdout",
     "output_type": "stream",
     "text": [
      "[8, 143, 420, 90, 69, 120, 18, 6106]\n",
      "[8, 143, 90, 69, 120, 18, 420, 6106]\n",
      "[8, 90, 69, 120, 18, 143, 420, 6106]\n",
      "[8, 69, 90, 18, 120, 143, 420, 6106]\n",
      "[8, 69, 18, 90, 120, 143, 420, 6106]\n",
      "[8, 18, 69, 90, 120, 143, 420, 6106]\n",
      "[8, 18, 69, 90, 120, 143, 420, 6106]\n",
      "[8, 18, 69, 90, 120, 143, 420, 6106]\n"
     ]
    }
   ],
   "source": [
    "list = [8,143,420,6106,90,69,120,18]\n",
    "for k in range(0,len(list)-1):\n",
    "    for i in range(0,len(list)-1):\n",
    "        if(list[i]>list[i+1]):\n",
    "            list[i],list[i+1] = list[i+1],list[i]\n",
    "    print(list)\n",
    "print(list)"
   ]
  },
  {
   "cell_type": "code",
   "execution_count": 4,
   "id": "a7f02d53",
   "metadata": {},
   "outputs": [
    {
     "name": "stdout",
     "output_type": "stream",
     "text": [
      "[6106, 420, 143, 120, 90, 69, 18, 8]\n"
     ]
    }
   ],
   "source": [
    "list = [8,143,420,6106,90,69,120,18]\n",
    "for k in range(0,len(list)-1):\n",
    "    for i in range(0,len(list)-1):\n",
    "        if(list[i]<list[i+1]):\n",
    "            list[i],list[i+1] = list[i+1],list[i]\n",
    "print(list)"
   ]
  },
  {
   "cell_type": "markdown",
   "id": "ab032f25",
   "metadata": {},
   "source": [
    "#  Merg sort \n"
   ]
  },
  {
   "cell_type": "code",
   "execution_count": 5,
   "id": "e70385cf",
   "metadata": {},
   "outputs": [
    {
     "name": "stdout",
     "output_type": "stream",
     "text": [
      "[7, 8, 16, 17, 18, 20, 28, 45]\n"
     ]
    }
   ],
   "source": [
    "def merg_twolist(l1,l2):\n",
    "    res = []\n",
    "    i =0\n",
    "    j =0\n",
    "    while(j<len(l2)and i <len(l1)):\n",
    "        if(l1[i]<l2[j]):\n",
    "            res.append(l1[i])\n",
    "            i += 1\n",
    "        \n",
    "        else:\n",
    "            res.append(l2[j])\n",
    "            j += 1\n",
    "        \n",
    "    while(i<len(l1)):\n",
    "        res.append(l1[i])\n",
    "        i += 1\n",
    "        \n",
    "    while(j<len(l2)):\n",
    "        res.append(l2[j])\n",
    "        j += 1\n",
    "    \n",
    "    return res\n",
    "    \n",
    "def divide(l):\n",
    "    if(len(l)==1):\n",
    "        return l\n",
    "    mid = len(l)//2\n",
    "    left = l[0:mid]\n",
    "    right = l[mid: ]\n",
    "    left = divide(left)\n",
    "    right = divide(right)\n",
    "    \n",
    "    return merg_twolist(left,right)\n",
    "\n",
    "l = [16,8,20,45,7,18,28,17]\n",
    "res = divide(l)\n",
    "print(res)\n",
    "    \n",
    "    "
   ]
  },
  {
   "cell_type": "markdown",
   "id": "27a1ec53",
   "metadata": {},
   "source": [
    "#  Max sum in subarray"
   ]
  },
  {
   "cell_type": "code",
   "execution_count": 1,
   "id": "748d70e0",
   "metadata": {},
   "outputs": [
    {
     "name": "stdout",
     "output_type": "stream",
     "text": [
      "9\n"
     ]
    }
   ],
   "source": [
    "arr=[8,-6,3,4,-1,6,3,-4]\n",
    "k=3\n",
    "sum=0\n",
    "for i in range(0,k):\n",
    "    sum+=arr[i]\n",
    "max_sum=sum\n",
    "\n",
    "for i in range(1,len(arr)-k+1):\n",
    "    sum=0\n",
    "    for j in range(i,k+i):\n",
    "        sum+=arr[j]\n",
    "    if(sum>max_sum):\n",
    "        max_sum=sum\n",
    "print(max_sum)"
   ]
  },
  {
   "cell_type": "markdown",
   "id": "80c19ede",
   "metadata": {},
   "source": [
    "# Remove duplicate elements¶"
   ]
  },
  {
   "cell_type": "code",
   "execution_count": 2,
   "id": "bf361af1",
   "metadata": {},
   "outputs": [
    {
     "name": "stdout",
     "output_type": "stream",
     "text": [
      "[2, 3, 45, 56, 7]\n"
     ]
    }
   ],
   "source": [
    "arr=[2,3,45,45,3,2,56,7]\n",
    "def unique(arr):\n",
    "    ans=[]\n",
    "    for num in arr:\n",
    "        if num not in ans:\n",
    "            ans.append(num)\n",
    "    return ans\n",
    "print(unique(arr))"
   ]
  },
  {
   "cell_type": "markdown",
   "id": "18e2cae3",
   "metadata": {},
   "source": [
    "#  Count occurance of a number"
   ]
  },
  {
   "cell_type": "code",
   "execution_count": 1,
   "id": "bde84e70",
   "metadata": {},
   "outputs": [
    {
     "name": "stdout",
     "output_type": "stream",
     "text": [
      "12  3\n",
      "23  1\n",
      "24  1\n",
      "90  1\n",
      "60  2\n",
      "30  1\n",
      "180  1\n"
     ]
    }
   ],
   "source": [
    "arr=[12,23,12,24,90,60,30,12,60,180]\n",
    "dict={}\n",
    "for i in arr:\n",
    "    if i in dict:\n",
    "        dict[i]=dict[i]+1\n",
    "    else:\n",
    "        dict[i]=1\n",
    "for i in dict:\n",
    "    print(i,\"\",dict[i])"
   ]
  },
  {
   "cell_type": "code",
   "execution_count": 9,
   "id": "98aeb3a3",
   "metadata": {},
   "outputs": [
    {
     "name": "stdout",
     "output_type": "stream",
     "text": [
      "55\n"
     ]
    }
   ],
   "source": [
    "def second(l):\n",
    "    if (l[0]>l[1]):\n",
    "        max1 = l[0]\n",
    "        max2 = l[1]\n",
    "        \n",
    "    else:\n",
    "        max1 = l[1]\n",
    "        max2 = l[0]\n",
    "        \n",
    "    for i in range(2,len(l)):\n",
    "        digit = l[i]\n",
    "        if digit > max1:\n",
    "            max2 = max1\n",
    "            max1 = digit\n",
    "        elif(digit>max2):\n",
    "            max2 = digit\n",
    "            \n",
    "    return max2\n",
    "\n",
    "l = [1,2,3,4,55,6,7,60]\n",
    "res = second(l)\n",
    "print(res)\n",
    "        \n",
    "    \n",
    "        "
   ]
  },
  {
   "cell_type": "code",
   "execution_count": 8,
   "id": "dc0827b8",
   "metadata": {},
   "outputs": [
    {
     "name": "stdout",
     "output_type": "stream",
     "text": [
      "0\n",
      "1 2\n",
      "3 4\n"
     ]
    }
   ],
   "source": [
    "s = [3,4,1,7,9]\n",
    "for i in range(len(s)):\n",
    "    if i%2 != 0:\n",
    "        print(i,end = \" \")\n",
    "    else:\n",
    "        print(i)"
   ]
  },
  {
   "cell_type": "code",
   "execution_count": 7,
   "id": "22b93fb1",
   "metadata": {},
   "outputs": [
    {
     "name": "stdout",
     "output_type": "stream",
     "text": [
      "[0, 2, 4]\n",
      "[1, 3]\n",
      "sum 3\n"
     ]
    }
   ],
   "source": [
    "s = [3, 4, 1, 7, 9]\n",
    "even = []\n",
    "odd = []\n",
    "\n",
    "for i in range (len(s)):\n",
    "    if i % 2 == 0:\n",
    "        even.append(s[i])\n",
    "    else:\n",
    "        odd.append(s[i])\n",
    "\n",
    "\n",
    "evenn=sorted(even)\n",
    "print(evenn)\n",
    "oddd = sorted(odd)\n",
    "print(oddd)\n",
    "print(\"sum\",evenn[-2]+oddd[-2])\n",
    "\n"
   ]
  },
  {
   "cell_type": "code",
   "execution_count": 19,
   "id": "88d199ce",
   "metadata": {},
   "outputs": [
    {
     "name": "stdout",
     "output_type": "stream",
     "text": [
      "[3, 1, 9]\n",
      "[4, 7]\n",
      "7\n"
     ]
    }
   ],
   "source": [
    "s = [3, 4, 1, 7, 9]\n",
    "even = s[::2]\n",
    "odd = s[1::2]\n",
    "print(even)\n",
    "print(odd)\n",
    "a,b = sorted(even),sorted(odd)\n",
    "print(a[-2]+b[-2])\n"
   ]
  },
  {
   "cell_type": "code",
   "execution_count": 4,
   "id": "fbc64a7d",
   "metadata": {},
   "outputs": [
    {
     "name": "stdout",
     "output_type": "stream",
     "text": [
      "10 20\n"
     ]
    }
   ],
   "source": [
    "x = 20\n",
    "y = 10\n",
    "\n",
    "x = x+y #30\n",
    "y = x-y #10\n",
    "x = x-y #20\n",
    "\n",
    "print(x,y)"
   ]
  },
  {
   "cell_type": "markdown",
   "id": "fc88d58c",
   "metadata": {},
   "source": [
    "# Check Leap Year or Not"
   ]
  },
  {
   "cell_type": "code",
   "execution_count": 11,
   "id": "e950f552",
   "metadata": {},
   "outputs": [
    {
     "name": "stdout",
     "output_type": "stream",
     "text": [
      "enter the year1700\n",
      "not leap year\n"
     ]
    }
   ],
   "source": [
    "year = int(input(\"enter the year\"))\n",
    "if year%4 ==0:\n",
    "    if year%100 == 0:\n",
    "        if year%400 == 0:\n",
    "            print(\"leap year\")\n",
    "        else:\n",
    "            print(\"not leap year\")\n",
    "    else:\n",
    "        print(\"leap year\")\n",
    "        \n",
    "else:\n",
    "    print(\"leap year\")"
   ]
  },
  {
   "cell_type": "markdown",
   "id": "f1a1b4d1",
   "metadata": {},
   "source": [
    "# Create a List \n"
   ]
  },
  {
   "cell_type": "code",
   "execution_count": 15,
   "id": "42ece02a",
   "metadata": {},
   "outputs": [
    {
     "name": "stdout",
     "output_type": "stream",
     "text": [
      "enter a kength of a list3\n",
      "enter a element at a index1\n",
      "enter a element at a index2\n",
      "enter a element at a index3\n",
      "[1, 2, 3]\n"
     ]
    }
   ],
   "source": [
    "n = int(input(\"enter a kength of a list\"))\n",
    "lis = []\n",
    "for i in range(n):\n",
    "    ele = int(input(\"enter a element at a index\"))\n",
    "    lis.append(ele)\n",
    "print(lis)"
   ]
  },
  {
   "cell_type": "markdown",
   "id": "970ce12f",
   "metadata": {},
   "source": [
    "# Linear search\n"
   ]
  },
  {
   "cell_type": "code",
   "execution_count": 34,
   "id": "16480289",
   "metadata": {},
   "outputs": [
    {
     "name": "stdout",
     "output_type": "stream",
     "text": [
      "enter a element20\n",
      "elemnt found at index 1\n"
     ]
    }
   ],
   "source": [
    "def l_search(lis,target):\n",
    "    for i in range(0,len(lis)):\n",
    "        \n",
    "        if lis[i] == target:\n",
    "            return i\n",
    "    return -1\n",
    "lis= [10,20,30,40,50]\n",
    "target = int(input(\"enter a element\"))\n",
    "index = l_search(lis,target)\n",
    "if index >= 0:\n",
    "    print(\"elemnt found at index\",index)\n",
    "else:\n",
    "    print(\"elemnt not found\")"
   ]
  },
  {
   "cell_type": "code",
   "execution_count": 38,
   "id": "9dfa8e30",
   "metadata": {},
   "outputs": [
    {
     "name": "stdout",
     "output_type": "stream",
     "text": [
      "50\n"
     ]
    }
   ],
   "source": [
    "def maximum(lis):\n",
    "    max = lis[0]\n",
    "    \n",
    "    for i in range(0,len(lis)):\n",
    "        if lis[i]>max:\n",
    "            max = lis[i]\n",
    "    return max\n",
    "\n",
    "lis= [10,20,30,40,50]        \n",
    "res = maximum(lis)\n",
    "print(res)"
   ]
  },
  {
   "cell_type": "code",
   "execution_count": 3,
   "id": "fa8171db",
   "metadata": {},
   "outputs": [
    {
     "name": "stdout",
     "output_type": "stream",
     "text": [
      "60\n"
     ]
    }
   ],
   "source": [
    "def max(lis):\n",
    "    max = lis[0]\n",
    "    \n",
    "    for i in lis:\n",
    "        if i > max:\n",
    "            max = i\n",
    "    return max\n",
    "\n",
    "lis= [10,20,60,40,50]        \n",
    "res = max(lis)\n",
    "print(res)"
   ]
  },
  {
   "cell_type": "code",
   "execution_count": 4,
   "id": "c6aca395",
   "metadata": {},
   "outputs": [
    {
     "name": "stdout",
     "output_type": "stream",
     "text": [
      "180\n"
     ]
    }
   ],
   "source": [
    "def sum(lis):\n",
    "    sum = 0\n",
    "    for i in lis:\n",
    "        sum = i+sum\n",
    "    return sum\n",
    "lis= [10,20,60,40,50]        \n",
    "res = sum(lis)\n",
    "print(res)"
   ]
  },
  {
   "cell_type": "code",
   "execution_count": 7,
   "id": "f7e6f1c2",
   "metadata": {},
   "outputs": [
    {
     "name": "stdout",
     "output_type": "stream",
     "text": [
      "(120, 110)\n"
     ]
    }
   ],
   "source": [
    "def sum(lis):\n",
    "    sum = 0\n",
    "    sum1 = 0\n",
    "    for i in range(len(lis)):\n",
    "        if i%2 == 0:\n",
    "            sum = sum+lis[i]\n",
    "        else:\n",
    "            sum1 = sum+lis[i]\n",
    "    return sum,sum1\n",
    "lis= [10,20,60,40,50]        \n",
    "res = sum(lis)\n",
    "print(res)"
   ]
  },
  {
   "cell_type": "markdown",
   "id": "646e675e",
   "metadata": {},
   "source": [
    "# Check the list is sorted or NOt \n"
   ]
  },
  {
   "cell_type": "code",
   "execution_count": 3,
   "id": "2b600175",
   "metadata": {},
   "outputs": [
    {
     "name": "stdout",
     "output_type": "stream",
     "text": [
      "not\n"
     ]
    }
   ],
   "source": [
    "def sortede(list):\n",
    "    for i in range(1,len(list)):\n",
    "        if list[i]<list[i-1]:\n",
    "            return False\n",
    "    return True\n",
    "\n",
    "list = [10,20,60,40,50]\n",
    "res = sortede(list)\n",
    "if res == True:\n",
    "    print(\"sorteds\")\n",
    "else:\n",
    "    print(\"not\")"
   ]
  },
  {
   "cell_type": "code",
   "execution_count": 9,
   "id": "444d69ce",
   "metadata": {},
   "outputs": [
    {
     "name": "stdout",
     "output_type": "stream",
     "text": [
      "[50, 40, 30, 20, 10]\n"
     ]
    }
   ],
   "source": [
    "list = [10,20,30,40,50]\n",
    "rev = []\n",
    "\n",
    "for i in range(len(list)-1,-1,-1):\n",
    "    if list[i] not in rev:\n",
    "        rev.append(list[i])\n",
    "print(rev)"
   ]
  },
  {
   "cell_type": "code",
   "execution_count": 10,
   "id": "d1396868",
   "metadata": {},
   "outputs": [
    {
     "name": "stdout",
     "output_type": "stream",
     "text": [
      "[50, 40, 30, 20, 10]\n"
     ]
    }
   ],
   "source": [
    "def reverse_list(list):\n",
    "    i = 0\n",
    "    j = len(list)-1\n",
    "    \n",
    "    while i<j:\n",
    "        \n",
    "        list[i],list[j] = list[j],list[i]\n",
    "        i = i+1\n",
    "        j = j-1\n",
    "        \n",
    "list = [10,20,30,40,50]\n",
    "reverse_list(list)\n",
    "print(list)"
   ]
  },
  {
   "cell_type": "code",
   "execution_count": 1,
   "id": "7a05acaa",
   "metadata": {},
   "outputs": [
    {
     "ename": "KeyboardInterrupt",
     "evalue": "",
     "output_type": "error",
     "traceback": [
      "\u001b[1;31m---------------------------------------------------------------------------\u001b[0m",
      "\u001b[1;31mKeyboardInterrupt\u001b[0m                         Traceback (most recent call last)",
      "Cell \u001b[1;32mIn[1], line 5\u001b[0m\n\u001b[0;32m      3\u001b[0m original_n \u001b[38;5;241m=\u001b[39m N\n\u001b[0;32m      4\u001b[0m \u001b[38;5;28;01mwhile\u001b[39;00m(N\u001b[38;5;241m>\u001b[39m\u001b[38;5;241m0\u001b[39m):\n\u001b[1;32m----> 5\u001b[0m     rem \u001b[38;5;241m=\u001b[39m \u001b[43mN\u001b[49m \u001b[38;5;241m%\u001b[39m \u001b[38;5;241m10\u001b[39m\n\u001b[0;32m      6\u001b[0m     \u001b[38;5;28;01mif\u001b[39;00m rem \u001b[38;5;241m!=\u001b[39m \u001b[38;5;241m0\u001b[39m \u001b[38;5;129;01mand\u001b[39;00m original_n \u001b[38;5;241m%\u001b[39m rem \u001b[38;5;241m==\u001b[39m \u001b[38;5;241m0\u001b[39m:\n\u001b[0;32m      7\u001b[0m         count \u001b[38;5;241m+\u001b[39m\u001b[38;5;241m=\u001b[39m \u001b[38;5;241m1\u001b[39m\n",
      "\u001b[1;31mKeyboardInterrupt\u001b[0m: "
     ]
    }
   ],
   "source": [
    "N = 2446\n",
    "count = 0\n",
    "original_n = N\n",
    "while(N>0):\n",
    "    rem = N % 10\n",
    "    if rem != 0 and original_n % rem == 0:\n",
    "        count += 1\n",
    "        N = N//10\n",
    "print(count)"
   ]
  },
  {
   "cell_type": "code",
   "execution_count": 3,
   "id": "56d883ef",
   "metadata": {},
   "outputs": [
    {
     "name": "stdout",
     "output_type": "stream",
     "text": [
      "[40, 50, 30, 20, 10]\n"
     ]
    }
   ],
   "source": [
    "def revers(list):\n",
    "    i = 0\n",
    "    j = len(list)-1\n",
    "    \n",
    "    while i<j:\n",
    "        list[i],list[j] = list[j],list[i]\n",
    "        i = i+1\n",
    "        j = j-1\n",
    "list = [10,20,30,50,40]\n",
    "revers(list)\n",
    "print(list)"
   ]
  },
  {
   "cell_type": "code",
   "execution_count": 2,
   "id": "00234695",
   "metadata": {},
   "outputs": [
    {
     "name": "stdout",
     "output_type": "stream",
     "text": [
      "225\n"
     ]
    }
   ],
   "source": [
    " def sumOfSeries(n):\n",
    "    if n==1:\n",
    "        return 1\n",
    "        \n",
    "    return n**3 + (sumOfSeries(n-1))\n",
    "n = 5\n",
    "res = sumOfSeries(n)\n",
    "print(res)"
   ]
  },
  {
   "cell_type": "code",
   "execution_count": 4,
   "id": "9983ff0d",
   "metadata": {},
   "outputs": [
    {
     "name": "stdout",
     "output_type": "stream",
     "text": [
      "[4, 3, 2, 1]\n"
     ]
    }
   ],
   "source": [
    "a=[1,2,3,4]\n",
    "s=0\n",
    "e=len(a)-1\n",
    "while s<e:\n",
    "    a[s],a[e]=a[e],a[s]\n",
    "    s+=1\n",
    "    e-=1\n",
    "print(a)\n",
    "    \n",
    "    "
   ]
  },
  {
   "cell_type": "code",
   "execution_count": 11,
   "id": "dca69422",
   "metadata": {},
   "outputs": [
    {
     "name": "stdout",
     "output_type": "stream",
     "text": [
      "None\n"
     ]
    }
   ],
   "source": [
    "\n",
    "def rec(st,en,arr):\n",
    "    if st<en:\n",
    "        return \n",
    "    else:\n",
    "        \n",
    "        arr[st],arr[en]=arr[en],arr[st]\n",
    "        rec(st+1,en-1,arr)\n",
    "    return arr\n",
    "a=[1,2,3,4]\n",
    "s=0\n",
    "e=len(a)-1\n",
    "b=rec(s,e,a)\n",
    "print(b)"
   ]
  },
  {
   "cell_type": "code",
   "execution_count": 9,
   "id": "f34856a6",
   "metadata": {},
   "outputs": [
    {
     "name": "stdout",
     "output_type": "stream",
     "text": [
      "Enter the number: 4\n",
      "1 2 4 "
     ]
    }
   ],
   "source": [
    "n=int(input(\"Enter the number: \"))\n",
    "for i in range(1,n+1):\n",
    "    if n%i==0:\n",
    "        print(i,end=\" \")"
   ]
  },
  {
   "cell_type": "code",
   "execution_count": 8,
   "id": "e298b41a",
   "metadata": {},
   "outputs": [
    {
     "data": {
      "text/plain": [
       "1"
      ]
     },
     "execution_count": 8,
     "metadata": {},
     "output_type": "execute_result"
    }
   ],
   "source": [
    "4//4"
   ]
  },
  {
   "cell_type": "code",
   "execution_count": 10,
   "id": "4ffb953c",
   "metadata": {},
   "outputs": [
    {
     "data": {
      "text/plain": [
       "1"
      ]
     },
     "execution_count": 10,
     "metadata": {},
     "output_type": "execute_result"
    }
   ],
   "source": [
    "1%10"
   ]
  },
  {
   "cell_type": "code",
   "execution_count": 11,
   "id": "b3032c35",
   "metadata": {},
   "outputs": [
    {
     "data": {
      "text/plain": [
       "0.1"
      ]
     },
     "execution_count": 11,
     "metadata": {},
     "output_type": "execute_result"
    }
   ],
   "source": [
    "1/10"
   ]
  },
  {
   "cell_type": "code",
   "execution_count": 4,
   "id": "73c2d877",
   "metadata": {},
   "outputs": [
    {
     "name": "stdout",
     "output_type": "stream",
     "text": [
      "20\n",
      "10\n"
     ]
    }
   ],
   "source": [
    "a = 10\n",
    "b = 20\n",
    "temp = a\n",
    "a = b\n",
    "b = temp\n",
    "print(a)\n",
    "print(b)"
   ]
  },
  {
   "cell_type": "code",
   "execution_count": 7,
   "id": "63337f1c",
   "metadata": {},
   "outputs": [
    {
     "name": "stdout",
     "output_type": "stream",
     "text": [
      "1\n",
      "2\n"
     ]
    }
   ],
   "source": [
    "a = 2\n",
    "b = 1\n",
    "a = a+b\n",
    "b = a-b\n",
    "a = a-b\n",
    "print(a)\n",
    "print(b)\n"
   ]
  },
  {
   "cell_type": "code",
   "execution_count": 8,
   "id": "579d8b32",
   "metadata": {},
   "outputs": [
    {
     "name": "stdout",
     "output_type": "stream",
     "text": [
      "2\n",
      "2\n"
     ]
    }
   ],
   "source": [
    "n = 1234\n",
    "even = 0\n",
    "odd = 0\n",
    "while n!=0:\n",
    "    rem = n%10\n",
    "    if rem%2 == 0:\n",
    "        even += 1\n",
    "    else:\n",
    "        odd += 1\n",
    "    n = n//10\n",
    "print(even)\n",
    "print(odd)"
   ]
  },
  {
   "cell_type": "code",
   "execution_count": 10,
   "id": "3b144146",
   "metadata": {},
   "outputs": [
    {
     "name": "stdout",
     "output_type": "stream",
     "text": [
      "4321\n"
     ]
    }
   ],
   "source": [
    "n = 1234\n",
    "rev = ''\n",
    "res = 0\n",
    "while n!=0:\n",
    "    rem = n%10\n",
    "    res= res*10+rem\n",
    "    n = n//10\n",
    "print(res)"
   ]
  },
  {
   "cell_type": "code",
   "execution_count": 12,
   "id": "de4dad20",
   "metadata": {},
   "outputs": [
    {
     "name": "stdout",
     "output_type": "stream",
     "text": [
      "dcba \n"
     ]
    }
   ],
   "source": [
    "n = 'abcd'\n",
    "rev = ' '\n",
    "for i in n:\n",
    "    if i not in rev:\n",
    "        rev = i+rev\n",
    "print(rev)"
   ]
  },
  {
   "cell_type": "code",
   "execution_count": 16,
   "id": "48b53404",
   "metadata": {},
   "outputs": [
    {
     "name": "stdout",
     "output_type": "stream",
     "text": [
      "0\n",
      "1\n",
      "1\n",
      "2\n",
      "3\n",
      "5\n",
      "8\n",
      "13\n",
      "21\n",
      "34\n",
      "55\n"
     ]
    }
   ],
   "source": [
    "s = 10\n",
    "n1 = 0\n",
    "n2 = 1\n",
    "count = 2\n",
    "if s < 0:\n",
    "    print(\"please give a positive integer\")\n",
    "elif(s == 1):\n",
    "    print(n1)\n",
    "else:\n",
    "    print(n1)\n",
    "    print(n2)\n",
    "    while count <= s:\n",
    "        \n",
    "        n3 = n1+n2\n",
    "        print(n3)\n",
    "        count += 1\n",
    "        n1 = n2\n",
    "        n2 = n3"
   ]
  },
  {
   "cell_type": "code",
   "execution_count": 21,
   "id": "0b8a7cc0",
   "metadata": {},
   "outputs": [
    {
     "name": "stdout",
     "output_type": "stream",
     "text": [
      "pallindrom\n"
     ]
    }
   ],
   "source": [
    "def pallindrome(n):\n",
    "    rev = ''\n",
    "    res = 0\n",
    "    while n!=0:\n",
    "        rem = n%10\n",
    "        res= res*10+rem\n",
    "        n = n//10\n",
    "    return res\n",
    "n = 121\n",
    "res = pallindrome(n)\n",
    "if res == n:\n",
    "    print(\"pallindrom\")\n",
    "else:\n",
    "    print(\"not\")"
   ]
  },
  {
   "cell_type": "code",
   "execution_count": 22,
   "id": "e423ecd6",
   "metadata": {},
   "outputs": [
    {
     "name": "stdout",
     "output_type": "stream",
     "text": [
      "pallindrome\n"
     ]
    }
   ],
   "source": [
    "def pallindrome(s):\n",
    "    rev = \"\"\n",
    "    for i in s:\n",
    "        rev = i+rev\n",
    "    return rev\n",
    "s = 'dad'\n",
    "rev = pallindrome(s)\n",
    "if rev == s:\n",
    "    print(\"pallindrome\")\n",
    "else:\n",
    "    print(\"not\")"
   ]
  },
  {
   "cell_type": "code",
   "execution_count": 25,
   "id": "a4c0d7c0",
   "metadata": {},
   "outputs": [
    {
     "name": "stdout",
     "output_type": "stream",
     "text": [
      "2\n",
      "3\n",
      "5\n",
      "7\n"
     ]
    }
   ],
   "source": [
    "def prime(n):\n",
    "    for i in range(2,n):\n",
    "        if n%i == 0:\n",
    "            return False\n",
    "    return True\n",
    "for k in range(2,10):\n",
    "    n = k\n",
    "    res = prime(n)\n",
    "    if res == True:\n",
    "        print(n)\n",
    "  "
   ]
  },
  {
   "cell_type": "code",
   "execution_count": 26,
   "id": "ca12d049",
   "metadata": {},
   "outputs": [
    {
     "name": "stdout",
     "output_type": "stream",
     "text": [
      "prime\n"
     ]
    }
   ],
   "source": [
    "def prime(n):\n",
    "    for i in range(2,n):\n",
    "        if n%i == 0:\n",
    "            return False\n",
    "    return True\n",
    "\n",
    "n = 2\n",
    "res = prime(n)\n",
    "if res == True:\n",
    "    print(\"prime\")\n",
    "  "
   ]
  },
  {
   "cell_type": "code",
   "execution_count": 27,
   "id": "7e970679",
   "metadata": {},
   "outputs": [
    {
     "name": "stdout",
     "output_type": "stream",
     "text": [
      "120\n"
     ]
    }
   ],
   "source": [
    "def fact(n):\n",
    "    res = 1\n",
    "    for i in range(2,n+1):\n",
    "        res = res*i\n",
    "    return res\n",
    "n = 5\n",
    "res = fact(n)\n",
    "print(res)"
   ]
  },
  {
   "cell_type": "code",
   "execution_count": 28,
   "id": "3e9333b5",
   "metadata": {},
   "outputs": [
    {
     "name": "stdout",
     "output_type": "stream",
     "text": [
      "4\n"
     ]
    }
   ],
   "source": [
    "def count(n):\n",
    "    count = 0\n",
    "    while n != 0:\n",
    "        n = n//10\n",
    "        count += 1\n",
    "    return count\n",
    "n = 1234\n",
    "res = count(n)\n",
    "print(res)"
   ]
  },
  {
   "cell_type": "code",
   "execution_count": 30,
   "id": "0f895113",
   "metadata": {},
   "outputs": [
    {
     "name": "stdout",
     "output_type": "stream",
     "text": [
      "2\n",
      "2\n"
     ]
    }
   ],
   "source": [
    "n = 1234\n",
    "even = 0\n",
    "odd = 0\n",
    "while n != 0:\n",
    "    rem = n%10\n",
    "    if rem%2 ==0:\n",
    "        even += 1\n",
    "    else:\n",
    "        odd += 1\n",
    "    n = n//10\n",
    "print(even)\n",
    "print(odd)"
   ]
  },
  {
   "cell_type": "code",
   "execution_count": 6,
   "id": "c29b5d06",
   "metadata": {},
   "outputs": [
    {
     "name": "stdout",
     "output_type": "stream",
     "text": [
      "[45, 3, 2]\n"
     ]
    }
   ],
   "source": [
    "arr1 = [2,3,45]\n",
    "rev = []\n",
    "for i in arr1:\n",
    "    rev.insert(0,i)\n",
    "print(rev)"
   ]
  },
  {
   "cell_type": "code",
   "execution_count": 1,
   "id": "8b2bf4e1",
   "metadata": {},
   "outputs": [
    {
     "name": "stdout",
     "output_type": "stream",
     "text": [
      "[55, 45, 3, 2]\n"
     ]
    }
   ],
   "source": [
    "arr1 = [2,3,45,55]\n",
    "a = 0\n",
    "en = len(arr1)-1\n",
    "while a < en:\n",
    "    arr1[a],arr1[en] = arr1[en],arr1[a]\n",
    "    a = a+1\n",
    "    en = en-1\n",
    "print(arr1)"
   ]
  },
  {
   "cell_type": "code",
   "execution_count": 95,
   "id": "5eff1bfc",
   "metadata": {},
   "outputs": [
    {
     "name": "stdout",
     "output_type": "stream",
     "text": [
      "gnrts\n"
     ]
    }
   ],
   "source": [
    "ab=\"string\"\n",
    "rev = str()\n",
    "for char in ab:\n",
    "    if char!=\"i\":\n",
    "        rev = char+rev\n",
    "    \n",
    "        \n",
    "        \n",
    "        \n",
    "    \n",
    "        \n",
    "    \n",
    " \n",
    "        \n",
    "    \n",
    "    \n",
    "        \n",
    "    \n",
    "\n",
    "print(rev)\n",
    "\n",
    "        \n",
    "        \n",
    "    "
   ]
  },
  {
   "cell_type": "code",
   "execution_count": 101,
   "id": "5fd28370-5ff7-48c1-ab4f-483b4f057063",
   "metadata": {},
   "outputs": [
    {
     "name": "stdout",
     "output_type": "stream",
     "text": [
      "Original string: string\n",
      "Modified string: rtsing\n"
     ]
    }
   ],
   "source": [
    "ab = \"string\"\n",
    "rev = \"\"\n",
    "\n",
    "# Flag to indicate if 'i' has been found\n",
    "found_i = False\n",
    "\n",
    "for char in ab:\n",
    "    if char == \"i\":\n",
    "        # Once 'i' is found, set the flag to True and stop reversing\n",
    "        found_i = True\n",
    "    if not found_i and char != \"i\":\n",
    "        # Continue reversing characters before 'i'\n",
    "        rev = char + rev\n",
    "    elif found_i and char != \"i\":\n",
    "        # After 'i', append the remaining characters as they are\n",
    "        rev = rev+char\n",
    "\n",
    "print(\"Original string:\", ab)\n",
    "print(\"Modified string:\", rev)\n"
   ]
  },
  {
   "cell_type": "code",
   "execution_count": 105,
   "id": "d1a6e900-5073-47b5-9faa-681b1937d7dc",
   "metadata": {},
   "outputs": [
    {
     "name": "stdout",
     "output_type": "stream",
     "text": [
      "3\n",
      "Original string: string\n",
      "Modified string: rtsng\n"
     ]
    }
   ],
   "source": [
    "ab = \"string\"\n",
    "rev = \"\"\n",
    "\n",
    "for char in ab:\n",
    "    if char == \"i\":\n",
    "        # Once 'i' is found, break out of the loop\n",
    "        break\n",
    "    # Continue reversing characters before 'i'\n",
    "    rev = char + rev\n",
    "\n",
    "# After the loop, add the part of the string after 'i'\n",
    "rev += ab[ab.find('i') + 1:]\n",
    "print(ab.find('i'))\n",
    "\n",
    "print(\"Original string:\", ab)\n",
    "print(\"Modified string:\", rev)\n"
   ]
  },
  {
   "cell_type": "code",
   "execution_count": 4,
   "id": "8c594b3f-b585-4a04-9bc8-b7b5ce4a79db",
   "metadata": {},
   "outputs": [
    {
     "name": "stdout",
     "output_type": "stream",
     "text": [
      "[1, 3, 2, 4]\n",
      "10\n"
     ]
    }
   ],
   "source": [
    "l = [1,3,2,3,4]\n",
    "sum = 0\n",
    "e = []\n",
    "for i in l:\n",
    "    if i not in e:\n",
    "        e.append(i)\n",
    "print(e)\n",
    "for j in e:\n",
    "    sum = j+sum\n",
    "print(sum)\n"
   ]
  },
  {
   "cell_type": "code",
   "execution_count": 6,
   "id": "700e4d9c-4efb-4b58-8c35-cfbe501489f8",
   "metadata": {},
   "outputs": [
    {
     "name": "stdout",
     "output_type": "stream",
     "text": [
      "[1, 3, 2, 4]\n",
      "10\n"
     ]
    }
   ],
   "source": [
    "l = [1, 3, 2, 3, 4]\n",
    "sum = 0\n",
    "e = []\n",
    "for i in l:\n",
    "    if i not in e:\n",
    "        e.append(i)\n",
    "        sum += i\n",
    "print(e)\n",
    "print(sum)"
   ]
  },
  {
   "cell_type": "code",
   "execution_count": null,
   "id": "d409f36a-566e-4b00-a0fe-e95834cca680",
   "metadata": {},
   "outputs": [],
   "source": []
  },
  {
   "cell_type": "code",
   "execution_count": 8,
   "id": "ce4ad913-3c6e-4aac-bb9f-0e33e4cdb553",
   "metadata": {},
   "outputs": [
    {
     "name": "stdout",
     "output_type": "stream",
     "text": [
      "[1, 3, 2, 4]\n",
      "10\n"
     ]
    }
   ],
   "source": [
    "l = [1, 3, 2, 3, 4]\n",
    "sum = 0\n",
    "e = []\n",
    "for i in l:\n",
    "    if i not in e:\n",
    "        e.append(i)\n",
    "        sum += i\n",
    "print(e)\n",
    "print(sum)"
   ]
  },
  {
   "cell_type": "code",
   "execution_count": 10,
   "id": "8d6c8818-2978-4a17-b217-afbf2703ae5a",
   "metadata": {},
   "outputs": [
    {
     "name": "stdout",
     "output_type": "stream",
     "text": [
      "[1, 3, 2, 4]\n",
      "10\n"
     ]
    }
   ],
   "source": [
    "l = [1, 3, 2, 3, 4]\n",
    "sum = 0\n",
    "e = []\n",
    "for i in l:\n",
    "    if i not in e:\n",
    "        e.append(i)\n",
    "        sum += i\n",
    "print(e)\n",
    "print(sum)"
   ]
  },
  {
   "cell_type": "code",
   "execution_count": 12,
   "id": "1137ef63-fd31-4e4c-b595-456bafa60732",
   "metadata": {},
   "outputs": [
    {
     "name": "stdout",
     "output_type": "stream",
     "text": [
      "[1, 3, 2, 4]\n",
      "10\n"
     ]
    }
   ],
   "source": [
    "l = [1, 3, 2, 3, 4]\n",
    "sum = 0\n",
    "e = []\n",
    "for i in l:\n",
    "    if i not in e:\n",
    "        e.append(i)\n",
    "        sum += i\n",
    "print(e)\n",
    "print(sum)"
   ]
  },
  {
   "cell_type": "markdown",
   "id": "15be75cd-d872-42bc-8a91-ec6ded588b8d",
   "metadata": {},
   "source": [
    "\n",
    "This code will output the unique elements in the list `e` and the total sum of those unique elements."
   ]
  },
  {
   "cell_type": "code",
   "execution_count": 6,
   "id": "ecb6dcfa-fc01-482e-829c-ec747677fba6",
   "metadata": {},
   "outputs": [
    {
     "name": "stdout",
     "output_type": "stream",
     "text": [
      "{1, 2, 3, 4}\n",
      "10\n"
     ]
    }
   ],
   "source": [
    "l = [1, 3, 2, 3, 4]\n",
    "a = set(l)\n",
    "print(a)\n",
    "sum1=sum(a)\n",
    "print(sum1)"
   ]
  },
  {
   "cell_type": "code",
   "execution_count": 31,
   "id": "229f30cf-b393-4cae-8898-22122b121c34",
   "metadata": {},
   "outputs": [
    {
     "name": "stdout",
     "output_type": "stream",
     "text": [
      "[1, 3, 2, 4]\n",
      "10\n"
     ]
    }
   ],
   "source": [
    "l = [1, 3, 2, 3, 4]\n",
    "sum = 0\n",
    "e = []\n",
    "for i in l:\n",
    "    if i not in e:\n",
    "        e.append(i)\n",
    "        sum += i\n",
    "print(e)\n",
    "print(sum)"
   ]
  },
  {
   "cell_type": "code",
   "execution_count": 2,
   "id": "61416a97-2016-4a7a-8ce6-598700779b35",
   "metadata": {},
   "outputs": [
    {
     "name": "stdout",
     "output_type": "stream",
     "text": [
      "10\n"
     ]
    }
   ],
   "source": [
    "l = [1, 3, 2, 3, 4]\n",
    "unique_elements = set(l)  # Create a set of unique elements\n",
    "total_sum = sum(unique_elements)  # Use the built-in sum function\n",
    "print(total_sum)"
   ]
  },
  {
   "cell_type": "code",
   "execution_count": null,
   "id": "9cb4aed9-b59a-4440-95b0-ba85467a442d",
   "metadata": {},
   "outputs": [],
   "source": []
  }
 ],
 "metadata": {
  "kernelspec": {
   "display_name": "Python 3 (ipykernel)",
   "language": "python",
   "name": "python3"
  },
  "language_info": {
   "codemirror_mode": {
    "name": "ipython",
    "version": 3
   },
   "file_extension": ".py",
   "mimetype": "text/x-python",
   "name": "python",
   "nbconvert_exporter": "python",
   "pygments_lexer": "ipython3",
   "version": "3.9.19"
  }
 },
 "nbformat": 4,
 "nbformat_minor": 5
}
