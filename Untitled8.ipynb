{
 "cells": [
  {
   "cell_type": "code",
   "execution_count": 7,
   "id": "085acd1f",
   "metadata": {},
   "outputs": [
    {
     "name": "stdout",
     "output_type": "stream",
     "text": [
      "enter a characterpentagon space\n",
      "SPACE PENTAGON \n"
     ]
    }
   ],
   "source": [
    "s = str(input(\"enter a character\"))\n",
    "reverse = \"\"\n",
    "word = s.split()\n",
    "\n",
    "for i in word:\n",
    "    reverse = i+\" \" +reverse\n",
    "st=reverse\n",
    "print(st.upper())\n"
   ]
  },
  {
   "cell_type": "code",
   "execution_count": 13,
   "id": "cf4e9198",
   "metadata": {},
   "outputs": [
    {
     "name": "stdout",
     "output_type": "stream",
     "text": [
      "enter a characteryathi\n",
      " y@th@\n"
     ]
    }
   ],
   "source": [
    "s = str(input(\"enter a character\"))\n",
    "d = [\"a\",\"e\",\"i\",\"o\",\"u\"]\n",
    "new = ' '\n",
    "i = 0\n",
    "k = \"@\"\n",
    "\n",
    "for i in range(len(s)):\n",
    "    if s[i] in d:\n",
    "        \n",
    "        new = new+k\n",
    "        \n",
    "    else:\n",
    "        new = new +s[i]\n",
    "        \n",
    "print(new)"
   ]
  },
  {
   "cell_type": "code",
   "execution_count": 14,
   "id": "53da7d0d",
   "metadata": {},
   "outputs": [
    {
     "name": "stdout",
     "output_type": "stream",
     "text": [
      "Enter a string: yathi\n",
      "y@th@\n"
     ]
    }
   ],
   "source": [
    "s = input(\"Enter a string: \")\n",
    "d = [\"a\", \"e\", \"i\", \"o\", \"u\"]\n",
    "new = ''\n",
    "k = \"@\"\n",
    "\n",
    "for i in range(len(s)):\n",
    "    if s[i].lower() in d:\n",
    "        new += k\n",
    "    else:\n",
    "        new += s[i]\n",
    "        \n",
    "print(new)\n"
   ]
  },
  {
   "cell_type": "code",
   "execution_count": 20,
   "id": "9053debc",
   "metadata": {},
   "outputs": [
    {
     "name": "stdout",
     "output_type": "stream",
     "text": [
      "enter a stringmalayalam\n",
      "malayalam\n",
      "pallindrome\n"
     ]
    }
   ],
   "source": [
    "s = str(input(\"enter a string\"))\n",
    "rev = ''\n",
    "for i in s:\n",
    "    rev = i+rev\n",
    "print(rev)\n",
    "\n",
    "if rev == s:\n",
    "    print(\"pallindrome\")\n",
    "    \n",
    "else:\n",
    "    print(\"not\")"
   ]
  },
  {
   "cell_type": "code",
   "execution_count": 22,
   "id": "a82d8a01",
   "metadata": {},
   "outputs": [
    {
     "name": "stdout",
     "output_type": "stream",
     "text": [
      "enter a characterhello\n",
      "2\n"
     ]
    }
   ],
   "source": [
    "s = str(input(\"enter a character\"))\n",
    "d = [\"a\",\"e\",\"i\",\"o\",\"u\"]\n",
    "count = 0\n",
    "for i in range(len(s)):\n",
    "    if s[i] in d:\n",
    "        count += 1\n",
    "print(count)"
   ]
  },
  {
   "cell_type": "code",
   "execution_count": 23,
   "id": "a00ba806",
   "metadata": {},
   "outputs": [
    {
     "name": "stdout",
     "output_type": "stream",
     "text": [
      "2\n"
     ]
    }
   ],
   "source": [
    "s = \"hello\"\n",
    "count = 0\n",
    "for i in s:\n",
    "    if(i in \"aeiouAEIOU\"):\n",
    "        count+=1\n",
    "print(count)"
   ]
  },
  {
   "cell_type": "code",
   "execution_count": 25,
   "id": "2db33168",
   "metadata": {},
   "outputs": [
    {
     "name": "stdout",
     "output_type": "stream",
     "text": [
      "vowels are  4\n",
      "spaces are  2\n",
      "consanents are  4\n"
     ]
    }
   ],
   "source": [
    "s = \"hello i am\"\n",
    "vcount = 0\n",
    "scount =0\n",
    "ccount = 0\n",
    "for i in s:\n",
    "    if(i in \"aeiouAEIOU\"):\n",
    "        vcount+=1\n",
    "    elif(i ==\" \"):\n",
    "        scount += 1\n",
    "    else:\n",
    "        ccount += 1\n",
    "        \n",
    "print(\"vowels are \",vcount)\n",
    "print(\"spaces are \",scount)\n",
    "print(\"consanents are \",ccount)"
   ]
  },
  {
   "cell_type": "code",
   "execution_count": 28,
   "id": "d53e453b",
   "metadata": {},
   "outputs": [
    {
     "name": "stdout",
     "output_type": "stream",
     "text": [
      "GFECB\n"
     ]
    }
   ],
   "source": [
    "s = \"ABDEF\"\n",
    "res = ''\n",
    "for i in s:\n",
    "    res = chr(ord(i)+1)+res\n",
    "print(res)"
   ]
  },
  {
   "cell_type": "code",
   "execution_count": 29,
   "id": "c162a23a",
   "metadata": {},
   "outputs": [
    {
     "name": "stdout",
     "output_type": "stream",
     "text": [
      "['ronald', 'is', 'running']\n"
     ]
    }
   ],
   "source": [
    "s = \"ronald is running\"\n",
    "res = s.split(\" \")\n",
    "print(res)"
   ]
  },
  {
   "cell_type": "code",
   "execution_count": 30,
   "id": "30387f4d",
   "metadata": {},
   "outputs": [
    {
     "name": "stdout",
     "output_type": "stream",
     "text": [
      "running is ronald "
     ]
    }
   ],
   "source": [
    "s = \"ronald is running\"\n",
    "res = s.split(\" \")\n",
    "for i in range(len(res)-1,-1,-1):\n",
    "    print(res[i],end = \" \")"
   ]
  },
  {
   "cell_type": "code",
   "execution_count": 33,
   "id": "0f0dd13a",
   "metadata": {},
   "outputs": [
    {
     "name": "stdout",
     "output_type": "stream",
     "text": [
      "\n"
     ]
    }
   ],
   "source": [
    "s = \"ronald is running\"\n",
    "res = s.split(\" \")\n",
    "rev = ''\n",
    "for i in res:\n",
    "    if i ==0:\n",
    "        rev=chr(ord(i)-32)+rev\n",
    "        rev = rev+\" \"+i\n",
    "print(rev)"
   ]
  },
  {
   "cell_type": "code",
   "execution_count": 2,
   "id": "95326611",
   "metadata": {},
   "outputs": [
    {
     "name": "stdout",
     "output_type": "stream",
     "text": [
      "anagram\n"
     ]
    }
   ],
   "source": [
    "def check(s1,s2):\n",
    "    if(sorted(s1) == (sorted(s2))):\n",
    "        print(\"anagram\")\n",
    "    else:\n",
    "        print(\"not anagram\")\n",
    "s1 = \"silent\"\n",
    "s2 = \"listen\"\n",
    "check(s1,s2)"
   ]
  },
  {
   "cell_type": "code",
   "execution_count": 3,
   "id": "577aad6d",
   "metadata": {},
   "outputs": [
    {
     "ename": "SyntaxError",
     "evalue": "invalid syntax (1945947483.py, line 2)",
     "output_type": "error",
     "traceback": [
      "\u001b[1;36m  Cell \u001b[1;32mIn[3], line 2\u001b[1;36m\u001b[0m\n\u001b[1;33m    for i in range(0len)\u001b[0m\n\u001b[1;37m                    ^\u001b[0m\n\u001b[1;31mSyntaxError\u001b[0m\u001b[1;31m:\u001b[0m invalid syntax\n"
     ]
    }
   ],
   "source": [
    "s = \"abc\"\n",
    "for i in range(0len)"
   ]
  },
  {
   "cell_type": "code",
   "execution_count": 9,
   "id": "a71c548e",
   "metadata": {},
   "outputs": [
    {
     "name": "stdout",
     "output_type": "stream",
     "text": [
      "3\n"
     ]
    }
   ],
   "source": [
    "s = \"rama is sleeping rama is running rama\"\n",
    "word = \"rama\"\n",
    "count = 0\n",
    "w = s.split(\" \")\n",
    "\n",
    "\n",
    "\n",
    "for i in w:\n",
    "    if i in \"rama\":\n",
    "        \n",
    "       \n",
    "        count += 1\n",
    "print(count)"
   ]
  },
  {
   "cell_type": "code",
   "execution_count": 1,
   "id": "55eaedc2",
   "metadata": {},
   "outputs": [
    {
     "name": "stdout",
     "output_type": "stream",
     "text": [
      "a\n",
      "ab\n",
      "abc\n",
      "b\n",
      "bc\n",
      "c\n"
     ]
    }
   ],
   "source": [
    "s = \"abc\"\n",
    "for i in range(0,len(s)):\n",
    "    for j in range(i , len(s)):\n",
    "        print(s[i:j+1])"
   ]
  },
  {
   "cell_type": "code",
   "execution_count": 2,
   "id": "e86a415e",
   "metadata": {},
   "outputs": [
    {
     "name": "stdout",
     "output_type": "stream",
     "text": [
      "a\n",
      "b\n",
      "bcb\n",
      "c\n",
      "b\n",
      "e\n"
     ]
    }
   ],
   "source": [
    "def reverse(s):\n",
    "    res = \"\"\n",
    "    for i in s:\n",
    "        res = i+res\n",
    "    return res\n",
    "def print_substring(s):\n",
    "    for i in range(0,len(s)):\n",
    "        for j in range(i,len(s)):\n",
    "            ans = s[i:j+1]\n",
    "            if(reverse(ans)== ans):\n",
    "                print(ans)\n",
    "                \n",
    "                \n",
    "s = \"abcbe\"\n",
    "print_substring(s)\n"
   ]
  },
  {
   "cell_type": "code",
   "execution_count": 1,
   "id": "b5640e82",
   "metadata": {},
   "outputs": [],
   "source": [
    "def reverse(s):\n",
    "    res = \"\"\n",
    "    for i in s:\n",
    "        res = i+res\n",
    "    return res\n",
    "def print_substring(s):\n",
    "    for i in range(0,len(s)):\n",
    "        for j in range(i,len(s)):\n",
    "            ans = s[i:j+1]\n",
    "            if(reverse(ans)== ans and len(ans)>longest):\n",
    "                print(ans)\n"
   ]
  },
  {
   "cell_type": "code",
   "execution_count": null,
   "id": "ba5064f9",
   "metadata": {},
   "outputs": [],
   "source": []
  }
 ],
 "metadata": {
  "kernelspec": {
   "display_name": "Python 3 (ipykernel)",
   "language": "python",
   "name": "python3"
  },
  "language_info": {
   "codemirror_mode": {
    "name": "ipython",
    "version": 3
   },
   "file_extension": ".py",
   "mimetype": "text/x-python",
   "name": "python",
   "nbconvert_exporter": "python",
   "pygments_lexer": "ipython3",
   "version": "3.9.12"
  }
 },
 "nbformat": 4,
 "nbformat_minor": 5
}
