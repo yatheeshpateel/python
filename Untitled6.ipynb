{
 "cells": [
  {
   "cell_type": "code",
   "execution_count": 1,
   "id": "6f4fe807",
   "metadata": {},
   "outputs": [
    {
     "name": "stdout",
     "output_type": "stream",
     "text": [
      "H\n"
     ]
    }
   ],
   "source": [
    "def pond():\n",
    "    print(\"H\")\n",
    "  \n",
    " pond()"
   ]
  },
  {
   "cell_type": "code",
   "execution_count": 4,
   "id": "5e5d7e86",
   "metadata": {},
   "outputs": [
    {
     "name": "stdout",
     "output_type": "stream",
     "text": [
      "raju\n",
      "raju\n",
      "raju\n",
      "raju\n",
      "raju\n"
     ]
    }
   ],
   "source": [
    "def printn(n):\n",
    "    if n ==0:\n",
    "        return \n",
    "    print(\"raju\")\n",
    "    printn(n-1)\n",
    "printn(5)"
   ]
  },
  {
   "cell_type": "code",
   "execution_count": 6,
   "id": "02414611",
   "metadata": {},
   "outputs": [
    {
     "name": "stdout",
     "output_type": "stream",
     "text": [
      "raju\n",
      "raju\n",
      "raju\n",
      "raju\n",
      "raju\n"
     ]
    }
   ],
   "source": [
    "def printn(i,n):\n",
    "    if i > n:\n",
    "        return \n",
    "    print(\"raju\")\n",
    "    printn(i+1,n)\n",
    "printn(1,5)"
   ]
  },
  {
   "cell_type": "code",
   "execution_count": 8,
   "id": "916fb9d3",
   "metadata": {},
   "outputs": [
    {
     "name": "stdout",
     "output_type": "stream",
     "text": [
      "1\n",
      "2\n",
      "3\n",
      "4\n",
      "5\n"
     ]
    }
   ],
   "source": [
    "def printn(i,n):\n",
    "    if i>n:\n",
    "        return\n",
    "    print(i)\n",
    "    printn(i+1,n)\n",
    "printn(1,5)"
   ]
  },
  {
   "cell_type": "code",
   "execution_count": null,
   "id": "42fa34b4",
   "metadata": {},
   "outputs": [],
   "source": []
  }
 ],
 "metadata": {
  "kernelspec": {
   "display_name": "Python 3 (ipykernel)",
   "language": "python",
   "name": "python3"
  },
  "language_info": {
   "codemirror_mode": {
    "name": "ipython",
    "version": 3
   },
   "file_extension": ".py",
   "mimetype": "text/x-python",
   "name": "python",
   "nbconvert_exporter": "python",
   "pygments_lexer": "ipython3",
   "version": "3.9.12"
  }
 },
 "nbformat": 4,
 "nbformat_minor": 5
}
