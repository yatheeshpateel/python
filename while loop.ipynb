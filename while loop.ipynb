{
 "cells": [
  {
   "cell_type": "markdown",
   "id": "34f33b15",
   "metadata": {},
   "source": [
    "# while loop"
   ]
  },
  {
   "cell_type": "markdown",
   "id": "2a352d66",
   "metadata": {},
   "source": [
    "A while loop is a control flow statement which allows code to be executed repeatedly, depending on whether a condition is satisfied or not"
   ]
  },
  {
   "cell_type": "markdown",
   "id": "753436e5",
   "metadata": {},
   "source": [
    "i = 0\n",
    "while(i<=2):\n",
    "    print(\"python\")\n",
    "    i = i+1"
   ]
  },
  {
   "cell_type": "code",
   "execution_count": 2,
   "id": "e7abb165",
   "metadata": {},
   "outputs": [
    {
     "name": "stdout",
     "output_type": "stream",
     "text": [
      "python\n",
      "python\n",
      "python\n"
     ]
    }
   ],
   "source": [
    " i= 0\n",
    "while(i<=2):\n",
    "    \n",
    "    print(\"python\") \n",
    "    i = i+1"
   ]
  },
  {
   "cell_type": "markdown",
   "id": "47b906cb",
   "metadata": {},
   "source": [
    "# bitwise operators"
   ]
  },
  {
   "cell_type": "code",
   "execution_count": 3,
   "id": "a40912f8",
   "metadata": {},
   "outputs": [],
   "source": [
    "a = 5\n",
    "b = 4"
   ]
  },
  {
   "cell_type": "code",
   "execution_count": 4,
   "id": "00d15d32",
   "metadata": {},
   "outputs": [
    {
     "name": "stdout",
     "output_type": "stream",
     "text": [
      "4\n"
     ]
    }
   ],
   "source": [
    "andp = a&b\n",
    "print(andp)\n"
   ]
  },
  {
   "cell_type": "code",
   "execution_count": 5,
   "id": "ee56720b",
   "metadata": {},
   "outputs": [
    {
     "name": "stdout",
     "output_type": "stream",
     "text": [
      "5\n"
     ]
    }
   ],
   "source": [
    "andp = a|b\n",
    "print(andp)"
   ]
  },
  {
   "cell_type": "code",
   "execution_count": 6,
   "id": "23bed335",
   "metadata": {},
   "outputs": [
    {
     "name": "stdout",
     "output_type": "stream",
     "text": [
      "1\n"
     ]
    }
   ],
   "source": [
    "andp = a^b\n",
    "print(andp)"
   ]
  },
  {
   "cell_type": "code",
   "execution_count": 8,
   "id": "0b65a751",
   "metadata": {},
   "outputs": [
    {
     "name": "stdout",
     "output_type": "stream",
     "text": [
      "2\n"
     ]
    }
   ],
   "source": [
    "andp = a>>1\n",
    "print(andp)"
   ]
  },
  {
   "cell_type": "code",
   "execution_count": 9,
   "id": "648b5fcc",
   "metadata": {},
   "outputs": [
    {
     "name": "stdout",
     "output_type": "stream",
     "text": [
      "10\n"
     ]
    }
   ],
   "source": [
    "andp = a<<1\n",
    "print(andp)"
   ]
  },
  {
   "cell_type": "code",
   "execution_count": 14,
   "id": "a8ad063c",
   "metadata": {},
   "outputs": [
    {
     "name": "stdout",
     "output_type": "stream",
     "text": [
      "<__main__.fan object at 0x000001A884D43F70>\n",
      "<__main__.fan object at 0x000001A884D43F70>\n",
      "1823294635888\n",
      "1823294635888\n",
      "True\n"
     ]
    }
   ],
   "source": [
    "class fan:\n",
    "    def __init__(self):\n",
    "        self.brand = \"usha\"\n",
    "        self.color = \"black\"\n",
    "        self.cost = \"2000\"\n",
    "        \n",
    "f1 = fan()\n",
    "f2 = f1\n",
    "print(f1)\n",
    "print(f2)\n",
    "print(id(f1))\n",
    "print(id(f2))\n",
    "print (f1 is f2)"
   ]
  },
  {
   "cell_type": "code",
   "execution_count": null,
   "id": "ca51bb96",
   "metadata": {},
   "outputs": [],
   "source": []
  },
  {
   "cell_type": "code",
   "execution_count": 2,
   "id": "b648021d",
   "metadata": {},
   "outputs": [
    {
     "name": "stdout",
     "output_type": "stream",
     "text": [
      "<__main__.fan object at 0x0000016578643CD0>\n",
      "<__main__.fan object at 0x0000016578643CD0>\n",
      "1535323159760\n",
      "1535323159760\n",
      "True\n"
     ]
    }
   ],
   "source": [
    "class fan:\n",
    "    def __init__(self):\n",
    "        self.brand = \"croma\"\n",
    "        self.color = \"black\"\n",
    "        self.cost = 2000\n",
    "        self.noofblades = 3\n",
    "        \n",
    "f1 = fan()\n",
    "f2 = f1\n",
    "print(f1)\n",
    "print(f2)\n",
    "print(id(f1))\n",
    "print(id(f2))\n",
    "print(f1 is f2)"
   ]
  },
  {
   "cell_type": "code",
   "execution_count": 3,
   "id": "3c77b236",
   "metadata": {},
   "outputs": [
    {
     "name": "stdout",
     "output_type": "stream",
     "text": [
      "10\n",
      "10\n",
      "10\n",
      "1535235484240\n",
      "1535235484240\n",
      "1535235484240\n",
      "True\n",
      "True\n",
      "True\n"
     ]
    }
   ],
   "source": [
    "a =10\n",
    "b = 10 \n",
    "c =10\n",
    "print(a)\n",
    "print(b)\n",
    "print(c)\n",
    "print(id(a))\n",
    "print(id(b))\n",
    "print(id(c))\n",
    "print(a is b)\n",
    "print(b is c)\n",
    "print(c is a)"
   ]
  },
  {
   "cell_type": "code",
   "execution_count": 10,
   "id": "0153e3f5",
   "metadata": {},
   "outputs": [
    {
     "name": "stdout",
     "output_type": "stream",
     "text": [
      "10\n",
      "20\n",
      "sum is 300\n"
     ]
    }
   ],
   "source": [
    "class Calculator:\n",
    "    def __init__(self):\n",
    "        self.a =10\n",
    "        self.b = 20\n",
    "        \n",
    "    def add(self):\n",
    "        x = 100\n",
    "        y = 200\n",
    "        z = x+y\n",
    "        print(\"sum is\",z)\n",
    "        \n",
    "c1 = Calculator()\n",
    "print(c1.a)\n",
    "print(c1.b)\n",
    "\n",
    "c1.add()\n",
    "\n"
   ]
  },
  {
   "cell_type": "code",
   "execution_count": 11,
   "id": "1268d9b1",
   "metadata": {},
   "outputs": [
    {
     "name": "stdout",
     "output_type": "stream",
     "text": [
      "10\n",
      "20\n",
      "sum is 300\n"
     ]
    }
   ],
   "source": [
    "class Calculator:\n",
    "    def __init__(self):\n",
    "        self.a =10\n",
    "        self.b = 20\n",
    "        \n",
    "    def add(self):\n",
    "        x = 100\n",
    "        y = 200\n",
    "        z = x+y\n",
    "        return z\n",
    "        \n",
    "c1 = Calculator()\n",
    "print(c1.a)\n",
    "print(c1.b)\n",
    "\n",
    "r1 = c1.add()\n",
    "print(\"sum is\",r1)\n",
    "\n"
   ]
  },
  {
   "cell_type": "code",
   "execution_count": 15,
   "id": "50b14890",
   "metadata": {},
   "outputs": [
    {
     "name": "stdout",
     "output_type": "stream",
     "text": [
      "10\n",
      "20\n",
      "sum is 300\n"
     ]
    }
   ],
   "source": [
    "class Calculator:\n",
    "    def __init__(self):\n",
    "        self.a =10\n",
    "        self.b = 20\n",
    "        \n",
    "    def add(self,x,y):\n",
    "        z = x+y\n",
    "        print(\"sum is\",z)\n",
    "\n",
    "        \n",
    "c1 = Calculator()\n",
    "print(c1.a)\n",
    "print(c1.b)\n",
    "n1 = 100\n",
    "n2 = 200\n",
    "c1.add(n1,n2)\n",
    "\n",
    "\n"
   ]
  },
  {
   "cell_type": "code",
   "execution_count": 18,
   "id": "5ab9d3b0",
   "metadata": {},
   "outputs": [
    {
     "name": "stdout",
     "output_type": "stream",
     "text": [
      "10\n",
      "20\n",
      "sum is 300\n"
     ]
    }
   ],
   "source": [
    "class Calculator:\n",
    "    def __init__(self):\n",
    "        self.a =10\n",
    "        self.b = 20\n",
    "        \n",
    "    def add(self,x,y):\n",
    "        z = x+y\n",
    "        return z\n",
    "\n",
    "        \n",
    "c1 = Calculator()\n",
    "print(c1.a)\n",
    "print(c1.b)\n",
    "n1 = 100\n",
    "n2 = 200\n",
    "r =c1.add(n1,n2)\n",
    "print(\"sum is\",r)\n",
    "\n",
    "\n"
   ]
  },
  {
   "cell_type": "code",
   "execution_count": null,
   "id": "1260653c",
   "metadata": {},
   "outputs": [],
   "source": []
  },
  {
   "cell_type": "code",
   "execution_count": null,
   "id": "04ac900e",
   "metadata": {},
   "outputs": [],
   "source": []
  },
  {
   "cell_type": "code",
   "execution_count": null,
   "id": "479fb5a7",
   "metadata": {},
   "outputs": [],
   "source": []
  },
  {
   "cell_type": "code",
   "execution_count": null,
   "id": "66d6c41f",
   "metadata": {},
   "outputs": [],
   "source": []
  }
 ],
 "metadata": {
  "kernelspec": {
   "display_name": "Python 3 (ipykernel)",
   "language": "python",
   "name": "python3"
  },
  "language_info": {
   "codemirror_mode": {
    "name": "ipython",
    "version": 3
   },
   "file_extension": ".py",
   "mimetype": "text/x-python",
   "name": "python",
   "nbconvert_exporter": "python",
   "pygments_lexer": "ipython3",
   "version": "3.9.12"
  }
 },
 "nbformat": 4,
 "nbformat_minor": 5
}
