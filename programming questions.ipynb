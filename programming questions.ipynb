{
 "cells": [
  {
   "cell_type": "markdown",
   "id": "fee8934d",
   "metadata": {
    "jp-MarkdownHeadingCollapsed": true
   },
   "source": [
    "# fibonoccie series "
   ]
  },
  {
   "cell_type": "code",
   "execution_count": 1,
   "id": "5c37359d",
   "metadata": {},
   "outputs": [
    {
     "name": "stdout",
     "output_type": "stream",
     "text": [
      "enter a fibonoccie series number 10\n",
      "0\n",
      "1\n",
      "1\n",
      "2\n",
      "3\n",
      "5\n",
      "8\n",
      "13\n",
      "21\n",
      "34\n",
      "55\n"
     ]
    }
   ],
   "source": [
    "n = int(input(\"enter a fibonoccie series number \"))\n",
    "n1 = 0\n",
    "n2 = 1\n",
    "count = 2\n",
    "\n",
    "if n < 0:\n",
    "    print(\"please enter a positive number \")\n",
    "elif n == 1:\n",
    "    print(n1)\n",
    "else:\n",
    "    print(n1)\n",
    "    print(n2)\n",
    "    while count <= n :\n",
    "        n3 = n1 + n2\n",
    "        print(n3)\n",
    "        count += 1\n",
    "        n1 = n2\n",
    "        n2 = n3"
   ]
  },
  {
   "cell_type": "code",
   "execution_count": 4,
   "id": "671697fe",
   "metadata": {},
   "outputs": [
    {
     "name": "stdout",
     "output_type": "stream",
     "text": [
      "enter the fibonacci series 5\n",
      "fibonaccies series 0 1 1 2 3 "
     ]
    }
   ],
   "source": [
    "n = int(input(\"enter the fibonacci series \"))\n",
    "n1 = 0\n",
    "n2 = 1\n",
    "print(\"fibonaccies series\",n1 ,n2,end = ' ')\n",
    "\n",
    "for i in range(2,n):\n",
    "    n3 = n1+n2\n",
    "    n1 = n2\n",
    "    n2 = n3\n",
    "    print(n3,end = ' ')"
   ]
  },
  {
   "cell_type": "markdown",
   "id": "98370c6c",
   "metadata": {
    "jp-MarkdownHeadingCollapsed": true
   },
   "source": [
    "# FIND OUT A DUPLICATION VALUE"
   ]
  },
  {
   "cell_type": "code",
   "execution_count": 1,
   "id": "32b86ed2",
   "metadata": {},
   "outputs": [
    {
     "name": "stdout",
     "output_type": "stream",
     "text": [
      "[1, 5, 3, 4, 0, 0, 0, 0]\n"
     ]
    }
   ],
   "source": [
    "l = [0,1,1,5,3,0,3,4,0,0]\n",
    "p =[]\n",
    "z = []\n",
    "for i in l:\n",
    "    if i>0:\n",
    "        p.append(i)\n",
    "    elif i == 0:\n",
    "        z.append(i)\n",
    "        \n",
    "no_dup= []\n",
    "for j in p:\n",
    "    if j not in no_dup:\n",
    "        no_dup.append(j)\n",
    "        \n",
    "print(no_dup + z)"
   ]
  },
  {
   "cell_type": "code",
   "execution_count": 3,
   "id": "2e14371f",
   "metadata": {},
   "outputs": [
    {
     "name": "stdout",
     "output_type": "stream",
     "text": [
      "[0, 1, 5, 3, 4]\n"
     ]
    }
   ],
   "source": [
    "l = [0,1,1,5,3,0,3,4,0,0]\n",
    "p =[]\n",
    "z = []\n",
    "for i in l:\n",
    "    if i>=0:\n",
    "        p.append(i)\n",
    "    \n",
    "        \n",
    "no_dup= []\n",
    "for j in p:\n",
    "    if j not in no_dup:\n",
    "        no_dup.append(j)\n",
    "        \n",
    "print(no_dup + z)"
   ]
  },
  {
   "cell_type": "code",
   "execution_count": 4,
   "id": "5e59f219",
   "metadata": {},
   "outputs": [
    {
     "name": "stdout",
     "output_type": "stream",
     "text": [
      "[0, 1, 5, 3, 4]\n"
     ]
    }
   ],
   "source": [
    "l = [0,1,1,5,3,0,3,4,0,0]        \n",
    "no_dup= []\n",
    "for j in l:\n",
    "    if j not in no_dup:\n",
    "        no_dup.append(j)\n",
    "        \n",
    "print(no_dup)"
   ]
  },
  {
   "cell_type": "code",
   "execution_count": 8,
   "id": "605fec67",
   "metadata": {},
   "outputs": [
    {
     "name": "stdout",
     "output_type": "stream",
     "text": [
      "[0, 1, 2, 3, 4]\n"
     ]
    }
   ],
   "source": [
    "data = [0,0,1,1,2,2,3,3,4,4]\n",
    "\n",
    "def remove_duplication(element):\n",
    "    no_dup =  []\n",
    "    for i in element:\n",
    "        if i not in no_dup:\n",
    "            no_dup.append(i)\n",
    "    return no_dup\n",
    "print(remove_duplication(data))"
   ]
  },
  {
   "cell_type": "markdown",
   "id": "0283511e",
   "metadata": {
    "jp-MarkdownHeadingCollapsed": true
   },
   "source": [
    "# Factorial number"
   ]
  },
  {
   "cell_type": "code",
   "execution_count": 10,
   "id": "aa18c819",
   "metadata": {},
   "outputs": [
    {
     "name": "stdout",
     "output_type": "stream",
     "text": [
      "enter a number that u want factorial of that5\n",
      "120\n"
     ]
    }
   ],
   "source": [
    "def factorial(n):\n",
    "    if n == 0 or n == 1 :\n",
    "        return 1\n",
    "    else:\n",
    "        return n*factorial(n-1)\n",
    "\n",
    "n = int(input(\"enter a number that u want factorial of that\"))\n",
    "res = factorial(n)\n",
    "print(res)"
   ]
  },
  {
   "cell_type": "code",
   "execution_count": 7,
   "id": "4cdc56cc",
   "metadata": {},
   "outputs": [
    {
     "name": "stdout",
     "output_type": "stream",
     "text": [
      "enter the factorial number 5\n",
      "120\n"
     ]
    }
   ],
   "source": [
    "def fectorial(n):\n",
    "    if (n == 0 or n == 1):\n",
    "        return 1\n",
    "    else:\n",
    "        return n*factorial(n-1)\n",
    "n = int(input(\"enter the factorial number \"))\n",
    "res = factorial(n)\n",
    "print(res)"
   ]
  },
  {
   "cell_type": "markdown",
   "id": "81b53107",
   "metadata": {},
   "source": [
    "# Reverse a string \n"
   ]
  },
  {
   "cell_type": "code",
   "execution_count": 11,
   "id": "03a5c049",
   "metadata": {},
   "outputs": [
    {
     "name": "stdout",
     "output_type": "stream",
     "text": [
      "enter a string Yathi\n",
      "entered string is Yathi\n",
      "revers string is  ihtaY \n"
     ]
    }
   ],
   "source": [
    "def reverse(string):\n",
    "    rev_str = \" \"\n",
    "    for i in string:\n",
    "        rev_str = i + rev_str\n",
    "    print(\"revers string is \",rev_str)\n",
    "\n",
    "string = str(input(\"enter a string \"))\n",
    "print(\"entered string is\",string)\n",
    "reverse(string)"
   ]
  },
  {
   "cell_type": "code",
   "execution_count": null,
   "id": "13ec3e4e",
   "metadata": {},
   "outputs": [],
   "source": []
  },
  {
   "cell_type": "code",
   "execution_count": 6,
   "id": "f5373010",
   "metadata": {},
   "outputs": [
    {
     "name": "stdout",
     "output_type": "stream",
     "text": [
      "enter a stringmemory\n",
      "entered string is  memory\n",
      "reverse string is  yromem\n"
     ]
    }
   ],
   "source": [
    "def reverse(string):\n",
    "    temp = \"\"\n",
    "    for i in string:\n",
    "        temp = i+temp\n",
    "    print(\"reverse string is \",temp)\n",
    "string = input(\"enter a string\")\n",
    "print(\"entered string is \" , string)\n",
    "reverse(string)"
   ]
  },
  {
   "cell_type": "code",
   "execution_count": 1,
   "id": "ba6ce100",
   "metadata": {},
   "outputs": [
    {
     "name": "stdout",
     "output_type": "stream",
     "text": [
      "()\n"
     ]
    }
   ],
   "source": [
    "a = ()\n",
    "print(a)"
   ]
  },
  {
   "cell_type": "code",
   "execution_count": 3,
   "id": "8b31752e",
   "metadata": {},
   "outputs": [
    {
     "name": "stdout",
     "output_type": "stream",
     "text": [
      "\n"
     ]
    }
   ],
   "source": [
    "a=str()\n",
    "print(a)"
   ]
  },
  {
   "cell_type": "markdown",
   "id": "6ccc7c22",
   "metadata": {},
   "source": [
    "remove duplication value from string\n"
   ]
  },
  {
   "cell_type": "code",
   "execution_count": 1,
   "id": "77d96e48",
   "metadata": {},
   "outputs": [
    {
     "name": "stdout",
     "output_type": "stream",
     "text": [
      "enter a stringhello \n",
      " helo\n"
     ]
    }
   ],
   "source": [
    "l = input(\"enter a string\")        \n",
    "new = \" \"\n",
    "for i in l:\n",
    "    if i not in new:\n",
    "        new = new+i        \n",
    "print(new)"
   ]
  },
  {
   "cell_type": "markdown",
   "id": "3b267897",
   "metadata": {},
   "source": [
    "## max number the list "
   ]
  },
  {
   "cell_type": "code",
   "execution_count": 8,
   "id": "ff8f1ddd",
   "metadata": {},
   "outputs": [
    {
     "name": "stdout",
     "output_type": "stream",
     "text": [
      "95\n"
     ]
    }
   ],
   "source": [
    "l = [3,4,6,7,8,95]\n",
    "max = l[0]\n",
    "for i in l:\n",
    "    if i>max:\n",
    "        max = i\n",
    "print(max)"
   ]
  },
  {
   "cell_type": "code",
   "execution_count": 6,
   "id": "915e5337",
   "metadata": {},
   "outputs": [
    {
     "name": "stdout",
     "output_type": "stream",
     "text": [
      "maximum 95\n"
     ]
    }
   ],
   "source": [
    "def find_max(list):\n",
    "    max = list[0]\n",
    " \n",
    "    \n",
    "    for i in list:\n",
    "        if i > max: \n",
    "            max = i\n",
    "    return max\n",
    "list = [1,2,3,4,5,6,7,8,95]\n",
    "max = find_max(list)\n",
    "print(\"maximum\",max)"
   ]
  },
  {
   "cell_type": "code",
   "execution_count": 6,
   "id": "bd9edea8",
   "metadata": {},
   "outputs": [
    {
     "name": "stdout",
     "output_type": "stream",
     "text": [
      "Second maximum: 67\n"
     ]
    }
   ],
   "source": [
    "def find_max(list):\n",
    "    n = list[0]\n",
    "    second_largest = float('-inf')\n",
    "    \n",
    "    for i in list:\n",
    "        if i > n:\n",
    "            second_largest = n\n",
    "            n = i\n",
    "           \n",
    "        \n",
    "    \n",
    "    return second_largest\n",
    "\n",
    "list = [1, 2, 3, 4, 5, 6, 67, 8, 95]\n",
    "second_max = find_max(list)\n",
    "print(\"Second maximum:\", second_max)\n"
   ]
  },
  {
   "cell_type": "code",
   "execution_count": 1,
   "id": "908871a8",
   "metadata": {},
   "outputs": [
    {
     "ename": "NameError",
     "evalue": "name 'second_largest' is not defined",
     "output_type": "error",
     "traceback": [
      "\u001b[1;31m---------------------------------------------------------------------------\u001b[0m",
      "\u001b[1;31mNameError\u001b[0m                                 Traceback (most recent call last)",
      "Cell \u001b[1;32mIn[1], line 14\u001b[0m\n\u001b[0;32m     12\u001b[0m lst \u001b[38;5;241m=\u001b[39m [\u001b[38;5;241m1\u001b[39m, \u001b[38;5;241m2\u001b[39m, \u001b[38;5;241m3\u001b[39m, \u001b[38;5;241m4\u001b[39m, \u001b[38;5;241m599\u001b[39m, \u001b[38;5;241m6\u001b[39m, \u001b[38;5;241m57\u001b[39m, \u001b[38;5;241m8\u001b[39m, \u001b[38;5;241m95\u001b[39m]\n\u001b[0;32m     13\u001b[0m second_larges \u001b[38;5;241m=\u001b[39m find_max(lst)\n\u001b[1;32m---> 14\u001b[0m \u001b[38;5;28mprint\u001b[39m(\u001b[38;5;124m\"\u001b[39m\u001b[38;5;124mSecond maximum:\u001b[39m\u001b[38;5;124m\"\u001b[39m, \u001b[43msecond_largest\u001b[49m)\n",
      "\u001b[1;31mNameError\u001b[0m: name 'second_largest' is not defined"
     ]
    }
   ],
   "source": [
    "def find_max(lst):\n",
    "   \n",
    "    max_value = lst[0]\n",
    "    second_largest = float('-inf')\n",
    "    for i in lst:\n",
    "        if i > max_value:\n",
    "            second_largest = max_value\n",
    "            max_value = i\n",
    "    return second_largest\n",
    "\n",
    "\n",
    "lst = [1, 2, 3, 4, 599, 6, 57, 8, 95]\n",
    "second_larges = find_max(lst)\n",
    "print(\"Second maximum:\", second_largest)\n"
   ]
  },
  {
   "cell_type": "code",
   "execution_count": 2,
   "id": "9e31b52b",
   "metadata": {},
   "outputs": [
    {
     "name": "stdout",
     "output_type": "stream",
     "text": [
      "Second maximum: 55\n"
     ]
    }
   ],
   "source": [
    "def find_max(lst):\n",
    "   \n",
    "    max_value = lst[0]\n",
    "    second_largest = float('-inf')\n",
    "    for i in lst:\n",
    "        if i > max_value:\n",
    "            second_largest = max_value\n",
    "            max_value = i\n",
    "    return second_largest\n",
    "\n",
    "\n",
    "lst = [1, 2, 3, 4, 55, 6, 7, 8, 95]\n",
    "second_largest = find_max(lst)\n",
    "print(\"Second maximum:\", second_largest)"
   ]
  },
  {
   "cell_type": "code",
   "execution_count": 2,
   "id": "f2add8eb",
   "metadata": {},
   "outputs": [
    {
     "name": "stdout",
     "output_type": "stream",
     "text": [
      "second largest 5\n"
     ]
    }
   ],
   "source": [
    "def second_largest(list):\n",
    "    firs = list[0]\n",
    "    second = float('-inf')\n",
    "    \n",
    "    for i in list:\n",
    "        if i > firs:\n",
    "            second = firs\n",
    "            firs = i\n",
    "            \n",
    "    return second\n",
    "\n",
    "list = [1,2,3,4,5,555,6,8,98]\n",
    "ans = second_largest(list) \n",
    "print(\"second largest\",ans)\n"
   ]
  },
  {
   "cell_type": "markdown",
   "id": "bff7697c",
   "metadata": {},
   "source": [
    "# armstrong number \n"
   ]
  },
  {
   "cell_type": "code",
   "execution_count": 1,
   "id": "ef8a26fa",
   "metadata": {},
   "outputs": [
    {
     "name": "stdout",
     "output_type": "stream",
     "text": [
      "armstrong\n"
     ]
    }
   ],
   "source": [
    "def count_number(num):\n",
    "    count = 0\n",
    "    while num != 0:\n",
    "        num = num//10\n",
    "        count += 1\n",
    "    return count\n",
    "\n",
    "def armstrong(num):\n",
    "    digit = count_number(num)\n",
    "    res = 0\n",
    "    while (num != 0):\n",
    "        rem = num%10\n",
    "        res = rem**digit + res\n",
    "        num = num//10\n",
    "    return res\n",
    "\n",
    "num = 1634\n",
    "res = armstrong(num)\n",
    "if res == num:\n",
    "    print(\"armstrong\")\n",
    "else:\n",
    "    print(\"it is not\")"
   ]
  },
  {
   "cell_type": "code",
   "execution_count": 3,
   "id": "13c029ec",
   "metadata": {},
   "outputs": [
    {
     "name": "stdout",
     "output_type": "stream",
     "text": [
      "1\n",
      "2\n",
      "3\n",
      "4\n",
      "5\n",
      "6\n",
      "7\n",
      "8\n",
      "9\n",
      "153\n",
      "370\n",
      "371\n",
      "407\n",
      "1634\n",
      "8208\n",
      "9474\n"
     ]
    }
   ],
   "source": [
    "def count_number(num):\n",
    "    count = 0\n",
    "    while num != 0:\n",
    "        num = num//10\n",
    "        count += 1\n",
    "    return count\n",
    "\n",
    "def armstrong(num):\n",
    "    digit = count_number(num)\n",
    "    res = 0\n",
    "    while (num != 0):\n",
    "        rem = num%10\n",
    "        res = rem**digit + res\n",
    "        num = num//10\n",
    "    return res\n",
    "\n",
    "for k in range(1,10001):\n",
    "    num = k\n",
    "    res = armstrong(num)\n",
    "    if res == num:\n",
    "        print(num)\n",
    "    "
   ]
  },
  {
   "cell_type": "code",
   "execution_count": 8,
   "id": "45321f66",
   "metadata": {},
   "outputs": [
    {
     "name": "stdout",
     "output_type": "stream",
     "text": [
      "emter a stringhello word\n",
      "word hello  \n"
     ]
    }
   ],
   "source": [
    "string = str(input(\"emter a string\"))\n",
    "revers = ' '\n",
    "words = string.split(\" \")\n",
    "\n",
    "for i in words:\n",
    "    revers = i+' '+revers\n",
    "print(revers)"
   ]
  },
  {
   "cell_type": "code",
   "execution_count": 17,
   "id": "3df9e7b5",
   "metadata": {},
   "outputs": [
    {
     "name": "stdout",
     "output_type": "stream",
     "text": [
      "emter a stringhello world hello\n",
      "  hello world\n"
     ]
    }
   ],
   "source": [
    "string = str(input(\"emter a string\"))\n",
    "revers = ' '\n",
    "word = string.split()\n",
    "\n",
    "\n",
    "for i in word:\n",
    "    if i not in revers:\n",
    "        revers = revers+' '+i\n",
    "        \n",
    "print(revers)"
   ]
  },
  {
   "cell_type": "code",
   "execution_count": null,
   "id": "9bdd1e63",
   "metadata": {},
   "outputs": [],
   "source": [
    "s "
   ]
  }
 ],
 "metadata": {
  "kernelspec": {
   "display_name": "Python 3 (ipykernel)",
   "language": "python",
   "name": "python3"
  },
  "language_info": {
   "codemirror_mode": {
    "name": "ipython",
    "version": 3
   },
   "file_extension": ".py",
   "mimetype": "text/x-python",
   "name": "python",
   "nbconvert_exporter": "python",
   "pygments_lexer": "ipython3",
   "version": "3.9.19"
  }
 },
 "nbformat": 4,
 "nbformat_minor": 5
}
