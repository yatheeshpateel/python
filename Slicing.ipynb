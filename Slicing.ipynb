{
 "cells": [
  {
   "cell_type": "markdown",
   "id": "1eed1a39",
   "metadata": {},
   "source": [
    "# string slicing"
   ]
  },
  {
   "cell_type": "code",
   "execution_count": 1,
   "id": "aec1ba0a",
   "metadata": {},
   "outputs": [
    {
     "name": "stdout",
     "output_type": "stream",
     "text": [
      "RajaRamMohanRoy\n"
     ]
    }
   ],
   "source": [
    "str = \"RajaRamMohanRoy\"\n",
    "print(str)"
   ]
  },
  {
   "cell_type": "code",
   "execution_count": 2,
   "id": "96f3d563",
   "metadata": {},
   "outputs": [
    {
     "name": "stdout",
     "output_type": "stream",
     "text": [
      "R\n"
     ]
    }
   ],
   "source": [
    "print(str[0])"
   ]
  },
  {
   "cell_type": "code",
   "execution_count": 3,
   "id": "0ab3d3d7",
   "metadata": {},
   "outputs": [
    {
     "name": "stdout",
     "output_type": "stream",
     "text": [
      "y\n"
     ]
    }
   ],
   "source": [
    "print(str[-1])"
   ]
  },
  {
   "cell_type": "code",
   "execution_count": 4,
   "id": "9478ee19",
   "metadata": {},
   "outputs": [
    {
     "name": "stdout",
     "output_type": "stream",
     "text": [
      "R\n"
     ]
    }
   ],
   "source": [
    "print(str[-15])"
   ]
  },
  {
   "cell_type": "code",
   "execution_count": 5,
   "id": "2d3427d8",
   "metadata": {},
   "outputs": [
    {
     "name": "stdout",
     "output_type": "stream",
     "text": [
      "Raja\n"
     ]
    }
   ],
   "source": [
    "print(str[0:4])"
   ]
  },
  {
   "cell_type": "code",
   "execution_count": 6,
   "id": "e57625ad",
   "metadata": {},
   "outputs": [
    {
     "name": "stdout",
     "output_type": "stream",
     "text": [
      "Ram\n"
     ]
    }
   ],
   "source": [
    "print(str[4:7])"
   ]
  },
  {
   "cell_type": "code",
   "execution_count": 7,
   "id": "40d8bba4",
   "metadata": {},
   "outputs": [
    {
     "name": "stdout",
     "output_type": "stream",
     "text": [
      "Mohan\n"
     ]
    }
   ],
   "source": [
    "print(str[7:12])"
   ]
  },
  {
   "cell_type": "code",
   "execution_count": 8,
   "id": "9e8bf526",
   "metadata": {},
   "outputs": [
    {
     "name": "stdout",
     "output_type": "stream",
     "text": [
      "Roy\n"
     ]
    }
   ],
   "source": [
    "print(str[12:])"
   ]
  },
  {
   "cell_type": "code",
   "execution_count": 9,
   "id": "6ffc5062",
   "metadata": {},
   "outputs": [
    {
     "name": "stdout",
     "output_type": "stream",
     "text": [
      "RajaRamM\n"
     ]
    }
   ],
   "source": [
    "print(str[ :8])"
   ]
  },
  {
   "cell_type": "code",
   "execution_count": 10,
   "id": "0e7cc06f",
   "metadata": {},
   "outputs": [
    {
     "name": "stdout",
     "output_type": "stream",
     "text": [
      "RajaRamMohanRoy\n"
     ]
    }
   ],
   "source": [
    "print(str[ : ])"
   ]
  },
  {
   "cell_type": "code",
   "execution_count": 11,
   "id": "318480c1",
   "metadata": {},
   "outputs": [
    {
     "name": "stdout",
     "output_type": "stream",
     "text": [
      "yoRnahoMmaRajaR\n"
     ]
    }
   ],
   "source": [
    "print(str[ : :-1])"
   ]
  },
  {
   "cell_type": "code",
   "execution_count": 12,
   "id": "c2a61879",
   "metadata": {},
   "outputs": [
    {
     "name": "stdout",
     "output_type": "stream",
     "text": [
      "\n"
     ]
    }
   ],
   "source": [
    "print(str[9:2])"
   ]
  },
  {
   "cell_type": "code",
   "execution_count": 13,
   "id": "507e9627",
   "metadata": {},
   "outputs": [
    {
     "name": "stdout",
     "output_type": "stream",
     "text": [
      "\n"
     ]
    }
   ],
   "source": [
    "print(str[-4:-9])"
   ]
  },
  {
   "cell_type": "code",
   "execution_count": 14,
   "id": "90989eed",
   "metadata": {},
   "outputs": [
    {
     "name": "stdout",
     "output_type": "stream",
     "text": [
      "nahoM\n"
     ]
    }
   ],
   "source": [
    "print(str[-4:-9:-1])"
   ]
  },
  {
   "cell_type": "code",
   "execution_count": 15,
   "id": "ad072e11",
   "metadata": {},
   "outputs": [
    {
     "name": "stdout",
     "output_type": "stream",
     "text": [
      "ahoMmaRajaR\n"
     ]
    }
   ],
   "source": [
    "print(str[-5: :-1])"
   ]
  },
  {
   "cell_type": "code",
   "execution_count": 16,
   "id": "f6ebd06c",
   "metadata": {},
   "outputs": [
    {
     "name": "stdout",
     "output_type": "stream",
     "text": [
      "RamhR\n"
     ]
    }
   ],
   "source": [
    "print(str[ : :3])"
   ]
  },
  {
   "cell_type": "code",
   "execution_count": 17,
   "id": "9b6f9a3d",
   "metadata": {},
   "outputs": [
    {
     "name": "stdout",
     "output_type": "stream",
     "text": [
      "RnahoM\n"
     ]
    }
   ],
   "source": [
    "print(str[12:6:-1])"
   ]
  },
  {
   "cell_type": "code",
   "execution_count": 18,
   "id": "4af8e465",
   "metadata": {},
   "outputs": [
    {
     "name": "stdout",
     "output_type": "stream",
     "text": [
      "maRajaR\n"
     ]
    }
   ],
   "source": [
    "print(str[6: :-1])"
   ]
  },
  {
   "cell_type": "code",
   "execution_count": 19,
   "id": "68a73b95",
   "metadata": {},
   "outputs": [
    {
     "name": "stdout",
     "output_type": "stream",
     "text": [
      "Raj\n"
     ]
    }
   ],
   "source": [
    "print(str[:-12])"
   ]
  },
  {
   "cell_type": "code",
   "execution_count": 20,
   "id": "1d710b4a",
   "metadata": {},
   "outputs": [
    {
     "name": "stdout",
     "output_type": "stream",
     "text": [
      "yoRnah\n"
     ]
    }
   ],
   "source": [
    "print(str[ :8:-1])"
   ]
  },
  {
   "cell_type": "code",
   "execution_count": 21,
   "id": "8a026a7c",
   "metadata": {},
   "outputs": [
    {
     "ename": "ValueError",
     "evalue": "slice step cannot be zero",
     "output_type": "error",
     "traceback": [
      "\u001b[1;31m---------------------------------------------------------------------------\u001b[0m",
      "\u001b[1;31mValueError\u001b[0m                                Traceback (most recent call last)",
      "Cell \u001b[1;32mIn[21], line 1\u001b[0m\n\u001b[1;32m----> 1\u001b[0m \u001b[38;5;28mprint\u001b[39m(\u001b[38;5;28;43mstr\u001b[39;49m\u001b[43m[\u001b[49m\u001b[38;5;241;43m7\u001b[39;49m\u001b[43m:\u001b[49m\u001b[38;5;241;43m13\u001b[39;49m\u001b[43m:\u001b[49m\u001b[38;5;241;43m0\u001b[39;49m\u001b[43m]\u001b[49m)\n",
      "\u001b[1;31mValueError\u001b[0m: slice step cannot be zero"
     ]
    }
   ],
   "source": [
    "print(str[7:13:0])"
   ]
  },
  {
   "cell_type": "code",
   "execution_count": 22,
   "id": "949c4698",
   "metadata": {},
   "outputs": [
    {
     "name": "stdout",
     "output_type": "stream",
     "text": [
      "ramasita\n"
     ]
    }
   ],
   "source": [
    "str1 = \"rama\"\n",
    "str2 = \"sita\"\n",
    "str3 = str1 + str2\n",
    "print(str3)"
   ]
  },
  {
   "cell_type": "code",
   "execution_count": 23,
   "id": "f06905ba",
   "metadata": {},
   "outputs": [
    {
     "ename": "TypeError",
     "evalue": "unsupported operand type(s) for -: 'str' and 'str'",
     "output_type": "error",
     "traceback": [
      "\u001b[1;31m---------------------------------------------------------------------------\u001b[0m",
      "\u001b[1;31mTypeError\u001b[0m                                 Traceback (most recent call last)",
      "Cell \u001b[1;32mIn[23], line 1\u001b[0m\n\u001b[1;32m----> 1\u001b[0m str4 \u001b[38;5;241m=\u001b[39m \u001b[43mstr1\u001b[49m\u001b[43m \u001b[49m\u001b[38;5;241;43m-\u001b[39;49m\u001b[43m \u001b[49m\u001b[43mstr2\u001b[49m\n\u001b[0;32m      2\u001b[0m \u001b[38;5;28mprint\u001b[39m(str4)\n",
      "\u001b[1;31mTypeError\u001b[0m: unsupported operand type(s) for -: 'str' and 'str'"
     ]
    }
   ],
   "source": [
    "str4 = str1 - str2\n",
    "print(str4)"
   ]
  },
  {
   "cell_type": "code",
   "execution_count": 24,
   "id": "c726399f",
   "metadata": {},
   "outputs": [
    {
     "ename": "TypeError",
     "evalue": "can't multiply sequence by non-int of type 'str'",
     "output_type": "error",
     "traceback": [
      "\u001b[1;31m---------------------------------------------------------------------------\u001b[0m",
      "\u001b[1;31mTypeError\u001b[0m                                 Traceback (most recent call last)",
      "Cell \u001b[1;32mIn[24], line 1\u001b[0m\n\u001b[1;32m----> 1\u001b[0m str5 \u001b[38;5;241m=\u001b[39m \u001b[43mstr1\u001b[49m\u001b[43m \u001b[49m\u001b[38;5;241;43m*\u001b[39;49m\u001b[43m \u001b[49m\u001b[43mstr2\u001b[49m\n\u001b[0;32m      2\u001b[0m \u001b[38;5;28mprint\u001b[39m(str5)\n",
      "\u001b[1;31mTypeError\u001b[0m: can't multiply sequence by non-int of type 'str'"
     ]
    }
   ],
   "source": [
    "str5 = str1 * str2\n",
    "print(str5)"
   ]
  },
  {
   "cell_type": "code",
   "execution_count": 26,
   "id": "84c66823",
   "metadata": {},
   "outputs": [
    {
     "name": "stdout",
     "output_type": "stream",
     "text": [
      "ramaramarama\n"
     ]
    }
   ],
   "source": [
    "str6 = str1 * 3\n",
    "print(str6)"
   ]
  },
  {
   "cell_type": "markdown",
   "id": "614a9734",
   "metadata": {},
   "source": [
    "str7 = str1/str2\n",
    "print(str7)"
   ]
  },
  {
   "cell_type": "code",
   "execution_count": 27,
   "id": "b4f7d794",
   "metadata": {},
   "outputs": [
    {
     "ename": "TypeError",
     "evalue": "unsupported operand type(s) for /: 'str' and 'str'",
     "output_type": "error",
     "traceback": [
      "\u001b[1;31m---------------------------------------------------------------------------\u001b[0m",
      "\u001b[1;31mTypeError\u001b[0m                                 Traceback (most recent call last)",
      "Cell \u001b[1;32mIn[27], line 1\u001b[0m\n\u001b[1;32m----> 1\u001b[0m str7 \u001b[38;5;241m=\u001b[39m \u001b[43mstr1\u001b[49m\u001b[38;5;241;43m/\u001b[39;49m\u001b[43mstr2\u001b[49m \n\u001b[0;32m      2\u001b[0m \u001b[38;5;28mprint\u001b[39m(str7)\n",
      "\u001b[1;31mTypeError\u001b[0m: unsupported operand type(s) for /: 'str' and 'str'"
     ]
    }
   ],
   "source": [
    "str7 = str1/str2 \n",
    "print(str7)"
   ]
  },
  {
   "cell_type": "code",
   "execution_count": 3,
   "id": "8c03fccd",
   "metadata": {},
   "outputs": [
    {
     "name": "stdout",
     "output_type": "stream",
     "text": [
      "enter a character\n",
      "a\n",
      "97\n"
     ]
    }
   ],
   "source": [
    "print('enter a character')\n",
    "data = input()\n",
    "asciiv = ord(data)\n",
    "print(asciiv)"
   ]
  },
  {
   "cell_type": "code",
   "execution_count": 5,
   "id": "4426428f",
   "metadata": {},
   "outputs": [
    {
     "name": "stdout",
     "output_type": "stream",
     "text": [
      "enter a str1\n",
      "rama\n",
      "enter a str2\n",
      "ramu\n",
      "str2 is greater\n"
     ]
    }
   ],
   "source": [
    "print('enter a str1')\n",
    "str1 = input()\n",
    "print('enter a str2')\n",
    "str2 = input()\n",
    "if(str1>str2):\n",
    "    print('str1 is greater')\n",
    "elif(str2>str1):\n",
    "    print('str2 is greater')\n",
    "else:\n",
    "    print(\"str1 = str2\")\n",
    "    "
   ]
  },
  {
   "cell_type": "code",
   "execution_count": 4,
   "id": "b5d06922",
   "metadata": {},
   "outputs": [
    {
     "name": "stdout",
     "output_type": "stream",
     "text": [
      "enter a characterYatheesh\n",
      " yatheesh\n"
     ]
    }
   ],
   "source": [
    "r1 = str(input(\"enter a character\"))\n",
    "i = 0\n",
    "newstr = \" \"\n",
    "while(i<=len(r1)-1):\n",
    "    data = r1[i]\n",
    "    asciiv = ord(data)\n",
    "    if(asciiv>=65 and asciiv<=90):\n",
    "        newasciiv = asciiv+32\n",
    "        convchar = chr(newasciiv)\n",
    "        newstr = newstr+convchar\n",
    "    else:\n",
    "        newstr = newstr+data\n",
    "    i = i+1\n",
    "print(newstr)\n"
   ]
  },
  {
   "cell_type": "code",
   "execution_count": 6,
   "id": "50d5548f",
   "metadata": {},
   "outputs": [
    {
     "name": "stdout",
     "output_type": "stream",
     "text": [
      "enter a character yathi\n",
      " YATHI\n"
     ]
    }
   ],
   "source": [
    "r1 = str(input(\"enter a character \"))\n",
    "i = 0\n",
    "newstr = \" \"\n",
    "while(i<=len(r1)-1):\n",
    "    data = r1[i]\n",
    "    asciiv = ord(data)\n",
    "    if(asciiv>=97 and asciiv<=122):\n",
    "        newasciiv = asciiv-32\n",
    "        convchar = chr(newasciiv)\n",
    "        newstr = newstr+convchar\n",
    "    else:\n",
    "        newstr = newstr+data\n",
    "    i = i+1\n",
    "print(newstr)"
   ]
  },
  {
   "cell_type": "code",
   "execution_count": 3,
   "id": "46f89140",
   "metadata": {},
   "outputs": [
    {
     "name": "stdout",
     "output_type": "stream",
     "text": [
      "enter a character RaMa\n",
      " rAmA\n"
     ]
    }
   ],
   "source": [
    "r1 = str(input(\"enter a character \"))\n",
    "i = 0\n",
    "newstr = \" \"\n",
    "while(i<=len(r1)-1):\n",
    "    data = r1[i]\n",
    "    asciiv = ord(data)\n",
    "    if(asciiv>=65 and asciiv<=90):\n",
    "        newasciiv = asciiv+32\n",
    "        convchar = chr(newasciiv)\n",
    "        newstr = newstr+convchar\n",
    "    else:\n",
    "        newasciiv = asciiv-32\n",
    "        convchar = chr(newasciiv)\n",
    "        newstr = newstr+convchar\n",
    "    i = i+1\n",
    "print(newstr)\n",
    "        "
   ]
  },
  {
   "cell_type": "code",
   "execution_count": 5,
   "id": "63c60109",
   "metadata": {},
   "outputs": [
    {
     "name": "stdout",
     "output_type": "stream",
     "text": [
      "rama is drinking\n"
     ]
    }
   ],
   "source": [
    "str = \"rama is drinking\"\n",
    "print(str)"
   ]
  },
  {
   "cell_type": "code",
   "execution_count": 7,
   "id": "8502880c",
   "metadata": {},
   "outputs": [
    {
     "name": "stdout",
     "output_type": "stream",
     "text": [
      "rama was drinking\n"
     ]
    }
   ],
   "source": [
    "str1= str.replace(\"is\",\"was\")\n",
    "\n",
    "print(str1)"
   ]
  },
  {
   "cell_type": "code",
   "execution_count": 15,
   "id": "896d41f1",
   "metadata": {},
   "outputs": [
    {
     "name": "stdout",
     "output_type": "stream",
     "text": [
      "if you think you cam or you can't , you are right\n",
      "4\n",
      "True\n",
      "3\n",
      "36\n",
      "3\n",
      "36\n",
      "-1\n"
     ]
    },
    {
     "ename": "ValueError",
     "evalue": "substring not found",
     "output_type": "error",
     "traceback": [
      "\u001b[1;31m---------------------------------------------------------------------------\u001b[0m",
      "\u001b[1;31mValueError\u001b[0m                                Traceback (most recent call last)",
      "Cell \u001b[1;32mIn[15], line 11\u001b[0m\n\u001b[0;32m      9\u001b[0m \u001b[38;5;28mprint\u001b[39m(\u001b[38;5;28mstr\u001b[39m\u001b[38;5;241m.\u001b[39mrindex(\u001b[38;5;124m\"\u001b[39m\u001b[38;5;124myou\u001b[39m\u001b[38;5;124m\"\u001b[39m))\n\u001b[0;32m     10\u001b[0m \u001b[38;5;28mprint\u001b[39m(\u001b[38;5;28mstr\u001b[39m\u001b[38;5;241m.\u001b[39mfind(\u001b[38;5;124m\"\u001b[39m\u001b[38;5;124mrama\u001b[39m\u001b[38;5;124m\"\u001b[39m))\n\u001b[1;32m---> 11\u001b[0m \u001b[38;5;28mprint\u001b[39m(\u001b[38;5;28;43mstr\u001b[39;49m\u001b[38;5;241;43m.\u001b[39;49m\u001b[43mindex\u001b[49m\u001b[43m(\u001b[49m\u001b[38;5;124;43m\"\u001b[39;49m\u001b[38;5;124;43mrama\u001b[39;49m\u001b[38;5;124;43m\"\u001b[39;49m\u001b[43m)\u001b[49m)\n",
      "\u001b[1;31mValueError\u001b[0m: substring not found"
     ]
    }
   ],
   "source": [
    "str = \"if you think you cam or you can't , you are right\"\n",
    "print(str)\n",
    "print(str.count(\"you\"))\n",
    "str1 = \"you\"\n",
    "print(str1 in str)\n",
    "print(str.find(\"you\"))\n",
    "print(str.rfind(\"you\"))\n",
    "print(str.index(\"you\"))\n",
    "print(str.rindex(\"you\"))\n",
    "print(str.find(\"rama\"))\n",
    "print(str.index(\"rama\"))\n",
    "    "
   ]
  },
  {
   "cell_type": "code",
   "execution_count": 16,
   "id": "96883189",
   "metadata": {},
   "outputs": [
    {
     "name": "stdout",
     "output_type": "stream",
     "text": [
      "   rama is sleeping   \n",
      "rama is sleeping   \n",
      "   rama is sleeping\n",
      "rama is sleeping\n"
     ]
    }
   ],
   "source": [
    "str = \"   rama is sleeping   \"\n",
    "print(str)\n",
    "str1 = str.lstrip()\n",
    "str2 = str.rstrip()\n",
    "str3 = str.strip()\n",
    "print(str1)\n",
    "print(str2)\n",
    "print(str3)"
   ]
  },
  {
   "cell_type": "code",
   "execution_count": 41,
   "id": "a6b1260c",
   "metadata": {},
   "outputs": [
    {
     "name": "stdout",
     "output_type": "stream",
     "text": [
      "R a M a\n",
      "RaMa\n"
     ]
    }
   ],
   "source": [
    "str = \"R a M a\"\n",
    "print(str)\n",
    "i = 0\n",
    "newstr = ''\n",
    "while(i<=len(str)-1):\n",
    "    extract = str[i]\n",
    "    if extract is space:\n",
    "        i += 1\n",
    "        \n",
    "    else:  \n",
    "        newstr = newstr+extract\n",
    "        i += 1\n",
    "        \n",
    "print(newstr)"
   ]
  },
  {
   "cell_type": "code",
   "execution_count": 13,
   "id": "8b1f2fb8",
   "metadata": {},
   "outputs": [
    {
     "name": "stdout",
     "output_type": "stream",
     "text": [
      "A man, a plan, a canal: Panama\n",
      "amanaplanacanalpanama\n",
      "amanaplanacanalpanama\n",
      "yes\n"
     ]
    }
   ],
   "source": [
    "str = \"A man, a plan, a canal: Panama\"\n",
    "print(str)\n",
    "i = 0\n",
    "newstr = ''\n",
    "while(i<=len(str)-1):\n",
    "    extract = str[i]\n",
    "    if extract == ' 'or extract == ',' or extract == ':':\n",
    "        i += 1\n",
    "        \n",
    "    \n",
    "        \n",
    "    else:  \n",
    "        newstr = newstr+extract\n",
    "        i += 1\n",
    "        \n",
    "\n",
    "        \n",
    "new = newstr.lower()\n",
    "print(new)\n",
    "\n",
    "abhi = \"\"\n",
    "for k in new:\n",
    "    abhi = k+abhi\n",
    "print(abhi)\n",
    "\n",
    "if abhi == new:\n",
    "    print(\"yes\")\n",
    "else:\n",
    "    print(\"no\")\n",
    "\n"
   ]
  },
  {
   "cell_type": "code",
   "execution_count": 2,
   "id": "4132cf51",
   "metadata": {},
   "outputs": [
    {
     "name": "stdout",
     "output_type": "stream",
     "text": [
      "30\n",
      "-10\n",
      "200\n",
      "0.5\n"
     ]
    }
   ],
   "source": [
    "class Demo :\n",
    "    def add(self, x,y):\n",
    "        z = x + y\n",
    "        return z\n",
    "    \n",
    "    def sub(self ,x,y):\n",
    "        z = x - y\n",
    "        return z\n",
    "    \n",
    "    def mul(self, x,y):\n",
    "        z = x * y\n",
    "        return z\n",
    "    \n",
    "    def div(self, x,y):\n",
    "        z = x / y\n",
    "        return z\n",
    "    \n",
    "d = Demo()\n",
    "a =10\n",
    "b = 20\n",
    "r1 = d.add(a,b)\n",
    "r2 = d.sub(a,b)\n",
    "r3 = d.mul(a,b)\n",
    "r4 = d.div(a,b)\n",
    "print(r1)\n",
    "print(r2)\n",
    "print(r3)\n",
    "print(r4)"
   ]
  },
  {
   "cell_type": "code",
   "execution_count": 4,
   "id": "2c3c6450",
   "metadata": {},
   "outputs": [
    {
     "name": "stdout",
     "output_type": "stream",
     "text": [
      "30\n",
      "-10\n",
      "200\n",
      "0.5\n"
     ]
    }
   ],
   "source": [
    "class Demo:\n",
    "    def arith(self,x,y):\n",
    "        z1 = x+y\n",
    "        z2 = x-y\n",
    "        z3 = x*y\n",
    "        z4 = x/y\n",
    "        return z1,z2,z3,z4\n",
    "    \n",
    "d = Demo()\n",
    "a =10\n",
    "b = 20\n",
    "r1,r2,r3,r4 = d.arith(a,b)\n",
    "print(r1)\n",
    "print(r2)\n",
    "print(r3)\n",
    "print(r4)"
   ]
  },
  {
   "cell_type": "code",
   "execution_count": 6,
   "id": "a7b73f0c",
   "metadata": {},
   "outputs": [
    {
     "name": "stdout",
     "output_type": "stream",
     "text": [
      "20\n",
      "30\n",
      "300\n",
      "10\n"
     ]
    }
   ],
   "source": [
    "class Demo:\n",
    "    x =10\n",
    "    \n",
    "    def __init__ (self):\n",
    "        self.y = 20\n",
    "        self.z = 30\n",
    "        \n",
    "    def disp(self):\n",
    "        a = 100\n",
    "        b = 200\n",
    "        c = a+b\n",
    "        print(c)\n",
    "        \n",
    "d = Demo()\n",
    "print(d.y)\n",
    "print(d.z)\n",
    "d.disp()\n",
    "print(Demo.x)"
   ]
  },
  {
   "cell_type": "markdown",
   "id": "8c80d23a",
   "metadata": {},
   "source": [
    "# Function"
   ]
  },
  {
   "cell_type": "code",
   "execution_count": 1,
   "id": "13223a96",
   "metadata": {},
   "outputs": [
    {
     "name": "stdout",
     "output_type": "stream",
     "text": [
      "30\n"
     ]
    }
   ],
   "source": [
    "def fun():\n",
    "    a = 10\n",
    "    b =20\n",
    "    c =a + b\n",
    "    print(c)\n",
    "fun()\n",
    "    "
   ]
  },
  {
   "cell_type": "code",
   "execution_count": 2,
   "id": "fe2c7381",
   "metadata": {},
   "outputs": [
    {
     "name": "stdout",
     "output_type": "stream",
     "text": [
      "30\n"
     ]
    }
   ],
   "source": [
    "def fun():\n",
    "    a = 10\n",
    "    b = 20\n",
    "    c = a+b\n",
    "    return c\n",
    "r1 = fun()\n",
    "print(r1)"
   ]
  },
  {
   "cell_type": "code",
   "execution_count": 3,
   "id": "7eeec643",
   "metadata": {},
   "outputs": [
    {
     "name": "stdout",
     "output_type": "stream",
     "text": [
      "30\n"
     ]
    }
   ],
   "source": [
    "def fun(a,b):\n",
    "    c = a+b\n",
    "    print(c)\n",
    "x = 10\n",
    "y = 20\n",
    "fun(x,y)"
   ]
  },
  {
   "cell_type": "code",
   "execution_count": 4,
   "id": "ee9e5f56",
   "metadata": {},
   "outputs": [
    {
     "name": "stdout",
     "output_type": "stream",
     "text": [
      "30\n"
     ]
    }
   ],
   "source": [
    "def fun(a,b):\n",
    "    c = a+b\n",
    "    return c\n",
    "x = 10\n",
    "y = 20\n",
    "r1 = fun(x,y)\n",
    "print(r1)"
   ]
  },
  {
   "cell_type": "code",
   "execution_count": 6,
   "id": "21ed8fec",
   "metadata": {},
   "outputs": [
    {
     "name": "stdout",
     "output_type": "stream",
     "text": [
      "10\n",
      "20\n",
      "30\n",
      "10\n",
      "20\n",
      "33\n",
      "10\n",
      "20\n",
      "30\n"
     ]
    }
   ],
   "source": [
    "# default and keyword argument\n",
    "\n",
    "def fun (x = 11,y =22,z =33):\n",
    "    print(x)\n",
    "    print(y)\n",
    "    print(z)\n",
    "a = 10\n",
    "b = 20\n",
    "c = 30\n",
    "fun(a,b,c)\n"
   ]
  },
  {
   "cell_type": "code",
   "execution_count": 7,
   "id": "dd9fcdd4",
   "metadata": {},
   "outputs": [
    {
     "name": "stdout",
     "output_type": "stream",
     "text": [
      "10\n",
      "20\n",
      "33\n"
     ]
    }
   ],
   "source": [
    "def fun (x = 11,y =22,z =33):\n",
    "    print(x)\n",
    "    print(y)\n",
    "    print(z)\n",
    "a = 10\n",
    "b = 20\n",
    "c = 30\n",
    "fun(a,b)"
   ]
  },
  {
   "cell_type": "code",
   "execution_count": 8,
   "id": "58b440e4",
   "metadata": {},
   "outputs": [
    {
     "name": "stdout",
     "output_type": "stream",
     "text": [
      "20\n",
      "22\n",
      "33\n"
     ]
    }
   ],
   "source": [
    "def fun (x = 11,y =22,z =33):\n",
    "    print(x)\n",
    "    print(y)\n",
    "    print(z)\n",
    "a = 10\n",
    "b = 20\n",
    "c = 30\n",
    "fun(b)"
   ]
  },
  {
   "cell_type": "code",
   "execution_count": 9,
   "id": "2b00f72a",
   "metadata": {},
   "outputs": [
    {
     "name": "stdout",
     "output_type": "stream",
     "text": [
      "11\n",
      "22\n",
      "33\n"
     ]
    }
   ],
   "source": [
    "def fun (x = 11,y =22,z =33):\n",
    "    print(x)\n",
    "    print(y)\n",
    "    print(z)\n",
    "a = 10\n",
    "b = 20\n",
    "c = 30\n",
    "fun()"
   ]
  },
  {
   "cell_type": "code",
   "execution_count": 10,
   "id": "d352c2d3",
   "metadata": {},
   "outputs": [
    {
     "name": "stdout",
     "output_type": "stream",
     "text": [
      "11\n",
      "22\n",
      "30\n"
     ]
    }
   ],
   "source": [
    "def fun (x = 11,y =22,z =33):\n",
    "    print(x)\n",
    "    print(y)\n",
    "    print(z)\n",
    "a = 10\n",
    "b = 20\n",
    "c = 30\n",
    "fun(z = c)"
   ]
  },
  {
   "cell_type": "code",
   "execution_count": 11,
   "id": "d6e19a1c",
   "metadata": {},
   "outputs": [
    {
     "name": "stdout",
     "output_type": "stream",
     "text": [
      "11\n",
      "20\n",
      "33\n"
     ]
    }
   ],
   "source": [
    "def fun (x = 11,y =22,z =33):\n",
    "    print(x)\n",
    "    print(y)\n",
    "    print(z)\n",
    "a = 10\n",
    "b = 20\n",
    "c = 30\n",
    "fun(y =b)"
   ]
  },
  {
   "cell_type": "code",
   "execution_count": 12,
   "id": "87d2cfad",
   "metadata": {},
   "outputs": [
    {
     "name": "stdout",
     "output_type": "stream",
     "text": [
      "11\n",
      "22\n",
      "10\n"
     ]
    }
   ],
   "source": [
    "def fun (x = 11,y =22,z =33):\n",
    "    print(x)\n",
    "    print(y)\n",
    "    print(z)\n",
    "a = 10\n",
    "b = 20\n",
    "c = 30\n",
    "fun(z = a)"
   ]
  },
  {
   "cell_type": "code",
   "execution_count": 13,
   "id": "0e30cb59",
   "metadata": {},
   "outputs": [
    {
     "name": "stdout",
     "output_type": "stream",
     "text": [
      "10\n",
      "10\n",
      "20\n",
      "10\n",
      "30\n",
      "10\n"
     ]
    }
   ],
   "source": [
    "a = 10\n",
    "def fun():\n",
    "    print(a)\n",
    "    b = 20\n",
    "    print(b)\n",
    "def fun1():\n",
    "    print(a)\n",
    "    c = 30\n",
    "    print(c)\n",
    "print(a)\n",
    "fun()\n",
    "fun1()\n",
    "print(a)"
   ]
  },
  {
   "cell_type": "code",
   "execution_count": 14,
   "id": "e23b9725",
   "metadata": {},
   "outputs": [
    {
     "name": "stdout",
     "output_type": "stream",
     "text": [
      "10\n",
      "100\n",
      "20\n",
      "1000\n",
      "30\n",
      "10\n"
     ]
    }
   ],
   "source": [
    "a = 10\n",
    "def fun():\n",
    "    a = 100\n",
    "    b = 20\n",
    "    print(a)\n",
    "    print(b)\n",
    "def fun1():\n",
    "    a = 1000\n",
    "    c = 30\n",
    "    print(a)\n",
    "    print(c)\n",
    "print(a)\n",
    "fun()\n",
    "fun1()\n",
    "print(a)"
   ]
  },
  {
   "cell_type": "code",
   "execution_count": 17,
   "id": "3e6b136c",
   "metadata": {},
   "outputs": [
    {
     "name": "stdout",
     "output_type": "stream",
     "text": [
      "100\n",
      "20\n",
      "1000\n",
      "30\n",
      "1000\n"
     ]
    }
   ],
   "source": [
    "a = 10\n",
    "def fun():\n",
    "    global a\n",
    "    a = 100\n",
    "    b = 20\n",
    "    print(a)\n",
    "    print(b)\n",
    "def fun1():\n",
    "    global a\n",
    "    a = 1000\n",
    "    c = 30\n",
    "    print(a)\n",
    "    print(c)\n",
    "print(a)\n",
    "fun()\n",
    "fun1()\n",
    "print(a)"
   ]
  },
  {
   "cell_type": "code",
   "execution_count": 18,
   "id": "c1557dcf",
   "metadata": {},
   "outputs": [
    {
     "name": "stdout",
     "output_type": "stream",
     "text": [
      "100\n",
      "20\n",
      "1000\n",
      "30\n",
      "1000\n"
     ]
    }
   ],
   "source": [
    "\n",
    "def fun():\n",
    "    global a\n",
    "    a = 100\n",
    "    b = 20\n",
    "    print(a)\n",
    "    print(b)\n",
    "def fun1():\n",
    "    global a\n",
    "    a = 1000\n",
    "    c = 30\n",
    "    print(a)\n",
    "    print(c)\n",
    "fun()\n",
    "fun1()\n",
    "print(a)"
   ]
  },
  {
   "cell_type": "code",
   "execution_count": 5,
   "id": "9b89fe44",
   "metadata": {},
   "outputs": [
    {
     "name": "stdout",
     "output_type": "stream",
     "text": [
      "<function fun1 at 0x0000014AFB6FA160>\n",
      "<function fun2 at 0x0000014AFD2E34C0>\n",
      "function invoking\n",
      "200\n",
      "function invoking\n",
      "200\n"
     ]
    }
   ],
   "source": [
    "def fun1():\n",
    "    print(\"function invoking\")\n",
    "    \n",
    "def fun2(x,y):\n",
    "    z = x * y\n",
    "    print(z)\n",
    "    \n",
    "print(fun1)\n",
    "print(fun2)\n",
    "fun1()\n",
    "\n",
    "a = 10\n",
    "b =20\n",
    "fun2(a,b)\n",
    "ptr1 = fun1\n",
    "ptr2 = fun2\n",
    "ptr1()\n",
    "ptr2(10,20)"
   ]
  },
  {
   "cell_type": "code",
   "execution_count": 13,
   "id": "7311bb9e",
   "metadata": {},
   "outputs": [
    {
     "name": "stdout",
     "output_type": "stream",
     "text": [
      "<function fun1 at 0x0000014AFB6CAF70>\n",
      "<function fun2 at 0x0000014AFD394040>\n",
      "function invoking\n",
      "200\n",
      "function invoking\n",
      "200\n",
      "function invoking\n",
      "1200\n"
     ]
    }
   ],
   "source": [
    "def fun1():\n",
    "    print(\"function invoking\")\n",
    "    \n",
    "def fun2(x,y):\n",
    "    z = x * y\n",
    "    print(z)\n",
    "    \n",
    "def display(ptr1,ptr2):\n",
    "    ptr1()\n",
    "    ptr2(30,40)\n",
    "    \n",
    "print(fun1)\n",
    "print(fun2)\n",
    "fun1()\n",
    "\n",
    "a = 10\n",
    "b =20\n",
    "fun2(a,b)\n",
    "ptr1 = fun1\n",
    "ptr2 = fun2\n",
    "ptr1()\n",
    "ptr2(10,20)\n",
    "display(ptr3,ptr4)"
   ]
  },
  {
   "cell_type": "markdown",
   "id": "ecd2766a",
   "metadata": {},
   "source": [
    "# Lambda function\n",
    "\n",
    "\n",
    "lambda function take any number of arguments but it can give one expression "
   ]
  },
  {
   "cell_type": "code",
   "execution_count": 15,
   "id": "2998ef2d",
   "metadata": {},
   "outputs": [
    {
     "name": "stdout",
     "output_type": "stream",
     "text": [
      "25\n"
     ]
    }
   ],
   "source": [
    "def square(num):\n",
    "    return num*num\n",
    "s = lambda num : num*num\n",
    "res = s(5)\n",
    "print(res)"
   ]
  },
  {
   "cell_type": "code",
   "execution_count": null,
   "id": "40baf648",
   "metadata": {},
   "outputs": [],
   "source": []
  },
  {
   "cell_type": "code",
   "execution_count": 16,
   "id": "5c142a8b",
   "metadata": {},
   "outputs": [
    {
     "name": "stdout",
     "output_type": "stream",
     "text": [
      "10\n"
     ]
    }
   ],
   "source": [
    "def add(x,y):\n",
    "    return x+y\n",
    "s1 = lambda x,y : x+y\n",
    "res = s1(2,8)\n",
    "print(res)"
   ]
  },
  {
   "cell_type": "code",
   "execution_count": 23,
   "id": "5eb214db",
   "metadata": {},
   "outputs": [
    {
     "name": "stdout",
     "output_type": "stream",
     "text": [
      "enter the number\n",
      "10\n",
      "\n",
      "enter the number\n",
      "20\n",
      "\n",
      "enter the number\n",
      "30\n",
      "\n",
      "enter the number\n",
      "40\n",
      "\n",
      "enter the number\n",
      "50\n",
      "\n",
      "10\n",
      "20\n",
      "30\n",
      "40\n",
      "50\n"
     ]
    }
   ],
   "source": [
    "l =[]\n",
    "i = 0\n",
    "while(i<= 4):\n",
    "    print(\"enter the number\")\n",
    "    num = int(input())\n",
    "    l.insert(i,num)\n",
    "    i = i+1\n",
    "for i in l:\n",
    "    print(i)\n",
    "    \n"
   ]
  },
  {
   "cell_type": "code",
   "execution_count": 30,
   "id": "b1789d23",
   "metadata": {},
   "outputs": [
    {
     "name": "stdout",
     "output_type": "stream",
     "text": [
      "enter the number\n",
      "10\n",
      "enter the number\n",
      "20\n",
      "enter the number\n",
      "30\n",
      "enter the number\n",
      "40\n",
      "enter the number\n",
      "50\n",
      "10\n",
      "20\n",
      "30\n",
      "40\n",
      "50\n"
     ]
    }
   ],
   "source": [
    "l =[]\n",
    "i = 0\n",
    "while(i<= 4):\n",
    "    print(\"enter the number\")\n",
    "    num = int(input())\n",
    "    l.insert(i,num)\n",
    "    i = i+1\n",
    "i =0\n",
    "while(i<=4):\n",
    "    print(l[i])\n",
    "    i=i+1\n"
   ]
  },
  {
   "cell_type": "code",
   "execution_count": 5,
   "id": "5a25e290",
   "metadata": {},
   "outputs": [
    {
     "name": "stdout",
     "output_type": "stream",
     "text": [
      "2\n",
      "4\n",
      "6\n"
     ]
    }
   ],
   "source": [
    "num = [1,2,3,4,5,6,7]\n",
    "\n",
    "\n",
    "for i in num:\n",
    "    if i%2 == 0:\n",
    "        print(i)\n",
    "    "
   ]
  },
  {
   "cell_type": "code",
   "execution_count": 9,
   "id": "86fddb3e",
   "metadata": {},
   "outputs": [
    {
     "name": "stdout",
     "output_type": "stream",
     "text": [
      "enter a values\n",
      "10\n",
      "enter a values\n",
      "15\n",
      "enter a values\n",
      "12\n",
      "enter a values\n",
      "14\n",
      "enter a values\n",
      "45\n",
      "10\n",
      "12\n",
      "14\n"
     ]
    }
   ],
   "source": [
    "def even(num):\n",
    "    if(num%2 == 0):\n",
    "        return True\n",
    "    else:\n",
    "        return False\n",
    "        \n",
    "l =[]\n",
    "i =0\n",
    "while(i<=4):\n",
    "    print(\"enter a values\")\n",
    "    num = int(input())\n",
    "    l.insert(i,num)\n",
    "    i = i+1\n",
    "i =0\n",
    "while(i<=4):\n",
    "    data = l[i]\n",
    "    status = even(data)\n",
    "    if(status == True):\n",
    "        print(l[i])\n",
    "    i += 1"
   ]
  },
  {
   "cell_type": "code",
   "execution_count": 12,
   "id": "56c400ee",
   "metadata": {},
   "outputs": [
    {
     "name": "stdout",
     "output_type": "stream",
     "text": [
      "enter a values\n",
      "12\n",
      "enter a values\n",
      "13\n",
      "enter a values\n",
      "14\n",
      "enter a values\n",
      "15\n",
      "enter a values\n",
      "111111116\n",
      "[12, 14, 111111116]\n"
     ]
    }
   ],
   "source": [
    "def even(num):\n",
    "    if(num%2 == 0):\n",
    "        return True\n",
    "    else:\n",
    "        return False\n",
    "        \n",
    "l =[]\n",
    "i =0\n",
    "while(i<=4):\n",
    "    print(\"enter a values\")\n",
    "    num = int(input())\n",
    "    l.insert(i,num)\n",
    "    i = i+1\n",
    "\n",
    "k = list(filter(even,l))\n",
    "print(k)"
   ]
  },
  {
   "cell_type": "code",
   "execution_count": 13,
   "id": "92eceafb",
   "metadata": {},
   "outputs": [
    {
     "name": "stdout",
     "output_type": "stream",
     "text": [
      "enter a values\n",
      "12\n",
      "enter a values\n",
      "13\n",
      "enter a values\n",
      "14\n",
      "enter a values\n",
      "15\n",
      "enter a values\n",
      "16\n",
      "[12, 14, 16]\n"
     ]
    }
   ],
   "source": [
    "def even(num):\n",
    "    if(num%2 == 0):\n",
    "        return True\n",
    "    else:\n",
    "        return False\n",
    "        \n",
    "l =[]\n",
    "i =0\n",
    "while(i<=4):\n",
    "    print(\"enter a values\")\n",
    "    num = int(input())\n",
    "    l.insert(i,num)\n",
    "    i = i+1\n",
    "\n",
    "k = list(filter(lambda num :(num%2==0),l))\n",
    "print(k)"
   ]
  },
  {
   "cell_type": "code",
   "execution_count": 16,
   "id": "6b173391",
   "metadata": {},
   "outputs": [
    {
     "name": "stdout",
     "output_type": "stream",
     "text": [
      "enter a number\n",
      "1\n",
      "enter a number\n",
      "2\n",
      "enter a number\n",
      "3\n",
      "enter a number\n",
      "4\n",
      "enter a number\n",
      "5\n",
      "[11, 12, 13, 14, 15]\n"
     ]
    }
   ],
   "source": [
    "def operation(data):\n",
    "    return data+10\n",
    "\n",
    "l =[]\n",
    "i =0\n",
    "while(i<=4):\n",
    "    print(\"enter a number\")\n",
    "    num = int(input())\n",
    "    l.insert(i,num)\n",
    "    i = i+1\n",
    "    \n",
    "k = list(map(operation,l))\n",
    "print(k)"
   ]
  },
  {
   "cell_type": "code",
   "execution_count": 1,
   "id": "c91ecb5c",
   "metadata": {},
   "outputs": [
    {
     "name": "stdout",
     "output_type": "stream",
     "text": [
      "enter a values\n",
      "1\n",
      "enter a values\n",
      "2\n",
      "enter a values\n",
      "3\n",
      "enter a values\n",
      "4\n",
      "enter a values\n",
      "5\n",
      "[11, 12, 13, 14, 15]\n"
     ]
    }
   ],
   "source": [
    "def even(num):\n",
    "    if(num%2 == 0):\n",
    "        return True\n",
    "    else:\n",
    "        return False\n",
    "        \n",
    "l =[]\n",
    "i =0\n",
    "while(i<=4):\n",
    "    print(\"enter a values\")\n",
    "    num = int(input())\n",
    "    l.insert(i,num)\n",
    "    i = i+1\n",
    "\n",
    "k = list(map(lambda data:(data+10),l))\n",
    "print(k)"
   ]
  },
  {
   "cell_type": "markdown",
   "id": "2c74d47b",
   "metadata": {},
   "source": [
    "#  Nested fun"
   ]
  },
  {
   "cell_type": "code",
   "execution_count": 9,
   "id": "12199783",
   "metadata": {},
   "outputs": [
    {
     "name": "stdout",
     "output_type": "stream",
     "text": [
      "inside outer\n",
      "inside fun\n"
     ]
    }
   ],
   "source": [
    "def outer():\n",
    "    print(\"inside outer\")\n",
    "    \n",
    "    def inner():\n",
    "        print(\"inside fun\" )\n",
    "    inner()\n",
    "outer()\n"
   ]
  },
  {
   "cell_type": "code",
   "execution_count": 10,
   "id": "d18b56fe",
   "metadata": {},
   "outputs": [
    {
     "name": "stdout",
     "output_type": "stream",
     "text": [
      "10\n",
      "20\n",
      "10\n"
     ]
    }
   ],
   "source": [
    "def fun():\n",
    "    a = 10\n",
    "    print(a)\n",
    "    def fun1():\n",
    "        b = 20\n",
    "        print(b)\n",
    "        print(a)\n",
    "    fun1()\n",
    "    \n",
    "fun()"
   ]
  },
  {
   "cell_type": "code",
   "execution_count": 11,
   "id": "4f6cc446",
   "metadata": {},
   "outputs": [
    {
     "name": "stdout",
     "output_type": "stream",
     "text": [
      "10\n",
      "20\n",
      "10\n",
      "20\n",
      "10\n"
     ]
    }
   ],
   "source": [
    "def fun():\n",
    "    a = 10\n",
    "    b = 20\n",
    "    print(a)\n",
    "    print(b)\n",
    "    def fun1():\n",
    "        b = 20\n",
    "        print(b)\n",
    "        print(a)\n",
    "    print(a)\n",
    "    fun1()\n",
    "    \n",
    "fun()"
   ]
  },
  {
   "cell_type": "code",
   "execution_count": 17,
   "id": "c1648041",
   "metadata": {},
   "outputs": [
    {
     "name": "stdout",
     "output_type": "stream",
     "text": [
      "10\n",
      "20\n",
      "10\n",
      "100\n",
      "20\n",
      "30\n",
      "20\n"
     ]
    },
    {
     "ename": "NameError",
     "evalue": "name 'c' is not defined",
     "output_type": "error",
     "traceback": [
      "\u001b[1;31m---------------------------------------------------------------------------\u001b[0m",
      "\u001b[1;31mNameError\u001b[0m                                 Traceback (most recent call last)",
      "Cell \u001b[1;32mIn[17], line 19\u001b[0m\n\u001b[0;32m     16\u001b[0m     \u001b[38;5;28mprint\u001b[39m(b)\n\u001b[0;32m     17\u001b[0m     \u001b[38;5;28mprint\u001b[39m(c)\n\u001b[1;32m---> 19\u001b[0m \u001b[43mfun\u001b[49m\u001b[43m(\u001b[49m\u001b[43m)\u001b[49m\n",
      "Cell \u001b[1;32mIn[17], line 17\u001b[0m, in \u001b[0;36mfun\u001b[1;34m()\u001b[0m\n\u001b[0;32m     15\u001b[0m fun1()\n\u001b[0;32m     16\u001b[0m \u001b[38;5;28mprint\u001b[39m(b)\n\u001b[1;32m---> 17\u001b[0m \u001b[38;5;28mprint\u001b[39m(\u001b[43mc\u001b[49m)\n",
      "\u001b[1;31mNameError\u001b[0m: name 'c' is not defined"
     ]
    }
   ],
   "source": [
    "def fun():\n",
    "    a = 10\n",
    "    b = 20\n",
    "    print(a)\n",
    "    print(b)\n",
    "    def fun1():\n",
    "        a = 100\n",
    "        b = 20\n",
    "        c = 30\n",
    "       \n",
    "        print(a)\n",
    "        print(b)\n",
    "        print(c)\n",
    "    print(a)\n",
    "    fun1()\n",
    "    print(b)\n",
    "    print(c)\n",
    "    \n",
    "fun()"
   ]
  },
  {
   "cell_type": "code",
   "execution_count": 18,
   "id": "0f0e4fa2",
   "metadata": {},
   "outputs": [
    {
     "name": "stdout",
     "output_type": "stream",
     "text": [
      "10\n",
      "100\n",
      "20\n"
     ]
    }
   ],
   "source": [
    " def fun():\n",
    "        a = 10\n",
    "        print(a)\n",
    "        \n",
    "        def fun1():\n",
    "            nonlocal a\n",
    "            a = 100\n",
    "            b = 20\n",
    "            print(a)\n",
    "            print(b)\n",
    "        fun1()\n",
    "fun()"
   ]
  },
  {
   "cell_type": "code",
   "execution_count": 19,
   "id": "79d58143",
   "metadata": {},
   "outputs": [
    {
     "name": "stdout",
     "output_type": "stream",
     "text": [
      "20\n"
     ]
    }
   ],
   "source": [
    "x = 10\n",
    "def fun():\n",
    "    x = 15\n",
    "    def  fun1():\n",
    "        x = 20\n",
    "        print(x)\n",
    "    fun1()\n",
    "    \n",
    "fun()\n",
    "        "
   ]
  },
  {
   "cell_type": "code",
   "execution_count": 1,
   "id": "1449bc6a",
   "metadata": {},
   "outputs": [
    {
     "name": "stdout",
     "output_type": "stream",
     "text": [
      "inside outer\n",
      "<function outer.<locals>.inner at 0x0000020D7B11A310>\n",
      "inside inner\n"
     ]
    }
   ],
   "source": [
    "def outer():\n",
    "    print(\"inside outer\")\n",
    "    \n",
    "    def inner():\n",
    "        print(\"inside inner\")\n",
    "    return inner\n",
    "\n",
    "res = outer()\n",
    "print(res)\n",
    "res()\n"
   ]
  },
  {
   "cell_type": "code",
   "execution_count": 2,
   "id": "c74e7ff4",
   "metadata": {},
   "outputs": [
    {
     "name": "stdout",
     "output_type": "stream",
     "text": [
      "entering outer\n",
      "entering inner\n",
      "HELLO WORLD\n",
      "leaving inner\n",
      "pgm end\n"
     ]
    }
   ],
   "source": [
    "def print_msg():\n",
    "    msg = \"hello world\"\n",
    "    return msg\n",
    "\n",
    "def outer(ptr3):\n",
    "    print(\"entering outer\")\n",
    "    \n",
    "    def inner():\n",
    "        print(\"entering inner\")\n",
    "        ref = ptr3\n",
    "        newv = ref()\n",
    "        newstr = newv.upper()\n",
    "        print(newstr)\n",
    "        print(\"leaving inner\")\n",
    "    return inner\n",
    "\n",
    "ptr1 = print_msg\n",
    "ptr2 = outer(ptr1)\n",
    "ptr2()\n",
    "print(\"pgm end\")"
   ]
  },
  {
   "cell_type": "markdown",
   "id": "b3c088e8",
   "metadata": {},
   "source": [
    "##### "
   ]
  },
  {
   "cell_type": "markdown",
   "id": "10103cec",
   "metadata": {},
   "source": [
    "# Encapsulation"
   ]
  },
  {
   "cell_type": "code",
   "execution_count": 6,
   "id": "4b2ecdd8",
   "metadata": {},
   "outputs": [
    {
     "name": "stdout",
     "output_type": "stream",
     "text": [
      "100\n"
     ]
    }
   ],
   "source": [
    "class Book:\n",
    "    def __init__(self,values):\n",
    "        self.pages = values\n",
    "        \n",
    "        \n",
    "b1 = Book(100)\n",
    "print(b1.pages)\n"
   ]
  },
  {
   "cell_type": "code",
   "execution_count": 9,
   "id": "38a5e739",
   "metadata": {},
   "outputs": [
    {
     "ename": "AttributeError",
     "evalue": "'Book' object has no attribute 'pages'",
     "output_type": "error",
     "traceback": [
      "\u001b[1;31m---------------------------------------------------------------------------\u001b[0m",
      "\u001b[1;31mAttributeError\u001b[0m                            Traceback (most recent call last)",
      "Cell \u001b[1;32mIn[9], line 7\u001b[0m\n\u001b[0;32m      3\u001b[0m         \u001b[38;5;28mself\u001b[39m\u001b[38;5;241m.\u001b[39m__pages \u001b[38;5;241m=\u001b[39m values\n\u001b[0;32m      6\u001b[0m b1 \u001b[38;5;241m=\u001b[39m Book(\u001b[38;5;241m100\u001b[39m)\n\u001b[1;32m----> 7\u001b[0m \u001b[38;5;28mprint\u001b[39m(\u001b[43mb1\u001b[49m\u001b[38;5;241;43m.\u001b[39;49m\u001b[43mpages\u001b[49m)\n",
      "\u001b[1;31mAttributeError\u001b[0m: 'Book' object has no attribute 'pages'"
     ]
    }
   ],
   "source": [
    "class Book:\n",
    "    def __init__(self,values):\n",
    "        self.__pages = values\n",
    "        \n",
    "        \n",
    "b1 = Book(100)\n",
    "print(b1.pages)\n"
   ]
  },
  {
   "cell_type": "code",
   "execution_count": 11,
   "id": "90f85db7",
   "metadata": {},
   "outputs": [
    {
     "name": "stdout",
     "output_type": "stream",
     "text": [
      "114\n",
      "114\n"
     ]
    }
   ],
   "source": [
    "class Book:\n",
    "    def __init__(self,values):\n",
    "        self.__pages = values\n",
    "        \n",
    "        \n",
    "    def setter(self,values):\n",
    "        if(values>0):\n",
    "            self.__pages=values\n",
    "            \n",
    "    def getter(self):\n",
    "        return self.__pages\n",
    "        \n",
    "        \n",
    "b1 = Book(100)\n",
    "b1.setter(114)\n",
    "\n",
    "res = b1.getter()\n",
    "print(res)\n",
    "\n",
    "b1.setter(-99)\n",
    "res = b1.getter()\n",
    "print(res)"
   ]
  },
  {
   "cell_type": "code",
   "execution_count": 13,
   "id": "62cb15de",
   "metadata": {},
   "outputs": [
    {
     "name": "stdout",
     "output_type": "stream",
     "text": [
      "Rama\n"
     ]
    }
   ],
   "source": [
    "class Student:\n",
    "    def __init__(self):\n",
    "        self.__name = \" \"\n",
    "        \n",
    "    def getter(self):\n",
    "        return self.__name\n",
    "    \n",
    "    def setter(self,value):\n",
    "        self.__name = value\n",
    "        \n",
    "s1 = Student()\n",
    "s1.setter(\"Rama\")\n",
    "ref = s1.getter()\n",
    "print(ref)"
   ]
  },
  {
   "cell_type": "code",
   "execution_count": 16,
   "id": "7ae16779",
   "metadata": {},
   "outputs": [
    {
     "name": "stdout",
     "output_type": "stream",
     "text": [
      "rama\n"
     ]
    }
   ],
   "source": [
    "class Student:\n",
    "    def __init__(self):\n",
    "        self.__name = \" \"\n",
    "        \n",
    "    def getter(self):\n",
    "        return self.__name\n",
    "    \n",
    "    def setter(self,value):\n",
    "        self.__name = value\n",
    "        \n",
    "    getset = property(getter,setter)\n",
    "        \n",
    "s1 = Student()\n",
    "s1.getset = \"rama\"\n",
    "ref = s1.getset\n",
    "print(ref)"
   ]
  },
  {
   "cell_type": "markdown",
   "id": "6a3deef4",
   "metadata": {},
   "source": [
    "# Inheritance"
   ]
  },
  {
   "cell_type": "code",
   "execution_count": 2,
   "id": "71958b05",
   "metadata": {},
   "outputs": [
    {
     "name": "stdout",
     "output_type": "stream",
     "text": [
      "20\n",
      "10\n"
     ]
    }
   ],
   "source": [
    "class Parent:\n",
    "    def __init__(self):\n",
    "        self.a = 10\n",
    "        \n",
    "class Child(Parent):\n",
    "    def __init__(self):\n",
    "        Parent.__init__(self)\n",
    "        self.b = 20\n",
    "        \n",
    "d = Child()\n",
    "print(d.b)\n",
    "print(d.a)"
   ]
  },
  {
   "cell_type": "code",
   "execution_count": 3,
   "id": "8a8c512e",
   "metadata": {},
   "outputs": [
    {
     "name": "stdout",
     "output_type": "stream",
     "text": [
      "20\n"
     ]
    },
    {
     "ename": "AttributeError",
     "evalue": "'Child' object has no attribute 'a'",
     "output_type": "error",
     "traceback": [
      "\u001b[1;31m---------------------------------------------------------------------------\u001b[0m",
      "\u001b[1;31mAttributeError\u001b[0m                            Traceback (most recent call last)",
      "Cell \u001b[1;32mIn[3], line 12\u001b[0m\n\u001b[0;32m     10\u001b[0m d \u001b[38;5;241m=\u001b[39m Child()\n\u001b[0;32m     11\u001b[0m \u001b[38;5;28mprint\u001b[39m(d\u001b[38;5;241m.\u001b[39mb)\n\u001b[1;32m---> 12\u001b[0m \u001b[38;5;28mprint\u001b[39m(\u001b[43md\u001b[49m\u001b[38;5;241;43m.\u001b[39;49m\u001b[43ma\u001b[49m)\n",
      "\u001b[1;31mAttributeError\u001b[0m: 'Child' object has no attribute 'a'"
     ]
    }
   ],
   "source": [
    "class Parent:\n",
    "    def __init__(self):\n",
    "        self.a = 10\n",
    "        \n",
    "class Child(Parent):\n",
    "    def __init__(self):\n",
    "       \n",
    "        self.b = 20\n",
    "        \n",
    "d = Child()\n",
    "print(d.b)\n",
    "print(d.a)"
   ]
  },
  {
   "cell_type": "code",
   "execution_count": 4,
   "id": "0c199b0b",
   "metadata": {},
   "outputs": [
    {
     "name": "stdout",
     "output_type": "stream",
     "text": [
      "20\n",
      "10\n",
      "30\n"
     ]
    }
   ],
   "source": [
    "class Parent:\n",
    "    def __init__(self):\n",
    "        self.a = 10\n",
    "        \n",
    "class Child(Parent):\n",
    "    def __init__(self):\n",
    "        Parent.__init__(self)\n",
    "        self.b = 20\n",
    "        \n",
    "class Child2(Child):\n",
    "    def __init__(self):\n",
    "        Child.__init__(self)\n",
    "        self.c1 = 30\n",
    "        \n",
    "cf = Child2()\n",
    "print(cf.b)\n",
    "print(cf.a)\n",
    "print(cf.c1)"
   ]
  },
  {
   "cell_type": "code",
   "execution_count": 5,
   "id": "34540964",
   "metadata": {},
   "outputs": [
    {
     "name": "stdout",
     "output_type": "stream",
     "text": [
      "plane is takeoff\n",
      "plane is flying\n",
      "plane is landing\n",
      "plane carry goods\n",
      "plane is takeoff\n",
      "plane is flying\n",
      "plane is landing\n",
      "plane carry passengers\n",
      "plane is takeoff\n",
      "plane is flying\n",
      "plane is landing\n",
      "plane carry weapons\n"
     ]
    }
   ],
   "source": [
    "class Cargoplane():\n",
    "    def takeoff(self):\n",
    "        print(\"plane is takeoff\")\n",
    "        \n",
    "    def fly(self):\n",
    "        print(\"plane is flying\")\n",
    "        \n",
    "    def land(self):\n",
    "        print(\"plane is landing\")\n",
    "        \n",
    "    def carrye(self):\n",
    "        print(\"plane carry goods\")\n",
    "        \n",
    "class Passengerplane():\n",
    "    def takeoff(self):\n",
    "        print(\"plane is takeoff\")\n",
    "        \n",
    "    def fly(self):\n",
    "        print(\"plane is flying\")\n",
    "        \n",
    "    def land(self):\n",
    "        print(\"plane is landing\")\n",
    "        \n",
    "    def carryp(self):\n",
    "        print(\"plane carry passengers\")\n",
    "        \n",
    "class Fighterplane():\n",
    "    def takeoff(self):\n",
    "        print(\"plane is takeoff\")\n",
    "        \n",
    "    def fly(self):\n",
    "        print(\"plane is flying\")\n",
    "        \n",
    "    def land(self):\n",
    "        print(\"plane is landing\")\n",
    "        \n",
    "    def carryw(self):\n",
    "        print(\"plane carry weapons\")\n",
    "        \n",
    "c = Cargoplane()\n",
    "p = Passengerplane()\n",
    "f = Fighterplane()\n",
    "c.takeoff()\n",
    "c.fly()\n",
    "c.land()\n",
    "c.carrye()\n",
    "p.takeoff()\n",
    "p.fly()\n",
    "p.land()\n",
    "p.carryp()\n",
    "f.takeoff()\n",
    "f.fly()\n",
    "f.land()\n",
    "f.carryw()\n"
   ]
  },
  {
   "cell_type": "code",
   "execution_count": 6,
   "id": "fce3784f",
   "metadata": {},
   "outputs": [
    {
     "name": "stdout",
     "output_type": "stream",
     "text": [
      "plane is takeoff\n",
      "plane is flying\n",
      "plane is landing\n",
      "plane carry goods\n",
      "plane is takeoff\n",
      "plane is flying\n",
      "plane is landing\n",
      "plane carry passengers\n",
      "plane is takeoff\n",
      "plane is flying\n",
      "plane is landing\n",
      "plane carry weapons\n"
     ]
    }
   ],
   "source": [
    "class Plane:\n",
    "    def takeoff(self):\n",
    "        print(\"plane is takeoff\")\n",
    "        \n",
    "    def fly(self):\n",
    "        print(\"plane is flying\")\n",
    "        \n",
    "    def land(self):\n",
    "        print(\"plane is landing\")\n",
    "    \n",
    "\n",
    "class Cargoplane(Plane):\n",
    "    \n",
    "        \n",
    "    def carrye(self):\n",
    "        print(\"plane carry goods\")\n",
    "        \n",
    "class Passengerplane(Plane):\n",
    "    \n",
    "        \n",
    "    def carryp(self):\n",
    "        print(\"plane carry passengers\")\n",
    "        \n",
    "class Fighterplane(Plane):\n",
    "\n",
    "        \n",
    "    def carryw(self):\n",
    "        print(\"plane carry weapons\")\n",
    "        \n",
    "c = Cargoplane()\n",
    "p = Passengerplane()\n",
    "f = Fighterplane()\n",
    "c.takeoff()\n",
    "c.fly()\n",
    "c.land()\n",
    "c.carrye()\n",
    "p.takeoff()\n",
    "p.fly()\n",
    "p.land()\n",
    "p.carryp()\n",
    "f.takeoff()\n",
    "f.fly()\n",
    "f.land()\n",
    "f.carryw()\n"
   ]
  },
  {
   "cell_type": "code",
   "execution_count": 12,
   "id": "f31a7abf",
   "metadata": {},
   "outputs": [
    {
     "name": "stdout",
     "output_type": "stream",
     "text": [
      "animal take breathing\n",
      "tiget hunt and eat\n"
     ]
    }
   ],
   "source": [
    "class Animal:\n",
    "    def breath(self):\n",
    "        print(\"animal is breathing\")\n",
    "        \n",
    "    def eat(self):\n",
    "        print(\"eating\")\n",
    "        \n",
    "    def sleep(self):\n",
    "        print(\"sleeping\")\n",
    "    \n",
    "\n",
    "class Tiger(Animal):\n",
    "    def eat(self):\n",
    "        print(\"tiget hunt and eat\")\n",
    "class Dog(Animal):\n",
    "    pass\n",
    "        \n",
    "class Monkey(Animal):\n",
    "    pass\n",
    "    \n",
    "c = Tiger()\n",
    "d = Dog()\n",
    "m = Monkey()\n",
    "c.breath()\n",
    "c.eat()\n",
    "        "
   ]
  },
  {
   "cell_type": "code",
   "execution_count": 6,
   "id": "b295697c",
   "metadata": {},
   "outputs": [
    {
     "name": "stdout",
     "output_type": "stream",
     "text": [
      "30\n",
      "20\n",
      "10\n"
     ]
    }
   ],
   "source": [
    "class A:\n",
    "    def __init__(self):\n",
    "        self.a = 10\n",
    "        \n",
    "class B(A):\n",
    "    def __init__(self):\n",
    "        super().__init__()\n",
    "        self.b = 20\n",
    "\n",
    "class C(B):\n",
    "    def __init__(self):\n",
    "        super().__init__()\n",
    "        self.c = 30\n",
    "        \n",
    "cf = C()\n",
    "print(cf.c)\n",
    "print(cf.b)\n",
    "print(cf.a)\n",
    "    "
   ]
  },
  {
   "cell_type": "code",
   "execution_count": null,
   "id": "273d9f7e",
   "metadata": {},
   "outputs": [],
   "source": []
  }
 ],
 "metadata": {
  "kernelspec": {
   "display_name": "Python 3 (ipykernel)",
   "language": "python",
   "name": "python3"
  },
  "language_info": {
   "codemirror_mode": {
    "name": "ipython",
    "version": 3
   },
   "file_extension": ".py",
   "mimetype": "text/x-python",
   "name": "python",
   "nbconvert_exporter": "python",
   "pygments_lexer": "ipython3",
   "version": "3.9.12"
  }
 },
 "nbformat": 4,
 "nbformat_minor": 5
}
