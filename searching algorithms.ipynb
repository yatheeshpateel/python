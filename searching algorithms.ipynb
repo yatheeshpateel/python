{
 "cells": [
  {
   "cell_type": "markdown",
   "id": "4a9e51de",
   "metadata": {},
   "source": [
    "# Linear search"
   ]
  },
  {
   "cell_type": "code",
   "execution_count": null,
   "id": "d2b5652c",
   "metadata": {},
   "outputs": [],
   "source": [
    "def l_search(list,key):\n",
    "    for i in range(0,len(list)):\n",
    "        if list[i] == key:\n",
    "            return i\n",
    "    return -1\n",
    "list = [10,20,30,40,50,60]\n",
    "key = 40\n",
    "res = l_search(list,key)\n",
    "if res>= 0:\n",
    "    \n",
    "    print(\"element found at\", res)\n",
    "else:\n",
    "    print(\"element not found\")"
   ]
  },
  {
   "cell_type": "code",
   "execution_count": 5,
   "id": "a710c98a",
   "metadata": {},
   "outputs": [
    {
     "name": "stdout",
     "output_type": "stream",
     "text": [
      "element is found 5\n"
     ]
    }
   ],
   "source": [
    "def l_seaarch(l,key):\n",
    "    for i in range(0,len(l)):\n",
    "        if l[i] == key:\n",
    "            return i\n",
    "    return -1\n",
    "l = [1,20,70,40,20,30]\n",
    "key = 30\n",
    "index = l_seaarch(l,key)\n",
    "if(index>=0):\n",
    "    print(\"element is found\",index)\n",
    "else:\n",
    "    print(\"element is not found\")"
   ]
  },
  {
   "cell_type": "markdown",
   "id": "02750a2d-41eb-4f4d-8ec0-9b55d97beaec",
   "metadata": {},
   "source": [
    "# Binary search"
   ]
  },
  {
   "cell_type": "code",
   "execution_count": 12,
   "id": "d5f720c4-9fd3-4444-a20f-2e2aa6fea588",
   "metadata": {},
   "outputs": [
    {
     "name": "stdout",
     "output_type": "stream",
     "text": [
      "80\n"
     ]
    }
   ],
   "source": [
    "def find_max(l):\n",
    "    max = l[0]\n",
    "    for i in l:\n",
    "        if i>max:\n",
    "            max = i\n",
    "    return max\n",
    "l = [10,20,30,40,80,33]\n",
    "res = find_max(l)\n",
    "print(res)"
   ]
  },
  {
   "cell_type": "code",
   "execution_count": 14,
   "id": "db091010-50db-4dbf-a163-80ac4cd4dccf",
   "metadata": {},
   "outputs": [
    {
     "name": "stdout",
     "output_type": "stream",
     "text": [
      "10\n"
     ]
    }
   ],
   "source": [
    "def find_max(l):\n",
    "    max = l[0]\n",
    "    for i in l:\n",
    "        if i<max:\n",
    "            max = i\n",
    "    return max\n",
    "l = [10,20,30,40,80,33]\n",
    "res = find_max(l)\n",
    "print(res)\n"
   ]
  },
  {
   "cell_type": "code",
   "execution_count": 16,
   "id": "de7298b5-713a-4949-bd0b-8a203ebfce39",
   "metadata": {},
   "outputs": [
    {
     "name": "stdout",
     "output_type": "stream",
     "text": [
      "213\n"
     ]
    }
   ],
   "source": [
    "def sum_list(l):\n",
    "    sum = 0\n",
    "    for i in range(0,len(l)):\n",
    "        sum = sum + l[i]\n",
    "    return sum \n",
    "l = [10,20,30,40,80,33]\n",
    "res = sum_list(l)\n",
    "print(res)\n"
   ]
  },
  {
   "cell_type": "code",
   "execution_count": 20,
   "id": "93564d50-9c2b-426a-8734-a61c31d89a3c",
   "metadata": {},
   "outputs": [
    {
     "name": "stdout",
     "output_type": "stream",
     "text": [
      "79\n"
     ]
    }
   ],
   "source": [
    "def find_max(l):\n",
    "    max = l[0]\n",
    "    max1 = l[0]\n",
    "    for i in l:\n",
    "        if i>max:\n",
    "            max1= max\n",
    "            max = i\n",
    "        elif max1<i:\n",
    "            max1 = i\n",
    "    return max1\n",
    "    return max\n",
    "l = [10,79,30,40,80,33]\n",
    "res = find_max(l)\n",
    "print(res)"
   ]
  },
  {
   "cell_type": "code",
   "execution_count": 22,
   "id": "325af322-ec16-4ed1-9f4b-d8d07ed824ef",
   "metadata": {},
   "outputs": [
    {
     "name": "stdout",
     "output_type": "stream",
     "text": [
      "9\n"
     ]
    }
   ],
   "source": [
    "def sum_even(l):\n",
    "    sum = 0\n",
    "    for i in range(0,len(l)):\n",
    "        if i%2 == 0:\n",
    "            sum = sum+l[i]\n",
    "    return sum\n",
    "l = [1,2,3,4,5,6]\n",
    "res = sum_even(l)\n",
    "print(res)"
   ]
  },
  {
   "cell_type": "code",
   "execution_count": 24,
   "id": "431b4dcd-4628-4541-b7ad-c5d94708a15b",
   "metadata": {},
   "outputs": [
    {
     "data": {
      "text/plain": [
       "1"
      ]
     },
     "execution_count": 24,
     "metadata": {},
     "output_type": "execute_result"
    }
   ],
   "source": [
    "1%2"
   ]
  },
  {
   "cell_type": "markdown",
   "id": "091db507-8e24-4804-891b-7f0e21010970",
   "metadata": {},
   "source": [
    "# Binary Search\n"
   ]
  },
  {
   "cell_type": "code",
   "execution_count": 7,
   "id": "243f9d63-1d88-4d2b-ae57-24c78e3d64f8",
   "metadata": {},
   "outputs": [
    {
     "name": "stdin",
     "output_type": "stream",
     "text": [
      "enter a number to search 3\n"
     ]
    },
    {
     "name": "stdout",
     "output_type": "stream",
     "text": [
      "2\n"
     ]
    }
   ],
   "source": [
    "def binary_s(l,k):\n",
    "    low = 0\n",
    "    high = len(l)-1\n",
    "    while(low<=high):\n",
    "        \n",
    "        mid = (low+high)//2\n",
    "        if k == l[mid]:\n",
    "            return mid\n",
    "        elif k>l[mid]:\n",
    "            low = mid+1\n",
    "        else:\n",
    "            high = mid-1\n",
    "    return -1\n",
    "l = [1,2,3,4,5,6,7]\n",
    "k = int(input(\"enter a number to search\"))\n",
    "res = binary_s(l,k)\n",
    "print(res)\n",
    "    "
   ]
  },
  {
   "cell_type": "code",
   "execution_count": 9,
   "id": "755b8288-b233-423f-bf6e-77c38992155e",
   "metadata": {},
   "outputs": [
    {
     "name": "stdout",
     "output_type": "stream",
     "text": [
      "[40, 30, 20, 10, 5]\n"
     ]
    }
   ],
   "source": [
    "a = [20,10,30,40,5]\n",
    "for i in range(0,len(a)-1):\n",
    "    for j in range(0,len(a)-1):\n",
    "        if a[j]<a[j+1]:\n",
    "            a[j],a[j+1] = a[j+1],a[j]\n",
    "print(a)"
   ]
  },
  {
   "cell_type": "code",
   "execution_count": 19,
   "id": "09a50e32-564b-480b-8390-fa33b36940b5",
   "metadata": {},
   "outputs": [
    {
     "name": "stdout",
     "output_type": "stream",
     "text": [
      "sorted\n"
     ]
    }
   ],
   "source": [
    "a = [10,20,30,40]\n",
    "\n",
    "for j in range(0,len(a)-1):\n",
    "    if a[j]<a[j+1]:\n",
    "        pass\n",
    "\n",
    "\n",
    "    else:\n",
    "        print(\"not sorted\")\n",
    "print(\"sorted\")"
   ]
  },
  {
   "cell_type": "code",
   "execution_count": null,
   "id": "9828065a-e19a-4694-b946-ecb3f43b218f",
   "metadata": {},
   "outputs": [],
   "source": []
  }
 ],
 "metadata": {
  "kernelspec": {
   "display_name": "Python 3 (ipykernel)",
   "language": "python",
   "name": "python3"
  },
  "language_info": {
   "codemirror_mode": {
    "name": "ipython",
    "version": 3
   },
   "file_extension": ".py",
   "mimetype": "text/x-python",
   "name": "python",
   "nbconvert_exporter": "python",
   "pygments_lexer": "ipython3",
   "version": "3.9.19"
  }
 },
 "nbformat": 4,
 "nbformat_minor": 5
}
