{
 "cells": [
  {
   "cell_type": "code",
   "execution_count": 4,
   "id": "afa02359",
   "metadata": {},
   "outputs": [
    {
     "name": "stdout",
     "output_type": "stream",
     "text": [
      "[10, 20, 40, 50, 60]\n",
      "[10, 20, 40, 50]\n",
      "[10, 20, 50]\n",
      "1\n"
     ]
    }
   ],
   "source": [
    "a = [10,20,30,40,50,60]\n",
    "a.remove(30)\n",
    "print(a)\n",
    "a.pop()\n",
    "print(a)\n",
    "a.pop(2)\n",
    "print(a)\n",
    "print(a.index(20))\n"
   ]
  },
  {
   "cell_type": "code",
   "execution_count": 6,
   "id": "6a2eeefe",
   "metadata": {},
   "outputs": [
    {
     "name": "stdout",
     "output_type": "stream",
     "text": [
      "[10, 20, 40, 50, 60]\n",
      "[10, 20, 40, 50]\n",
      "[10, 20, 50]\n",
      "1\n",
      "[]\n"
     ]
    },
    {
     "ename": "NameError",
     "evalue": "name 'a' is not defined",
     "output_type": "error",
     "traceback": [
      "\u001b[1;31m---------------------------------------------------------------------------\u001b[0m",
      "\u001b[1;31mNameError\u001b[0m                                 Traceback (most recent call last)",
      "Cell \u001b[1;32mIn[6], line 12\u001b[0m\n\u001b[0;32m     10\u001b[0m \u001b[38;5;28mprint\u001b[39m(a)\n\u001b[0;32m     11\u001b[0m \u001b[38;5;28;01mdel\u001b[39;00m a\n\u001b[1;32m---> 12\u001b[0m \u001b[38;5;28mprint\u001b[39m(\u001b[43ma\u001b[49m)\n",
      "\u001b[1;31mNameError\u001b[0m: name 'a' is not defined"
     ]
    }
   ],
   "source": [
    "a = [10,20,30,40,50,60]\n",
    "a.remove(30)\n",
    "print(a)\n",
    "a.pop()\n",
    "print(a)\n",
    "a.pop(2)\n",
    "print(a)\n",
    "print(a.index(20))\n",
    "a.clear()\n",
    "print(a)\n",
    "del a\n",
    "print(a)"
   ]
  },
  {
   "cell_type": "code",
   "execution_count": 7,
   "id": "6db4de44",
   "metadata": {},
   "outputs": [
    {
     "name": "stdout",
     "output_type": "stream",
     "text": [
      "10\n",
      "20\n",
      "30\n",
      "40\n",
      "50\n"
     ]
    }
   ],
   "source": [
    "a= [10,20,30,40,50]\n",
    "for i in a:\n",
    "    print(i)"
   ]
  },
  {
   "cell_type": "code",
   "execution_count": 9,
   "id": "51dd1713",
   "metadata": {},
   "outputs": [
    {
     "name": "stdout",
     "output_type": "stream",
     "text": [
      "0   10\n",
      "1   20\n",
      "2   30\n",
      "3   40\n",
      "4   50\n"
     ]
    }
   ],
   "source": [
    "a= [10,20,30,40,50]\n",
    "for index,value in enumerate(a):\n",
    "    print(index,\" \",value)"
   ]
  },
  {
   "cell_type": "code",
   "execution_count": 1,
   "id": "81441a7d",
   "metadata": {},
   "outputs": [
    {
     "name": "stdout",
     "output_type": "stream",
     "text": [
      "[10, 20, 30, [1.1, 2.2], 40, 50]\n",
      "6\n",
      "30\n",
      "2.2\n"
     ]
    }
   ],
   "source": [
    "a = [10,20,30,[1.1,2.2],40,50]\n",
    "print(a)\n",
    "print(len(a))\n",
    "print(a[2])\n",
    "print(a[3][1])"
   ]
  },
  {
   "cell_type": "code",
   "execution_count": 3,
   "id": "1a656cce",
   "metadata": {},
   "outputs": [
    {
     "name": "stdout",
     "output_type": "stream",
     "text": [
      "5\n",
      "['rama', [4.5, 5.8, [45, 80], 6.9], 'sita', [2.2, 3.3, [25, 50], 'a'], 'ravana']\n",
      "sita\n",
      "6.9\n",
      "45\n",
      "ravana\n",
      "a\n",
      "50\n"
     ]
    }
   ],
   "source": [
    "a = ['rama',[4.5,5.8,[45,80],6.9],'sita',[2.2,3.3,[25,50],'a'],'ravana']\n",
    "print(len(a))\n",
    "print(a)\n",
    "print(a[2])\n",
    "print(a[1][3])\n",
    "print(a[1][2][0])\n",
    "print(a[4])\n",
    "print(a[3][3])\n",
    "print(a[3][2][1])"
   ]
  },
  {
   "cell_type": "code",
   "execution_count": 4,
   "id": "27df3f95",
   "metadata": {},
   "outputs": [
    {
     "name": "stdout",
     "output_type": "stream",
     "text": [
      "[10, 20, 30, 40, [50]]\n",
      "[10, 20, 30, 40, [50]]\n",
      "[10, 20, 30, 40, [100]]\n",
      "[10, 20, 30, 40, [100]]\n"
     ]
    }
   ],
   "source": [
    "a = [10,20,30,40,[50]]\n",
    "print(a)\n",
    "a1 = a\n",
    "print(a1)\n",
    "a[4][0] = 100\n",
    "print(a)\n",
    "print(a1)"
   ]
  },
  {
   "cell_type": "code",
   "execution_count": 5,
   "id": "64badb04",
   "metadata": {},
   "outputs": [
    {
     "name": "stdout",
     "output_type": "stream",
     "text": [
      "[10, 20, 30, 40, [50]]\n",
      "[10, 20, 30, 40, [50]]\n",
      "[10, 20, 30, 40, [50]]\n",
      "[10, 20, 30, 40, [100]]\n",
      "[10, 20, 30, 40, [100]]\n",
      "[10, 20, 30, 40, [100]]\n"
     ]
    }
   ],
   "source": [
    "a = [10,20,30,40,[50]]\n",
    "print(a)\n",
    "a1 = a\n",
    "a2 = a.copy()\n",
    "print(a1)\n",
    "print(a2)\n",
    "a[4][0] = 100\n",
    "print(a)\n",
    "print(a1)\n",
    "print(a2)"
   ]
  },
  {
   "cell_type": "code",
   "execution_count": 6,
   "id": "576c942e",
   "metadata": {},
   "outputs": [
    {
     "name": "stdout",
     "output_type": "stream",
     "text": [
      "[10, 20, 30, 40, [50]]\n",
      "[10, 20, 30, 40, [50]]\n",
      "[10, 20, 30, 40, [50]]\n",
      "[10, 20, 30, 40, [100]]\n",
      "[10, 20, 30, 40, [100]]\n",
      "[10, 20, 30, 40, [50]]\n"
     ]
    }
   ],
   "source": [
    "import copy\n",
    "a = [10,20,30,40,[50]]\n",
    "print(a)\n",
    "a1 = a\n",
    "a2 = copy.deepcopy(a)\n",
    "print(a1)\n",
    "print(a2)\n",
    "a[4][0] = 100\n",
    "print(a)\n",
    "print(a1)\n",
    "print(a2)"
   ]
  },
  {
   "cell_type": "code",
   "execution_count": 7,
   "id": "bfb605ef",
   "metadata": {},
   "outputs": [
    {
     "name": "stdout",
     "output_type": "stream",
     "text": [
      "[0, 1, 2, 3, 4, 5, 6, 7, 8, 9]\n",
      "[10, 11, 12, 13, 14]\n",
      "[15, 18, 21, 24]\n"
     ]
    }
   ],
   "source": [
    "a = list(range(10))\n",
    "b = list(range(10,15))\n",
    "c = list(range(15,25,3))\n",
    "\n",
    "print(a)\n",
    "print(b)\n",
    "print(c)"
   ]
  },
  {
   "cell_type": "code",
   "execution_count": 8,
   "id": "99605408",
   "metadata": {},
   "outputs": [
    {
     "name": "stdout",
     "output_type": "stream",
     "text": [
      "[11, 21, 31, 41, 51]\n"
     ]
    }
   ],
   "source": [
    "a = [10,20,30,40,50]\n",
    "b = []\n",
    "for i in a:\n",
    "    newdata = i+1\n",
    "    b.append(newdata)\n",
    "print(b)"
   ]
  },
  {
   "cell_type": "code",
   "execution_count": 11,
   "id": "574a900b",
   "metadata": {},
   "outputs": [
    {
     "name": "stdout",
     "output_type": "stream",
     "text": [
      "SITA\n"
     ]
    }
   ],
   "source": [
    "a = [\"rama\",\"sita\"]\n",
    "b = []\n",
    "for i in a:\n",
    "    b = i.upper()\n",
    "print(b)"
   ]
  },
  {
   "cell_type": "code",
   "execution_count": null,
   "id": "acc9d8d1",
   "metadata": {},
   "outputs": [],
   "source": []
  }
 ],
 "metadata": {
  "kernelspec": {
   "display_name": "Python 3 (ipykernel)",
   "language": "python",
   "name": "python3"
  },
  "language_info": {
   "codemirror_mode": {
    "name": "ipython",
    "version": 3
   },
   "file_extension": ".py",
   "mimetype": "text/x-python",
   "name": "python",
   "nbconvert_exporter": "python",
   "pygments_lexer": "ipython3",
   "version": "3.9.12"
  }
 },
 "nbformat": 4,
 "nbformat_minor": 5
}
